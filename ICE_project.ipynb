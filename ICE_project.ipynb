{
  "cells": [
    {
      "cell_type": "markdown",
      "metadata": {
        "id": "view-in-github",
        "colab_type": "text"
      },
      "source": [
        "<a href=\"https://colab.research.google.com/github/alatieh/Statistics-of-the-Sea-Ice/blob/main/ICE_project.ipynb\" target=\"_parent\"><img src=\"https://colab.research.google.com/assets/colab-badge.svg\" alt=\"Open In Colab\"/></a>"
      ]
    },
    {
      "source": [
        "In this project I will invistigate the Sea Ice Extent.  \n",
        "First I will invistigate the statistics of the Ice extent in the northern and Southern Hemisphere.  \n",
        "Then I will try to find if there is a relation between Ice extent and (Sea Surface Temperture, fresh water input from rivers)."
      ],
      "metadata": {
        "id": "027b0b2d-175f-440d-bf2d-19c5d4bca88f"
      },
      "id": "027b0b2d-175f-440d-bf2d-19c5d4bca88f",
      "cell_type": "markdown"
    },
    {
      "source": [
        "# # install these packages if needed\n",
        "# install.packages(\"animation\")\n",
        "# install.packages(\"magick\")\n",
        "# install.packages('gganimate')\n",
        "# install.packages('transformr')\n",
        "# install.packages('gifski')"
      ],
      "metadata": {
        "executionCancelledAt": null,
        "executionTime": 48,
        "lastExecutedAt": 1698056470919,
        "lastScheduledRunId": null,
        "lastSuccessfullyExecutedCode": "# # install these packages if needed\n# install.packages(\"animation\")\n# install.packages(\"magick\")\n# install.packages('gganimate')\n# install.packages('transformr')\n# install.packages('gifski')",
        "outputsMetadata": {
          "0": {
            "height": 134,
            "type": "stream"
          }
        },
        "id": "59cee964-7c42-4260-b8a5-a3a515ab4acb"
      },
      "cell_type": "code",
      "id": "59cee964-7c42-4260-b8a5-a3a515ab4acb",
      "execution_count": null,
      "outputs": []
    },
    {
      "source": [
        "# importing the needed libraries\n",
        "library(tidyverse)\n",
        "library(readxl)\n",
        "library(ggplot2)\n",
        "library(gganimate)\n",
        "library(transformr)\n",
        "library(gifski)\n"
      ],
      "metadata": {
        "executionCancelledAt": null,
        "executionTime": 47,
        "lastExecutedAt": 1698056470967,
        "lastScheduledRunId": null,
        "lastSuccessfullyExecutedCode": "# importing the needed libraries \nlibrary(tidyverse)\nlibrary(readxl)\nlibrary(ggplot2)\nlibrary(gganimate)\nlibrary(transformr)\nlibrary(gifski)\n",
        "outputsMetadata": {
          "0": {
            "height": 134,
            "type": "stream"
          }
        },
        "id": "2b7f6d0a-2d50-4278-8bc9-8748e3291b3a"
      },
      "id": "2b7f6d0a-2d50-4278-8bc9-8748e3291b3a",
      "cell_type": "code",
      "execution_count": null,
      "outputs": []
    },
    {
      "source": [
        "# Importing the Sea Icea data base from NSIDC"
      ],
      "metadata": {
        "id": "6d263bc0-61bd-4ea7-9748-7e7a0e2aa2e5"
      },
      "id": "6d263bc0-61bd-4ea7-9748-7e7a0e2aa2e5",
      "cell_type": "markdown"
    },
    {
      "source": [
        "We used the 'Sea ice extent and area organized by year' data. It is obtained from National Snow and Ice Data Center NSIDC [website](https://nsidc.org/arcticseaicenews/sea-ice-tools/)\n",
        "\n",
        "\n",
        "We will use the NH-Extent and SH-Extent data which contains sea ice extent data for the respective hemisphere. We chose the variable _Ice Sea Extent_ from the data because it is measured with a higher certainty than the _Ice Sea Area_ variable.\n",
        "\n",
        "Since the NSIDC data in Excel format, we invistigated it first in excel in our preliminary analysis. The data that we need ( The NH_sea_Ice and the SH_sea_Ice are the sheets 1 and 3)"
      ],
      "metadata": {
        "id": "3da96c4b-b99c-4309-9f49-7ef0a567a2d0"
      },
      "id": "3da96c4b-b99c-4309-9f49-7ef0a567a2d0",
      "cell_type": "markdown"
    },
    {
      "source": [
        "# In this part of the code we download the excel from the NSIDC website.\n",
        "# Then, In the next two steps:\n",
        "#\t\t\t\t\t\t\tWe will work out the data from North Hemisphere NH sea ice\n",
        "#\t\t\t\t\t\t\tThen we will repeat the same work on data the South Hemisphere SH sea ice\n",
        "\n",
        "# importing Sea ice extent and area organized by year from the NSIDC website\n",
        "NSIDC_url <- \"https://masie_web.apps.nsidc.org/pub/DATASETS/NOAA/G02135/seaice_analysis/Sea_Ice_Index_Monthly_Data_by_Year_G02135_v3.0.xlsx\"\n",
        "\n",
        "# Download the excel file to a temporary location\n",
        "temp_file_NSIDC <- tempfile()\n",
        "download.file(NSIDC_url, temp_file_NSIDC, mode = \"wb\")"
      ],
      "metadata": {
        "executionCancelledAt": null,
        "executionTime": 714,
        "lastExecutedAt": 1698056471682,
        "lastScheduledRunId": null,
        "lastSuccessfullyExecutedCode": "# In this part of the code we download the excel from the NSIDC website.\n# Then, In the next two steps:\n#\t\t\t\t\t\t\tWe will work out the data from North Hemisphere NH sea ice\n#\t\t\t\t\t\t\tThen we will repeat the same work on data the South Hemisphere SH sea ice\n\n# importing Sea ice extent and area organized by year from the NSIDC website  \nNSIDC_url <- \"https://masie_web.apps.nsidc.org/pub/DATASETS/NOAA/G02135/seaice_analysis/Sea_Ice_Index_Monthly_Data_by_Year_G02135_v3.0.xlsx\"\n\n# Download the excel file to a temporary location\ntemp_file_NSIDC <- tempfile()\ndownload.file(NSIDC_url, temp_file_NSIDC, mode = \"wb\")",
        "outputsMetadata": {
          "0": {
            "height": 212,
            "type": "stream"
          }
        },
        "id": "2ffd149d-6863-4927-85ca-fe9a928c0cde"
      },
      "id": "2ffd149d-6863-4927-85ca-fe9a928c0cde",
      "cell_type": "code",
      "execution_count": null,
      "outputs": []
    },
    {
      "source": [
        "## Importing the North Hemisphere NH sea ice"
      ],
      "metadata": {
        "id": "67c830e4-6052-42fc-bcce-be4f5a122f31"
      },
      "id": "67c830e4-6052-42fc-bcce-be4f5a122f31",
      "cell_type": "markdown"
    },
    {
      "source": [
        " The North Hemisphere NH sea ice data is on the sheet (1) from the excel file. It has the monthly values and annual ones. I will wrangle this sheet and make it two times series:  \n",
        " The _NH_monthly_ for the **Monthly** Sea Ice in the northeren Hemisphere.  \n",
        " The _NH_annual_ for **Annual** Sea Ice in the northeren Hemisphere.\n"
      ],
      "metadata": {
        "id": "d0f6c414-b657-484b-93ca-6d3594f97e7d"
      },
      "id": "d0f6c414-b657-484b-93ca-6d3594f97e7d",
      "cell_type": "markdown"
    },
    {
      "source": [
        "### Monthly North Hemisphere sea ice ``NH_monthly``"
      ],
      "metadata": {
        "id": "7206054a-b4c7-49dc-b616-1306a4ebc9c8"
      },
      "cell_type": "markdown",
      "id": "7206054a-b4c7-49dc-b616-1306a4ebc9c8"
    },
    {
      "source": [
        "# Read sheet (1) from the excel file\n",
        "NH_monthly <- read_excel(temp_file_NSIDC, sheet = 1)\n",
        "\n",
        "# Rename the A column to 'year'\n",
        "colnames(NH_monthly)[1] <- 'year'\n",
        "\n",
        "# Remove the column N and O because;\n",
        "#\t\t\t\tcolumn N is empty\n",
        "#\t\t\t\tcolumn O has inncorrected 'Annual' value based on missing data\n",
        "NH_monthly <- NH_monthly[, -c(14, 15)]\n",
        "\n",
        "\n",
        "# View the data\n",
        "NH_monthly"
      ],
      "metadata": {
        "jupyter": {
          "outputs_hidden": false,
          "source_hidden": false
        },
        "executionCancelledAt": null,
        "executionTime": 222,
        "lastExecutedAt": 1698056471905,
        "lastScheduledRunId": null,
        "lastSuccessfullyExecutedCode": "# Read sheet (1) from the excel file\nNH_monthly <- read_excel(temp_file_NSIDC, sheet = 1)\n\n# Rename the A column to 'year'\ncolnames(NH_monthly)[1] <- 'year'\n\n# Remove the column N and O because;\n#\t\t\t\tcolumn N is empty\n#\t\t\t\tcolumn O has inncorrected 'Annual' value based on missing data\nNH_monthly <- NH_monthly[, -c(14, 15)]\n\n\n# View the data\nNH_monthly",
        "outputsMetadata": {
          "0": {
            "height": 76,
            "type": "stream"
          },
          "1": {
            "height": 330,
            "type": "dataFrame"
          }
        },
        "visualizeDataframe": false,
        "chartConfig": {
          "bar": {
            "hasRoundedCorners": true,
            "stacked": false
          },
          "type": "bar",
          "version": "v1"
        },
        "id": "579ad268-3b24-49f6-96c0-0f68d15885d0",
        "outputId": "131aff5e-c0a6-4801-f035-fbad45fba8e5"
      },
      "id": "579ad268-3b24-49f6-96c0-0f68d15885d0",
      "cell_type": "code",
      "execution_count": null,
      "outputs": [
        {
          "output_type": "stream",
          "name": "stderr",
          "text": "\u001b[1m\u001b[22mNew names:\n\u001b[36m•\u001b[39m `` -> `...1`\n\u001b[36m•\u001b[39m `` -> `...14`\n"
        },
        {
          "output_type": "display_data",
          "data": {
            "text/html": "<table class=\"dataframe\">\n<caption>A tibble: 46 × 13</caption>\n<thead>\n\t<tr><th scope=col>year</th><th scope=col>January</th><th scope=col>February</th><th scope=col>March</th><th scope=col>April</th><th scope=col>May</th><th scope=col>June</th><th scope=col>July</th><th scope=col>August</th><th scope=col>September</th><th scope=col>October</th><th scope=col>November</th><th scope=col>December</th></tr>\n\t<tr><th scope=col>&lt;dbl&gt;</th><th scope=col>&lt;dbl&gt;</th><th scope=col>&lt;dbl&gt;</th><th scope=col>&lt;dbl&gt;</th><th scope=col>&lt;dbl&gt;</th><th scope=col>&lt;dbl&gt;</th><th scope=col>&lt;dbl&gt;</th><th scope=col>&lt;dbl&gt;</th><th scope=col>&lt;dbl&gt;</th><th scope=col>&lt;dbl&gt;</th><th scope=col>&lt;dbl&gt;</th><th scope=col>&lt;dbl&gt;</th><th scope=col>&lt;dbl&gt;</th></tr>\n</thead>\n<tbody>\n\t<tr><td>1978</td><td>    NA</td><td>    NA</td><td>    NA</td><td>    NA</td><td>    NA</td><td>    NA</td><td>    NA</td><td>   NA</td><td>   NA</td><td>   NA</td><td>11.645</td><td>13.667</td></tr>\n\t<tr><td>1979</td><td>15.414</td><td>16.175</td><td>16.342</td><td>15.447</td><td>13.857</td><td>12.530</td><td>10.311</td><td>8.041</td><td>7.051</td><td>8.748</td><td>10.943</td><td>13.336</td></tr>\n\t<tr><td>1980</td><td>14.862</td><td>15.955</td><td>16.041</td><td>15.429</td><td>13.793</td><td>12.205</td><td>10.100</td><td>7.984</td><td>7.667</td><td>9.183</td><td>11.383</td><td>13.593</td></tr>\n\t<tr><td>1981</td><td>14.910</td><td>15.604</td><td>15.632</td><td>15.010</td><td>13.802</td><td>12.430</td><td>10.271</td><td>7.844</td><td>7.138</td><td>8.856</td><td>10.929</td><td>13.341</td></tr>\n\t<tr><td>1982</td><td>15.177</td><td>15.974</td><td>16.044</td><td>15.466</td><td>13.973</td><td>12.476</td><td>10.367</td><td>8.139</td><td>7.302</td><td>9.421</td><td>11.627</td><td>13.642</td></tr>\n\t<tr><td>1983</td><td>14.942</td><td>16.006</td><td>16.085</td><td>15.172</td><td>13.491</td><td>12.296</td><td>10.570</td><td>8.186</td><td>7.395</td><td>9.334</td><td>11.461</td><td>13.299</td></tr>\n\t<tr><td>1984</td><td>14.473</td><td>15.299</td><td>15.584</td><td>15.015</td><td>13.577</td><td>12.152</td><td> 9.977</td><td>7.771</td><td>6.805</td><td>8.561</td><td>10.842</td><td>12.989</td></tr>\n\t<tr><td>1985</td><td>14.725</td><td>15.466</td><td>15.886</td><td>15.357</td><td>14.073</td><td>12.219</td><td> 9.744</td><td>7.402</td><td>6.698</td><td>8.546</td><td>11.025</td><td>13.050</td></tr>\n\t<tr><td>1986</td><td>14.890</td><td>15.785</td><td>15.910</td><td>15.059</td><td>13.379</td><td>11.976</td><td>10.146</td><td>7.979</td><td>7.411</td><td>9.484</td><td>11.453</td><td>13.222</td></tr>\n\t<tr><td>1987</td><td>14.970</td><td>16.050</td><td>15.816</td><td>15.211</td><td>13.743</td><td>12.486</td><td>10.333</td><td>7.628</td><td>7.279</td><td>9.049</td><td>11.224</td><td>    NA</td></tr>\n\t<tr><td>1988</td><td>    NA</td><td>15.583</td><td>15.957</td><td>15.123</td><td>13.561</td><td>11.943</td><td> 9.809</td><td>7.892</td><td>7.369</td><td>9.135</td><td>11.331</td><td>13.626</td></tr>\n\t<tr><td>1989</td><td>14.955</td><td>15.495</td><td>15.423</td><td>14.328</td><td>13.044</td><td>12.245</td><td>10.130</td><td>7.882</td><td>7.008</td><td>8.829</td><td>11.115</td><td>13.387</td></tr>\n\t<tr><td>1990</td><td>14.783</td><td>15.578</td><td>15.867</td><td>14.650</td><td>13.226</td><td>11.641</td><td> 9.247</td><td>6.797</td><td>6.143</td><td>8.485</td><td>11.075</td><td>13.106</td></tr>\n\t<tr><td>1991</td><td>14.364</td><td>15.249</td><td>15.416</td><td>14.860</td><td>13.473</td><td>12.108</td><td> 9.514</td><td>7.415</td><td>6.473</td><td>8.541</td><td>10.885</td><td>12.945</td></tr>\n\t<tr><td>1992</td><td>14.643</td><td>15.462</td><td>15.481</td><td>14.677</td><td>13.216</td><td>12.147</td><td>10.323</td><td>7.925</td><td>7.474</td><td>9.319</td><td>11.379</td><td>13.407</td></tr>\n\t<tr><td>1993</td><td>14.896</td><td>15.686</td><td>15.813</td><td>15.077</td><td>13.368</td><td>11.871</td><td> 9.476</td><td>7.335</td><td>6.397</td><td>8.786</td><td>11.319</td><td>13.319</td></tr>\n\t<tr><td>1994</td><td>14.730</td><td>15.562</td><td>15.554</td><td>14.888</td><td>13.624</td><td>12.016</td><td> 9.925</td><td>7.639</td><td>7.138</td><td>8.915</td><td>11.123</td><td>13.272</td></tr>\n\t<tr><td>1995</td><td>14.586</td><td>15.226</td><td>15.260</td><td>14.449</td><td>12.972</td><td>11.440</td><td> 8.987</td><td>6.744</td><td>6.080</td><td>7.829</td><td>10.761</td><td>12.921</td></tr>\n\t<tr><td>1996</td><td>14.181</td><td>15.155</td><td>15.123</td><td>14.216</td><td>13.094</td><td>12.084</td><td>10.164</td><td>8.180</td><td>7.583</td><td>9.161</td><td>10.402</td><td>12.861</td></tr>\n\t<tr><td>1997</td><td>14.417</td><td>15.437</td><td>15.467</td><td>14.563</td><td>13.177</td><td>11.738</td><td> 9.411</td><td>7.285</td><td>6.686</td><td>8.337</td><td>10.684</td><td>13.076</td></tr>\n\t<tr><td>1998</td><td>14.721</td><td>15.746</td><td>15.598</td><td>14.892</td><td>13.590</td><td>11.706</td><td> 9.415</td><td>7.509</td><td>6.536</td><td>8.452</td><td>10.441</td><td>12.759</td></tr>\n\t<tr><td>1999</td><td>14.359</td><td>15.309</td><td>15.398</td><td>15.084</td><td>13.751</td><td>11.779</td><td> 9.488</td><td>7.226</td><td>6.117</td><td>8.603</td><td>10.796</td><td>12.641</td></tr>\n\t<tr><td>2000</td><td>14.220</td><td>15.141</td><td>15.225</td><td>14.558</td><td>13.153</td><td>11.665</td><td> 9.513</td><td>7.168</td><td>6.246</td><td>8.379</td><td>10.321</td><td>12.637</td></tr>\n\t<tr><td>2001</td><td>14.203</td><td>15.211</td><td>15.516</td><td>14.857</td><td>13.510</td><td>11.456</td><td> 9.070</td><td>7.461</td><td>6.732</td><td>8.298</td><td>10.658</td><td>12.491</td></tr>\n\t<tr><td>2002</td><td>14.273</td><td>15.342</td><td>15.349</td><td>14.299</td><td>12.971</td><td>11.583</td><td> 9.274</td><td>6.599</td><td>5.827</td><td>8.162</td><td>10.342</td><td>12.608</td></tr>\n\t<tr><td>2003</td><td>14.391</td><td>15.193</td><td>15.485</td><td>14.512</td><td>13.016</td><td>11.604</td><td> 9.215</td><td>6.936</td><td>6.116</td><td>7.848</td><td>10.125</td><td>12.588</td></tr>\n\t<tr><td>2004</td><td>14.026</td><td>14.914</td><td>14.993</td><td>13.987</td><td>12.558</td><td>11.447</td><td> 9.431</td><td>6.855</td><td>5.984</td><td>7.925</td><td>10.343</td><td>12.554</td></tr>\n\t<tr><td>2005</td><td>13.661</td><td>14.373</td><td>14.687</td><td>14.090</td><td>12.911</td><td>11.162</td><td> 8.649</td><td>6.301</td><td>5.504</td><td>7.352</td><td>10.216</td><td>12.228</td></tr>\n\t<tr><td>2006</td><td>13.466</td><td>14.325</td><td>14.421</td><td>13.906</td><td>12.517</td><td>10.920</td><td> 8.460</td><td>6.496</td><td>5.862</td><td>7.541</td><td> 9.659</td><td>11.955</td></tr>\n\t<tr><td>2007</td><td>13.703</td><td>14.513</td><td>14.542</td><td>13.845</td><td>12.780</td><td>11.220</td><td> 7.943</td><td>5.342</td><td>4.267</td><td>6.040</td><td> 9.760</td><td>12.034</td></tr>\n\t<tr><td>2008</td><td>13.887</td><td>14.953</td><td>15.179</td><td>14.352</td><td>12.974</td><td>11.208</td><td> 8.678</td><td>5.913</td><td>4.687</td><td>7.350</td><td>10.343</td><td>12.359</td></tr>\n\t<tr><td>2009</td><td>13.914</td><td>14.812</td><td>14.984</td><td>14.496</td><td>13.187</td><td>11.320</td><td> 8.465</td><td>6.136</td><td>5.262</td><td>6.920</td><td> 9.772</td><td>12.200</td></tr>\n\t<tr><td>2010</td><td>13.739</td><td>14.581</td><td>15.137</td><td>14.659</td><td>12.866</td><td>10.585</td><td> 8.075</td><td>5.875</td><td>4.865</td><td>6.984</td><td> 9.614</td><td>11.831</td></tr>\n\t<tr><td>2011</td><td>13.464</td><td>14.363</td><td>14.546</td><td>14.108</td><td>12.681</td><td>10.749</td><td> 7.724</td><td>5.503</td><td>4.561</td><td>6.465</td><td> 9.772</td><td>12.154</td></tr>\n\t<tr><td>2012</td><td>13.729</td><td>14.553</td><td>15.196</td><td>14.626</td><td>13.012</td><td>10.674</td><td> 7.672</td><td>4.723</td><td>3.566</td><td>5.886</td><td> 9.388</td><td>12.006</td></tr>\n\t<tr><td>2013</td><td>13.703</td><td>14.723</td><td>15.032</td><td>14.299</td><td>12.997</td><td>11.360</td><td> 8.132</td><td>6.014</td><td>5.208</td><td>7.455</td><td> 9.939</td><td>12.184</td></tr>\n\t<tr><td>2014</td><td>13.648</td><td>14.418</td><td>14.758</td><td>14.088</td><td>12.701</td><td>11.033</td><td> 8.108</td><td>6.078</td><td>5.220</td><td>7.232</td><td>10.115</td><td>12.353</td></tr>\n\t<tr><td>2015</td><td>13.602</td><td>14.401</td><td>14.370</td><td>13.893</td><td>12.468</td><td>10.879</td><td> 8.378</td><td>5.599</td><td>4.616</td><td>6.966</td><td> 9.846</td><td>12.045</td></tr>\n\t<tr><td>2016</td><td>13.457</td><td>14.203</td><td>14.400</td><td>13.681</td><td>11.924</td><td>10.413</td><td> 7.938</td><td>5.371</td><td>4.528</td><td>6.082</td><td> 8.658</td><td>11.459</td></tr>\n\t<tr><td>2017</td><td>13.190</td><td>14.120</td><td>14.290</td><td>13.753</td><td>12.631</td><td>10.756</td><td> 7.939</td><td>5.481</td><td>4.822</td><td>6.767</td><td> 9.493</td><td>11.743</td></tr>\n\t<tr><td>2018</td><td>13.077</td><td>13.967</td><td>14.298</td><td>13.696</td><td>12.232</td><td>10.778</td><td> 8.268</td><td>5.615</td><td>4.785</td><td>6.134</td><td> 9.823</td><td>11.862</td></tr>\n\t<tr><td>2019</td><td>13.567</td><td>14.394</td><td>14.574</td><td>13.434</td><td>12.186</td><td>10.594</td><td> 7.589</td><td>5.026</td><td>4.364</td><td>5.735</td><td> 9.353</td><td>11.903</td></tr>\n\t<tr><td>2020</td><td>13.636</td><td>14.642</td><td>14.730</td><td>13.621</td><td>12.343</td><td>10.593</td><td> 7.294</td><td>5.070</td><td>4.001</td><td>5.334</td><td> 8.985</td><td>11.729</td></tr>\n\t<tr><td>2021</td><td>13.501</td><td>14.390</td><td>14.658</td><td>13.792</td><td>12.682</td><td>10.765</td><td> 7.647</td><td>5.715</td><td>4.952</td><td>6.816</td><td> 9.830</td><td>12.152</td></tr>\n\t<tr><td>2022</td><td>13.872</td><td>14.612</td><td>14.586</td><td>13.986</td><td>12.879</td><td>10.875</td><td> 8.287</td><td>5.950</td><td>4.897</td><td>6.657</td><td> 9.725</td><td>11.892</td></tr>\n\t<tr><td>2023</td><td>13.346</td><td>14.176</td><td>14.440</td><td>13.992</td><td>12.835</td><td>10.963</td><td> 8.183</td><td>5.566</td><td>4.371</td><td>   NA</td><td>    NA</td><td>    NA</td></tr>\n</tbody>\n</table>\n",
            "text/markdown": "\nA tibble: 46 × 13\n\n| year &lt;dbl&gt; | January &lt;dbl&gt; | February &lt;dbl&gt; | March &lt;dbl&gt; | April &lt;dbl&gt; | May &lt;dbl&gt; | June &lt;dbl&gt; | July &lt;dbl&gt; | August &lt;dbl&gt; | September &lt;dbl&gt; | October &lt;dbl&gt; | November &lt;dbl&gt; | December &lt;dbl&gt; |\n|---|---|---|---|---|---|---|---|---|---|---|---|---|\n| 1978 |     NA |     NA |     NA |     NA |     NA |     NA |     NA |    NA |    NA |    NA | 11.645 | 13.667 |\n| 1979 | 15.414 | 16.175 | 16.342 | 15.447 | 13.857 | 12.530 | 10.311 | 8.041 | 7.051 | 8.748 | 10.943 | 13.336 |\n| 1980 | 14.862 | 15.955 | 16.041 | 15.429 | 13.793 | 12.205 | 10.100 | 7.984 | 7.667 | 9.183 | 11.383 | 13.593 |\n| 1981 | 14.910 | 15.604 | 15.632 | 15.010 | 13.802 | 12.430 | 10.271 | 7.844 | 7.138 | 8.856 | 10.929 | 13.341 |\n| 1982 | 15.177 | 15.974 | 16.044 | 15.466 | 13.973 | 12.476 | 10.367 | 8.139 | 7.302 | 9.421 | 11.627 | 13.642 |\n| 1983 | 14.942 | 16.006 | 16.085 | 15.172 | 13.491 | 12.296 | 10.570 | 8.186 | 7.395 | 9.334 | 11.461 | 13.299 |\n| 1984 | 14.473 | 15.299 | 15.584 | 15.015 | 13.577 | 12.152 |  9.977 | 7.771 | 6.805 | 8.561 | 10.842 | 12.989 |\n| 1985 | 14.725 | 15.466 | 15.886 | 15.357 | 14.073 | 12.219 |  9.744 | 7.402 | 6.698 | 8.546 | 11.025 | 13.050 |\n| 1986 | 14.890 | 15.785 | 15.910 | 15.059 | 13.379 | 11.976 | 10.146 | 7.979 | 7.411 | 9.484 | 11.453 | 13.222 |\n| 1987 | 14.970 | 16.050 | 15.816 | 15.211 | 13.743 | 12.486 | 10.333 | 7.628 | 7.279 | 9.049 | 11.224 |     NA |\n| 1988 |     NA | 15.583 | 15.957 | 15.123 | 13.561 | 11.943 |  9.809 | 7.892 | 7.369 | 9.135 | 11.331 | 13.626 |\n| 1989 | 14.955 | 15.495 | 15.423 | 14.328 | 13.044 | 12.245 | 10.130 | 7.882 | 7.008 | 8.829 | 11.115 | 13.387 |\n| 1990 | 14.783 | 15.578 | 15.867 | 14.650 | 13.226 | 11.641 |  9.247 | 6.797 | 6.143 | 8.485 | 11.075 | 13.106 |\n| 1991 | 14.364 | 15.249 | 15.416 | 14.860 | 13.473 | 12.108 |  9.514 | 7.415 | 6.473 | 8.541 | 10.885 | 12.945 |\n| 1992 | 14.643 | 15.462 | 15.481 | 14.677 | 13.216 | 12.147 | 10.323 | 7.925 | 7.474 | 9.319 | 11.379 | 13.407 |\n| 1993 | 14.896 | 15.686 | 15.813 | 15.077 | 13.368 | 11.871 |  9.476 | 7.335 | 6.397 | 8.786 | 11.319 | 13.319 |\n| 1994 | 14.730 | 15.562 | 15.554 | 14.888 | 13.624 | 12.016 |  9.925 | 7.639 | 7.138 | 8.915 | 11.123 | 13.272 |\n| 1995 | 14.586 | 15.226 | 15.260 | 14.449 | 12.972 | 11.440 |  8.987 | 6.744 | 6.080 | 7.829 | 10.761 | 12.921 |\n| 1996 | 14.181 | 15.155 | 15.123 | 14.216 | 13.094 | 12.084 | 10.164 | 8.180 | 7.583 | 9.161 | 10.402 | 12.861 |\n| 1997 | 14.417 | 15.437 | 15.467 | 14.563 | 13.177 | 11.738 |  9.411 | 7.285 | 6.686 | 8.337 | 10.684 | 13.076 |\n| 1998 | 14.721 | 15.746 | 15.598 | 14.892 | 13.590 | 11.706 |  9.415 | 7.509 | 6.536 | 8.452 | 10.441 | 12.759 |\n| 1999 | 14.359 | 15.309 | 15.398 | 15.084 | 13.751 | 11.779 |  9.488 | 7.226 | 6.117 | 8.603 | 10.796 | 12.641 |\n| 2000 | 14.220 | 15.141 | 15.225 | 14.558 | 13.153 | 11.665 |  9.513 | 7.168 | 6.246 | 8.379 | 10.321 | 12.637 |\n| 2001 | 14.203 | 15.211 | 15.516 | 14.857 | 13.510 | 11.456 |  9.070 | 7.461 | 6.732 | 8.298 | 10.658 | 12.491 |\n| 2002 | 14.273 | 15.342 | 15.349 | 14.299 | 12.971 | 11.583 |  9.274 | 6.599 | 5.827 | 8.162 | 10.342 | 12.608 |\n| 2003 | 14.391 | 15.193 | 15.485 | 14.512 | 13.016 | 11.604 |  9.215 | 6.936 | 6.116 | 7.848 | 10.125 | 12.588 |\n| 2004 | 14.026 | 14.914 | 14.993 | 13.987 | 12.558 | 11.447 |  9.431 | 6.855 | 5.984 | 7.925 | 10.343 | 12.554 |\n| 2005 | 13.661 | 14.373 | 14.687 | 14.090 | 12.911 | 11.162 |  8.649 | 6.301 | 5.504 | 7.352 | 10.216 | 12.228 |\n| 2006 | 13.466 | 14.325 | 14.421 | 13.906 | 12.517 | 10.920 |  8.460 | 6.496 | 5.862 | 7.541 |  9.659 | 11.955 |\n| 2007 | 13.703 | 14.513 | 14.542 | 13.845 | 12.780 | 11.220 |  7.943 | 5.342 | 4.267 | 6.040 |  9.760 | 12.034 |\n| 2008 | 13.887 | 14.953 | 15.179 | 14.352 | 12.974 | 11.208 |  8.678 | 5.913 | 4.687 | 7.350 | 10.343 | 12.359 |\n| 2009 | 13.914 | 14.812 | 14.984 | 14.496 | 13.187 | 11.320 |  8.465 | 6.136 | 5.262 | 6.920 |  9.772 | 12.200 |\n| 2010 | 13.739 | 14.581 | 15.137 | 14.659 | 12.866 | 10.585 |  8.075 | 5.875 | 4.865 | 6.984 |  9.614 | 11.831 |\n| 2011 | 13.464 | 14.363 | 14.546 | 14.108 | 12.681 | 10.749 |  7.724 | 5.503 | 4.561 | 6.465 |  9.772 | 12.154 |\n| 2012 | 13.729 | 14.553 | 15.196 | 14.626 | 13.012 | 10.674 |  7.672 | 4.723 | 3.566 | 5.886 |  9.388 | 12.006 |\n| 2013 | 13.703 | 14.723 | 15.032 | 14.299 | 12.997 | 11.360 |  8.132 | 6.014 | 5.208 | 7.455 |  9.939 | 12.184 |\n| 2014 | 13.648 | 14.418 | 14.758 | 14.088 | 12.701 | 11.033 |  8.108 | 6.078 | 5.220 | 7.232 | 10.115 | 12.353 |\n| 2015 | 13.602 | 14.401 | 14.370 | 13.893 | 12.468 | 10.879 |  8.378 | 5.599 | 4.616 | 6.966 |  9.846 | 12.045 |\n| 2016 | 13.457 | 14.203 | 14.400 | 13.681 | 11.924 | 10.413 |  7.938 | 5.371 | 4.528 | 6.082 |  8.658 | 11.459 |\n| 2017 | 13.190 | 14.120 | 14.290 | 13.753 | 12.631 | 10.756 |  7.939 | 5.481 | 4.822 | 6.767 |  9.493 | 11.743 |\n| 2018 | 13.077 | 13.967 | 14.298 | 13.696 | 12.232 | 10.778 |  8.268 | 5.615 | 4.785 | 6.134 |  9.823 | 11.862 |\n| 2019 | 13.567 | 14.394 | 14.574 | 13.434 | 12.186 | 10.594 |  7.589 | 5.026 | 4.364 | 5.735 |  9.353 | 11.903 |\n| 2020 | 13.636 | 14.642 | 14.730 | 13.621 | 12.343 | 10.593 |  7.294 | 5.070 | 4.001 | 5.334 |  8.985 | 11.729 |\n| 2021 | 13.501 | 14.390 | 14.658 | 13.792 | 12.682 | 10.765 |  7.647 | 5.715 | 4.952 | 6.816 |  9.830 | 12.152 |\n| 2022 | 13.872 | 14.612 | 14.586 | 13.986 | 12.879 | 10.875 |  8.287 | 5.950 | 4.897 | 6.657 |  9.725 | 11.892 |\n| 2023 | 13.346 | 14.176 | 14.440 | 13.992 | 12.835 | 10.963 |  8.183 | 5.566 | 4.371 |    NA |     NA |     NA |\n\n",
            "text/latex": "A tibble: 46 × 13\n\\begin{tabular}{lllllllllllll}\n year & January & February & March & April & May & June & July & August & September & October & November & December\\\\\n <dbl> & <dbl> & <dbl> & <dbl> & <dbl> & <dbl> & <dbl> & <dbl> & <dbl> & <dbl> & <dbl> & <dbl> & <dbl>\\\\\n\\hline\n\t 1978 &     NA &     NA &     NA &     NA &     NA &     NA &     NA &    NA &    NA &    NA & 11.645 & 13.667\\\\\n\t 1979 & 15.414 & 16.175 & 16.342 & 15.447 & 13.857 & 12.530 & 10.311 & 8.041 & 7.051 & 8.748 & 10.943 & 13.336\\\\\n\t 1980 & 14.862 & 15.955 & 16.041 & 15.429 & 13.793 & 12.205 & 10.100 & 7.984 & 7.667 & 9.183 & 11.383 & 13.593\\\\\n\t 1981 & 14.910 & 15.604 & 15.632 & 15.010 & 13.802 & 12.430 & 10.271 & 7.844 & 7.138 & 8.856 & 10.929 & 13.341\\\\\n\t 1982 & 15.177 & 15.974 & 16.044 & 15.466 & 13.973 & 12.476 & 10.367 & 8.139 & 7.302 & 9.421 & 11.627 & 13.642\\\\\n\t 1983 & 14.942 & 16.006 & 16.085 & 15.172 & 13.491 & 12.296 & 10.570 & 8.186 & 7.395 & 9.334 & 11.461 & 13.299\\\\\n\t 1984 & 14.473 & 15.299 & 15.584 & 15.015 & 13.577 & 12.152 &  9.977 & 7.771 & 6.805 & 8.561 & 10.842 & 12.989\\\\\n\t 1985 & 14.725 & 15.466 & 15.886 & 15.357 & 14.073 & 12.219 &  9.744 & 7.402 & 6.698 & 8.546 & 11.025 & 13.050\\\\\n\t 1986 & 14.890 & 15.785 & 15.910 & 15.059 & 13.379 & 11.976 & 10.146 & 7.979 & 7.411 & 9.484 & 11.453 & 13.222\\\\\n\t 1987 & 14.970 & 16.050 & 15.816 & 15.211 & 13.743 & 12.486 & 10.333 & 7.628 & 7.279 & 9.049 & 11.224 &     NA\\\\\n\t 1988 &     NA & 15.583 & 15.957 & 15.123 & 13.561 & 11.943 &  9.809 & 7.892 & 7.369 & 9.135 & 11.331 & 13.626\\\\\n\t 1989 & 14.955 & 15.495 & 15.423 & 14.328 & 13.044 & 12.245 & 10.130 & 7.882 & 7.008 & 8.829 & 11.115 & 13.387\\\\\n\t 1990 & 14.783 & 15.578 & 15.867 & 14.650 & 13.226 & 11.641 &  9.247 & 6.797 & 6.143 & 8.485 & 11.075 & 13.106\\\\\n\t 1991 & 14.364 & 15.249 & 15.416 & 14.860 & 13.473 & 12.108 &  9.514 & 7.415 & 6.473 & 8.541 & 10.885 & 12.945\\\\\n\t 1992 & 14.643 & 15.462 & 15.481 & 14.677 & 13.216 & 12.147 & 10.323 & 7.925 & 7.474 & 9.319 & 11.379 & 13.407\\\\\n\t 1993 & 14.896 & 15.686 & 15.813 & 15.077 & 13.368 & 11.871 &  9.476 & 7.335 & 6.397 & 8.786 & 11.319 & 13.319\\\\\n\t 1994 & 14.730 & 15.562 & 15.554 & 14.888 & 13.624 & 12.016 &  9.925 & 7.639 & 7.138 & 8.915 & 11.123 & 13.272\\\\\n\t 1995 & 14.586 & 15.226 & 15.260 & 14.449 & 12.972 & 11.440 &  8.987 & 6.744 & 6.080 & 7.829 & 10.761 & 12.921\\\\\n\t 1996 & 14.181 & 15.155 & 15.123 & 14.216 & 13.094 & 12.084 & 10.164 & 8.180 & 7.583 & 9.161 & 10.402 & 12.861\\\\\n\t 1997 & 14.417 & 15.437 & 15.467 & 14.563 & 13.177 & 11.738 &  9.411 & 7.285 & 6.686 & 8.337 & 10.684 & 13.076\\\\\n\t 1998 & 14.721 & 15.746 & 15.598 & 14.892 & 13.590 & 11.706 &  9.415 & 7.509 & 6.536 & 8.452 & 10.441 & 12.759\\\\\n\t 1999 & 14.359 & 15.309 & 15.398 & 15.084 & 13.751 & 11.779 &  9.488 & 7.226 & 6.117 & 8.603 & 10.796 & 12.641\\\\\n\t 2000 & 14.220 & 15.141 & 15.225 & 14.558 & 13.153 & 11.665 &  9.513 & 7.168 & 6.246 & 8.379 & 10.321 & 12.637\\\\\n\t 2001 & 14.203 & 15.211 & 15.516 & 14.857 & 13.510 & 11.456 &  9.070 & 7.461 & 6.732 & 8.298 & 10.658 & 12.491\\\\\n\t 2002 & 14.273 & 15.342 & 15.349 & 14.299 & 12.971 & 11.583 &  9.274 & 6.599 & 5.827 & 8.162 & 10.342 & 12.608\\\\\n\t 2003 & 14.391 & 15.193 & 15.485 & 14.512 & 13.016 & 11.604 &  9.215 & 6.936 & 6.116 & 7.848 & 10.125 & 12.588\\\\\n\t 2004 & 14.026 & 14.914 & 14.993 & 13.987 & 12.558 & 11.447 &  9.431 & 6.855 & 5.984 & 7.925 & 10.343 & 12.554\\\\\n\t 2005 & 13.661 & 14.373 & 14.687 & 14.090 & 12.911 & 11.162 &  8.649 & 6.301 & 5.504 & 7.352 & 10.216 & 12.228\\\\\n\t 2006 & 13.466 & 14.325 & 14.421 & 13.906 & 12.517 & 10.920 &  8.460 & 6.496 & 5.862 & 7.541 &  9.659 & 11.955\\\\\n\t 2007 & 13.703 & 14.513 & 14.542 & 13.845 & 12.780 & 11.220 &  7.943 & 5.342 & 4.267 & 6.040 &  9.760 & 12.034\\\\\n\t 2008 & 13.887 & 14.953 & 15.179 & 14.352 & 12.974 & 11.208 &  8.678 & 5.913 & 4.687 & 7.350 & 10.343 & 12.359\\\\\n\t 2009 & 13.914 & 14.812 & 14.984 & 14.496 & 13.187 & 11.320 &  8.465 & 6.136 & 5.262 & 6.920 &  9.772 & 12.200\\\\\n\t 2010 & 13.739 & 14.581 & 15.137 & 14.659 & 12.866 & 10.585 &  8.075 & 5.875 & 4.865 & 6.984 &  9.614 & 11.831\\\\\n\t 2011 & 13.464 & 14.363 & 14.546 & 14.108 & 12.681 & 10.749 &  7.724 & 5.503 & 4.561 & 6.465 &  9.772 & 12.154\\\\\n\t 2012 & 13.729 & 14.553 & 15.196 & 14.626 & 13.012 & 10.674 &  7.672 & 4.723 & 3.566 & 5.886 &  9.388 & 12.006\\\\\n\t 2013 & 13.703 & 14.723 & 15.032 & 14.299 & 12.997 & 11.360 &  8.132 & 6.014 & 5.208 & 7.455 &  9.939 & 12.184\\\\\n\t 2014 & 13.648 & 14.418 & 14.758 & 14.088 & 12.701 & 11.033 &  8.108 & 6.078 & 5.220 & 7.232 & 10.115 & 12.353\\\\\n\t 2015 & 13.602 & 14.401 & 14.370 & 13.893 & 12.468 & 10.879 &  8.378 & 5.599 & 4.616 & 6.966 &  9.846 & 12.045\\\\\n\t 2016 & 13.457 & 14.203 & 14.400 & 13.681 & 11.924 & 10.413 &  7.938 & 5.371 & 4.528 & 6.082 &  8.658 & 11.459\\\\\n\t 2017 & 13.190 & 14.120 & 14.290 & 13.753 & 12.631 & 10.756 &  7.939 & 5.481 & 4.822 & 6.767 &  9.493 & 11.743\\\\\n\t 2018 & 13.077 & 13.967 & 14.298 & 13.696 & 12.232 & 10.778 &  8.268 & 5.615 & 4.785 & 6.134 &  9.823 & 11.862\\\\\n\t 2019 & 13.567 & 14.394 & 14.574 & 13.434 & 12.186 & 10.594 &  7.589 & 5.026 & 4.364 & 5.735 &  9.353 & 11.903\\\\\n\t 2020 & 13.636 & 14.642 & 14.730 & 13.621 & 12.343 & 10.593 &  7.294 & 5.070 & 4.001 & 5.334 &  8.985 & 11.729\\\\\n\t 2021 & 13.501 & 14.390 & 14.658 & 13.792 & 12.682 & 10.765 &  7.647 & 5.715 & 4.952 & 6.816 &  9.830 & 12.152\\\\\n\t 2022 & 13.872 & 14.612 & 14.586 & 13.986 & 12.879 & 10.875 &  8.287 & 5.950 & 4.897 & 6.657 &  9.725 & 11.892\\\\\n\t 2023 & 13.346 & 14.176 & 14.440 & 13.992 & 12.835 & 10.963 &  8.183 & 5.566 & 4.371 &    NA &     NA &     NA\\\\\n\\end{tabular}\n",
            "text/plain": "   year January February March  April  May    June   July   August September\n1  1978     NA      NA       NA     NA     NA     NA     NA    NA     NA    \n2  1979 15.414  16.175   16.342 15.447 13.857 12.530 10.311 8.041  7.051    \n3  1980 14.862  15.955   16.041 15.429 13.793 12.205 10.100 7.984  7.667    \n4  1981 14.910  15.604   15.632 15.010 13.802 12.430 10.271 7.844  7.138    \n5  1982 15.177  15.974   16.044 15.466 13.973 12.476 10.367 8.139  7.302    \n6  1983 14.942  16.006   16.085 15.172 13.491 12.296 10.570 8.186  7.395    \n7  1984 14.473  15.299   15.584 15.015 13.577 12.152  9.977 7.771  6.805    \n8  1985 14.725  15.466   15.886 15.357 14.073 12.219  9.744 7.402  6.698    \n9  1986 14.890  15.785   15.910 15.059 13.379 11.976 10.146 7.979  7.411    \n10 1987 14.970  16.050   15.816 15.211 13.743 12.486 10.333 7.628  7.279    \n11 1988     NA  15.583   15.957 15.123 13.561 11.943  9.809 7.892  7.369    \n12 1989 14.955  15.495   15.423 14.328 13.044 12.245 10.130 7.882  7.008    \n13 1990 14.783  15.578   15.867 14.650 13.226 11.641  9.247 6.797  6.143    \n14 1991 14.364  15.249   15.416 14.860 13.473 12.108  9.514 7.415  6.473    \n15 1992 14.643  15.462   15.481 14.677 13.216 12.147 10.323 7.925  7.474    \n16 1993 14.896  15.686   15.813 15.077 13.368 11.871  9.476 7.335  6.397    \n17 1994 14.730  15.562   15.554 14.888 13.624 12.016  9.925 7.639  7.138    \n18 1995 14.586  15.226   15.260 14.449 12.972 11.440  8.987 6.744  6.080    \n19 1996 14.181  15.155   15.123 14.216 13.094 12.084 10.164 8.180  7.583    \n20 1997 14.417  15.437   15.467 14.563 13.177 11.738  9.411 7.285  6.686    \n21 1998 14.721  15.746   15.598 14.892 13.590 11.706  9.415 7.509  6.536    \n22 1999 14.359  15.309   15.398 15.084 13.751 11.779  9.488 7.226  6.117    \n23 2000 14.220  15.141   15.225 14.558 13.153 11.665  9.513 7.168  6.246    \n24 2001 14.203  15.211   15.516 14.857 13.510 11.456  9.070 7.461  6.732    \n25 2002 14.273  15.342   15.349 14.299 12.971 11.583  9.274 6.599  5.827    \n26 2003 14.391  15.193   15.485 14.512 13.016 11.604  9.215 6.936  6.116    \n27 2004 14.026  14.914   14.993 13.987 12.558 11.447  9.431 6.855  5.984    \n28 2005 13.661  14.373   14.687 14.090 12.911 11.162  8.649 6.301  5.504    \n29 2006 13.466  14.325   14.421 13.906 12.517 10.920  8.460 6.496  5.862    \n30 2007 13.703  14.513   14.542 13.845 12.780 11.220  7.943 5.342  4.267    \n31 2008 13.887  14.953   15.179 14.352 12.974 11.208  8.678 5.913  4.687    \n32 2009 13.914  14.812   14.984 14.496 13.187 11.320  8.465 6.136  5.262    \n33 2010 13.739  14.581   15.137 14.659 12.866 10.585  8.075 5.875  4.865    \n34 2011 13.464  14.363   14.546 14.108 12.681 10.749  7.724 5.503  4.561    \n35 2012 13.729  14.553   15.196 14.626 13.012 10.674  7.672 4.723  3.566    \n36 2013 13.703  14.723   15.032 14.299 12.997 11.360  8.132 6.014  5.208    \n37 2014 13.648  14.418   14.758 14.088 12.701 11.033  8.108 6.078  5.220    \n38 2015 13.602  14.401   14.370 13.893 12.468 10.879  8.378 5.599  4.616    \n39 2016 13.457  14.203   14.400 13.681 11.924 10.413  7.938 5.371  4.528    \n40 2017 13.190  14.120   14.290 13.753 12.631 10.756  7.939 5.481  4.822    \n41 2018 13.077  13.967   14.298 13.696 12.232 10.778  8.268 5.615  4.785    \n42 2019 13.567  14.394   14.574 13.434 12.186 10.594  7.589 5.026  4.364    \n43 2020 13.636  14.642   14.730 13.621 12.343 10.593  7.294 5.070  4.001    \n44 2021 13.501  14.390   14.658 13.792 12.682 10.765  7.647 5.715  4.952    \n45 2022 13.872  14.612   14.586 13.986 12.879 10.875  8.287 5.950  4.897    \n46 2023 13.346  14.176   14.440 13.992 12.835 10.963  8.183 5.566  4.371    \n   October November December\n1     NA   11.645   13.667  \n2  8.748   10.943   13.336  \n3  9.183   11.383   13.593  \n4  8.856   10.929   13.341  \n5  9.421   11.627   13.642  \n6  9.334   11.461   13.299  \n7  8.561   10.842   12.989  \n8  8.546   11.025   13.050  \n9  9.484   11.453   13.222  \n10 9.049   11.224       NA  \n11 9.135   11.331   13.626  \n12 8.829   11.115   13.387  \n13 8.485   11.075   13.106  \n14 8.541   10.885   12.945  \n15 9.319   11.379   13.407  \n16 8.786   11.319   13.319  \n17 8.915   11.123   13.272  \n18 7.829   10.761   12.921  \n19 9.161   10.402   12.861  \n20 8.337   10.684   13.076  \n21 8.452   10.441   12.759  \n22 8.603   10.796   12.641  \n23 8.379   10.321   12.637  \n24 8.298   10.658   12.491  \n25 8.162   10.342   12.608  \n26 7.848   10.125   12.588  \n27 7.925   10.343   12.554  \n28 7.352   10.216   12.228  \n29 7.541    9.659   11.955  \n30 6.040    9.760   12.034  \n31 7.350   10.343   12.359  \n32 6.920    9.772   12.200  \n33 6.984    9.614   11.831  \n34 6.465    9.772   12.154  \n35 5.886    9.388   12.006  \n36 7.455    9.939   12.184  \n37 7.232   10.115   12.353  \n38 6.966    9.846   12.045  \n39 6.082    8.658   11.459  \n40 6.767    9.493   11.743  \n41 6.134    9.823   11.862  \n42 5.735    9.353   11.903  \n43 5.334    8.985   11.729  \n44 6.816    9.830   12.152  \n45 6.657    9.725   11.892  \n46    NA       NA       NA  ",
            "application/com.datacamp.data-table.v1+json": {
              "table": {
                "data": [
                  {
                    "index": "1",
                    "year": 1978,
                    "January": "NA",
                    "February": "NA",
                    "March": "NA",
                    "April": "NA",
                    "May": "NA",
                    "June": "NA",
                    "July": "NA",
                    "August": "NA",
                    "September": "NA",
                    "October": "NA",
                    "November": 11.645,
                    "December": 13.667
                  },
                  {
                    "index": "2",
                    "year": 1979,
                    "January": 15.414,
                    "February": 16.175,
                    "March": 16.342,
                    "April": 15.447,
                    "May": 13.857,
                    "June": 12.53,
                    "July": 10.311,
                    "August": 8.041,
                    "September": 7.051,
                    "October": 8.748,
                    "November": 10.943,
                    "December": 13.336
                  },
                  {
                    "index": "3",
                    "year": 1980,
                    "January": 14.862,
                    "February": 15.955,
                    "March": 16.041,
                    "April": 15.429,
                    "May": 13.793,
                    "June": 12.205,
                    "July": 10.1,
                    "August": 7.984,
                    "September": 7.667,
                    "October": 9.183,
                    "November": 11.383,
                    "December": 13.593
                  },
                  {
                    "index": "4",
                    "year": 1981,
                    "January": 14.91,
                    "February": 15.604,
                    "March": 15.632,
                    "April": 15.01,
                    "May": 13.802,
                    "June": 12.43,
                    "July": 10.271,
                    "August": 7.844,
                    "September": 7.138,
                    "October": 8.856,
                    "November": 10.929,
                    "December": 13.341
                  },
                  {
                    "index": "5",
                    "year": 1982,
                    "January": 15.177,
                    "February": 15.974,
                    "March": 16.044,
                    "April": 15.466,
                    "May": 13.973,
                    "June": 12.476,
                    "July": 10.367,
                    "August": 8.139,
                    "September": 7.302,
                    "October": 9.421,
                    "November": 11.627,
                    "December": 13.642
                  },
                  {
                    "index": "6",
                    "year": 1983,
                    "January": 14.942,
                    "February": 16.006,
                    "March": 16.085,
                    "April": 15.172,
                    "May": 13.491,
                    "June": 12.296,
                    "July": 10.57,
                    "August": 8.186,
                    "September": 7.395,
                    "October": 9.334,
                    "November": 11.461,
                    "December": 13.299
                  },
                  {
                    "index": "7",
                    "year": 1984,
                    "January": 14.473,
                    "February": 15.299,
                    "March": 15.584,
                    "April": 15.015,
                    "May": 13.577,
                    "June": 12.152,
                    "July": 9.977,
                    "August": 7.771,
                    "September": 6.805,
                    "October": 8.561,
                    "November": 10.842,
                    "December": 12.989
                  },
                  {
                    "index": "8",
                    "year": 1985,
                    "January": 14.725,
                    "February": 15.466,
                    "March": 15.886,
                    "April": 15.357,
                    "May": 14.073,
                    "June": 12.219,
                    "July": 9.744,
                    "August": 7.402,
                    "September": 6.698,
                    "October": 8.546,
                    "November": 11.025,
                    "December": 13.05
                  },
                  {
                    "index": "9",
                    "year": 1986,
                    "January": 14.89,
                    "February": 15.785,
                    "March": 15.91,
                    "April": 15.059,
                    "May": 13.379,
                    "June": 11.976,
                    "July": 10.146,
                    "August": 7.979,
                    "September": 7.411,
                    "October": 9.484,
                    "November": 11.453,
                    "December": 13.222
                  },
                  {
                    "index": "10",
                    "year": 1987,
                    "January": 14.97,
                    "February": 16.05,
                    "March": 15.816,
                    "April": 15.211,
                    "May": 13.743,
                    "June": 12.486,
                    "July": 10.333,
                    "August": 7.628,
                    "September": 7.279,
                    "October": 9.049,
                    "November": 11.224,
                    "December": "NA"
                  },
                  {
                    "index": "11",
                    "year": 1988,
                    "January": "NA",
                    "February": 15.583,
                    "March": 15.957,
                    "April": 15.123,
                    "May": 13.561,
                    "June": 11.943,
                    "July": 9.809,
                    "August": 7.892,
                    "September": 7.369,
                    "October": 9.135,
                    "November": 11.331,
                    "December": 13.626
                  },
                  {
                    "index": "12",
                    "year": 1989,
                    "January": 14.955,
                    "February": 15.495,
                    "March": 15.423,
                    "April": 14.328,
                    "May": 13.044,
                    "June": 12.245,
                    "July": 10.13,
                    "August": 7.882,
                    "September": 7.008,
                    "October": 8.829,
                    "November": 11.115,
                    "December": 13.387
                  },
                  {
                    "index": "13",
                    "year": 1990,
                    "January": 14.783,
                    "February": 15.578,
                    "March": 15.867,
                    "April": 14.65,
                    "May": 13.226,
                    "June": 11.641,
                    "July": 9.247,
                    "August": 6.797,
                    "September": 6.143,
                    "October": 8.485,
                    "November": 11.075,
                    "December": 13.106
                  },
                  {
                    "index": "14",
                    "year": 1991,
                    "January": 14.364,
                    "February": 15.249,
                    "March": 15.416,
                    "April": 14.86,
                    "May": 13.473,
                    "June": 12.108,
                    "July": 9.514,
                    "August": 7.415,
                    "September": 6.473,
                    "October": 8.541,
                    "November": 10.885,
                    "December": 12.945
                  },
                  {
                    "index": "15",
                    "year": 1992,
                    "January": 14.643,
                    "February": 15.462,
                    "March": 15.481,
                    "April": 14.677,
                    "May": 13.216,
                    "June": 12.147,
                    "July": 10.323,
                    "August": 7.925,
                    "September": 7.474,
                    "October": 9.319,
                    "November": 11.379,
                    "December": 13.407
                  },
                  {
                    "index": "16",
                    "year": 1993,
                    "January": 14.896,
                    "February": 15.686,
                    "March": 15.813,
                    "April": 15.077,
                    "May": 13.368,
                    "June": 11.871,
                    "July": 9.476,
                    "August": 7.335,
                    "September": 6.397,
                    "October": 8.786,
                    "November": 11.319,
                    "December": 13.319
                  },
                  {
                    "index": "17",
                    "year": 1994,
                    "January": 14.73,
                    "February": 15.562,
                    "March": 15.554,
                    "April": 14.888,
                    "May": 13.624,
                    "June": 12.016,
                    "July": 9.925,
                    "August": 7.639,
                    "September": 7.138,
                    "October": 8.915,
                    "November": 11.123,
                    "December": 13.272
                  },
                  {
                    "index": "18",
                    "year": 1995,
                    "January": 14.586,
                    "February": 15.226,
                    "March": 15.26,
                    "April": 14.449,
                    "May": 12.972,
                    "June": 11.44,
                    "July": 8.987,
                    "August": 6.744,
                    "September": 6.08,
                    "October": 7.829,
                    "November": 10.761,
                    "December": 12.921
                  },
                  {
                    "index": "19",
                    "year": 1996,
                    "January": 14.181,
                    "February": 15.155,
                    "March": 15.123,
                    "April": 14.216,
                    "May": 13.094,
                    "June": 12.084,
                    "July": 10.164,
                    "August": 8.18,
                    "September": 7.583,
                    "October": 9.161,
                    "November": 10.402,
                    "December": 12.861
                  },
                  {
                    "index": "20",
                    "year": 1997,
                    "January": 14.417,
                    "February": 15.437,
                    "March": 15.467,
                    "April": 14.563,
                    "May": 13.177,
                    "June": 11.738,
                    "July": 9.411,
                    "August": 7.285,
                    "September": 6.686,
                    "October": 8.337,
                    "November": 10.684,
                    "December": 13.076
                  },
                  {
                    "index": "21",
                    "year": 1998,
                    "January": 14.721,
                    "February": 15.746,
                    "March": 15.598,
                    "April": 14.892,
                    "May": 13.59,
                    "June": 11.706,
                    "July": 9.415,
                    "August": 7.509,
                    "September": 6.536,
                    "October": 8.452,
                    "November": 10.441,
                    "December": 12.759
                  },
                  {
                    "index": "22",
                    "year": 1999,
                    "January": 14.359,
                    "February": 15.309,
                    "March": 15.398,
                    "April": 15.084,
                    "May": 13.751,
                    "June": 11.779,
                    "July": 9.488,
                    "August": 7.226,
                    "September": 6.117,
                    "October": 8.603,
                    "November": 10.796,
                    "December": 12.641
                  },
                  {
                    "index": "23",
                    "year": 2000,
                    "January": 14.22,
                    "February": 15.141,
                    "March": 15.225,
                    "April": 14.558,
                    "May": 13.153,
                    "June": 11.665,
                    "July": 9.513,
                    "August": 7.168,
                    "September": 6.246,
                    "October": 8.379,
                    "November": 10.321,
                    "December": 12.637
                  },
                  {
                    "index": "24",
                    "year": 2001,
                    "January": 14.203,
                    "February": 15.211,
                    "March": 15.516,
                    "April": 14.857,
                    "May": 13.51,
                    "June": 11.456,
                    "July": 9.07,
                    "August": 7.461,
                    "September": 6.732,
                    "October": 8.298,
                    "November": 10.658,
                    "December": 12.491
                  },
                  {
                    "index": "25",
                    "year": 2002,
                    "January": 14.273,
                    "February": 15.342,
                    "March": 15.349,
                    "April": 14.299,
                    "May": 12.971,
                    "June": 11.583,
                    "July": 9.274,
                    "August": 6.599,
                    "September": 5.827,
                    "October": 8.162,
                    "November": 10.342,
                    "December": 12.608
                  },
                  {
                    "index": "26",
                    "year": 2003,
                    "January": 14.391,
                    "February": 15.193,
                    "March": 15.485,
                    "April": 14.512,
                    "May": 13.016,
                    "June": 11.604,
                    "July": 9.215,
                    "August": 6.936,
                    "September": 6.116,
                    "October": 7.848,
                    "November": 10.125,
                    "December": 12.588
                  },
                  {
                    "index": "27",
                    "year": 2004,
                    "January": 14.026,
                    "February": 14.914,
                    "March": 14.993,
                    "April": 13.987,
                    "May": 12.558,
                    "June": 11.447,
                    "July": 9.431,
                    "August": 6.855,
                    "September": 5.984,
                    "October": 7.925,
                    "November": 10.343,
                    "December": 12.554
                  },
                  {
                    "index": "28",
                    "year": 2005,
                    "January": 13.661,
                    "February": 14.373,
                    "March": 14.687,
                    "April": 14.09,
                    "May": 12.911,
                    "June": 11.162,
                    "July": 8.649,
                    "August": 6.301,
                    "September": 5.504,
                    "October": 7.352,
                    "November": 10.216,
                    "December": 12.228
                  },
                  {
                    "index": "29",
                    "year": 2006,
                    "January": 13.466,
                    "February": 14.325,
                    "March": 14.421,
                    "April": 13.906,
                    "May": 12.517,
                    "June": 10.92,
                    "July": 8.46,
                    "August": 6.496,
                    "September": 5.862,
                    "October": 7.541,
                    "November": 9.659,
                    "December": 11.955
                  },
                  {
                    "index": "30",
                    "year": 2007,
                    "January": 13.703,
                    "February": 14.513,
                    "March": 14.542,
                    "April": 13.845,
                    "May": 12.78,
                    "June": 11.22,
                    "July": 7.943,
                    "August": 5.342,
                    "September": 4.267,
                    "October": 6.04,
                    "November": 9.76,
                    "December": 12.034
                  },
                  {
                    "index": "31",
                    "year": 2008,
                    "January": 13.887,
                    "February": 14.953,
                    "March": 15.179,
                    "April": 14.352,
                    "May": 12.974,
                    "June": 11.208,
                    "July": 8.678,
                    "August": 5.913,
                    "September": 4.687,
                    "October": 7.35,
                    "November": 10.343,
                    "December": 12.359
                  },
                  {
                    "index": "32",
                    "year": 2009,
                    "January": 13.914,
                    "February": 14.812,
                    "March": 14.984,
                    "April": 14.496,
                    "May": 13.187,
                    "June": 11.32,
                    "July": 8.465,
                    "August": 6.136,
                    "September": 5.262,
                    "October": 6.92,
                    "November": 9.772,
                    "December": 12.2
                  },
                  {
                    "index": "33",
                    "year": 2010,
                    "January": 13.739,
                    "February": 14.581,
                    "March": 15.137,
                    "April": 14.659,
                    "May": 12.866,
                    "June": 10.585,
                    "July": 8.075,
                    "August": 5.875,
                    "September": 4.865,
                    "October": 6.984,
                    "November": 9.614,
                    "December": 11.831
                  },
                  {
                    "index": "34",
                    "year": 2011,
                    "January": 13.464,
                    "February": 14.363,
                    "March": 14.546,
                    "April": 14.108,
                    "May": 12.681,
                    "June": 10.749,
                    "July": 7.724,
                    "August": 5.503,
                    "September": 4.561,
                    "October": 6.465,
                    "November": 9.772,
                    "December": 12.154
                  },
                  {
                    "index": "35",
                    "year": 2012,
                    "January": 13.729,
                    "February": 14.553,
                    "March": 15.196,
                    "April": 14.626,
                    "May": 13.012,
                    "June": 10.674,
                    "July": 7.672,
                    "August": 4.723,
                    "September": 3.566,
                    "October": 5.886,
                    "November": 9.388,
                    "December": 12.006
                  },
                  {
                    "index": "36",
                    "year": 2013,
                    "January": 13.703,
                    "February": 14.723,
                    "March": 15.032,
                    "April": 14.299,
                    "May": 12.997,
                    "June": 11.36,
                    "July": 8.132,
                    "August": 6.014,
                    "September": 5.208,
                    "October": 7.455,
                    "November": 9.939,
                    "December": 12.184
                  },
                  {
                    "index": "37",
                    "year": 2014,
                    "January": 13.648,
                    "February": 14.418,
                    "March": 14.758,
                    "April": 14.088,
                    "May": 12.701,
                    "June": 11.033,
                    "July": 8.108,
                    "August": 6.078,
                    "September": 5.22,
                    "October": 7.232,
                    "November": 10.115,
                    "December": 12.353
                  },
                  {
                    "index": "38",
                    "year": 2015,
                    "January": 13.602,
                    "February": 14.401,
                    "March": 14.37,
                    "April": 13.893,
                    "May": 12.468,
                    "June": 10.879,
                    "July": 8.378,
                    "August": 5.599,
                    "September": 4.616,
                    "October": 6.966,
                    "November": 9.846,
                    "December": 12.045
                  },
                  {
                    "index": "39",
                    "year": 2016,
                    "January": 13.457,
                    "February": 14.203,
                    "March": 14.4,
                    "April": 13.681,
                    "May": 11.924,
                    "June": 10.413,
                    "July": 7.938,
                    "August": 5.371,
                    "September": 4.528,
                    "October": 6.082,
                    "November": 8.658,
                    "December": 11.459
                  },
                  {
                    "index": "40",
                    "year": 2017,
                    "January": 13.19,
                    "February": 14.12,
                    "March": 14.29,
                    "April": 13.753,
                    "May": 12.631,
                    "June": 10.756,
                    "July": 7.939,
                    "August": 5.481,
                    "September": 4.822,
                    "October": 6.767,
                    "November": 9.493,
                    "December": 11.743
                  },
                  {
                    "index": "41",
                    "year": 2018,
                    "January": 13.077,
                    "February": 13.967,
                    "March": 14.298,
                    "April": 13.696,
                    "May": 12.232,
                    "June": 10.778,
                    "July": 8.268,
                    "August": 5.615,
                    "September": 4.785,
                    "October": 6.134,
                    "November": 9.823,
                    "December": 11.862
                  },
                  {
                    "index": "42",
                    "year": 2019,
                    "January": 13.567,
                    "February": 14.394,
                    "March": 14.574,
                    "April": 13.434,
                    "May": 12.186,
                    "June": 10.594,
                    "July": 7.589,
                    "August": 5.026,
                    "September": 4.364,
                    "October": 5.735,
                    "November": 9.353,
                    "December": 11.903
                  },
                  {
                    "index": "43",
                    "year": 2020,
                    "January": 13.636,
                    "February": 14.642,
                    "March": 14.73,
                    "April": 13.621,
                    "May": 12.343,
                    "June": 10.593,
                    "July": 7.294,
                    "August": 5.07,
                    "September": 4.001,
                    "October": 5.334,
                    "November": 8.985,
                    "December": 11.729
                  },
                  {
                    "index": "44",
                    "year": 2021,
                    "January": 13.501,
                    "February": 14.39,
                    "March": 14.658,
                    "April": 13.792,
                    "May": 12.682,
                    "June": 10.765,
                    "July": 7.647,
                    "August": 5.715,
                    "September": 4.952,
                    "October": 6.816,
                    "November": 9.83,
                    "December": 12.152
                  },
                  {
                    "index": "45",
                    "year": 2022,
                    "January": 13.872,
                    "February": 14.612,
                    "March": 14.586,
                    "April": 13.986,
                    "May": 12.879,
                    "June": 10.875,
                    "July": 8.287,
                    "August": 5.95,
                    "September": 4.897,
                    "October": 6.657,
                    "November": 9.725,
                    "December": 11.892
                  },
                  {
                    "index": "46",
                    "year": 2023,
                    "January": 13.346,
                    "February": 14.176,
                    "March": 14.44,
                    "April": 13.992,
                    "May": 12.835,
                    "June": 10.963,
                    "July": 8.183,
                    "August": 5.566,
                    "September": 4.371,
                    "October": "NA",
                    "November": "NA",
                    "December": "NA"
                  }
                ],
                "schema": {
                  "fields": [
                    {
                      "name": "index",
                      "type": "string"
                    },
                    {
                      "name": "year",
                      "type": "float"
                    },
                    {
                      "name": "January",
                      "type": "float"
                    },
                    {
                      "name": "February",
                      "type": "float"
                    },
                    {
                      "name": "March",
                      "type": "float"
                    },
                    {
                      "name": "April",
                      "type": "float"
                    },
                    {
                      "name": "May",
                      "type": "float"
                    },
                    {
                      "name": "June",
                      "type": "float"
                    },
                    {
                      "name": "July",
                      "type": "float"
                    },
                    {
                      "name": "August",
                      "type": "float"
                    },
                    {
                      "name": "September",
                      "type": "float"
                    },
                    {
                      "name": "October",
                      "type": "float"
                    },
                    {
                      "name": "November",
                      "type": "float"
                    },
                    {
                      "name": "December",
                      "type": "float"
                    }
                  ],
                  "pandas_version": "0.20.0",
                  "primaryKey": [
                    "index"
                  ]
                }
              },
              "total_rows": 46,
              "truncation_type": null
            }
          },
          "metadata": {}
        }
      ]
    },
    {
      "source": [
        "# Remove the first column of the data\n",
        "NH_monthly <- NH_monthly[, -1]\n",
        "\n",
        "# use pivot longer and keep only the data\n",
        "NH_monthly <- pivot_longer(NH_monthly, January:December, names_to = \"month\", values_to = \"extent_NH\")[, \"extent_NH\"]\n",
        "\n",
        "# Add the time_series as a date index column to NH_Extent_NSIDC_column\n",
        "time_series <- seq(from = as.Date(\"1978-01-15\"), to = as.Date(\"2023-12-15\"), by = \"1 month\")\n",
        "NH_monthly$date <- as.Date(time_series)\n",
        "\n",
        "# We are doing this research in begin October 2023\n",
        "# We need to remove the last three rows of NH_Extent_NSIDC_column because there is no measurments yet for all 2023\n",
        "# There are also no measurments in the first ten months of 1978\n",
        "NH_monthly <- NH_monthly[11:(nrow(NH_monthly)-3), ]\n",
        "\n",
        "# Add (the year as integer) as a new column in NH_monthly\n",
        "# This integer will be used later in the animation plot\n",
        "NH_monthly$year <- as.integer(format(NH_monthly$date, \"%Y\"))\n",
        "\n",
        "# Change the columns order\n",
        "NH_monthly <-NH_monthly[,3:1]\n",
        "\n",
        "# View the updated dataframe\n",
        "NH_monthly"
      ],
      "metadata": {
        "executionCancelledAt": null,
        "executionTime": 399,
        "lastExecutedAt": 1698056472304,
        "lastScheduledRunId": null,
        "lastSuccessfullyExecutedCode": "# Remove the first column of the data\nNH_monthly <- NH_monthly[, -1]\n\n# use pivot longer and keep only the data\nNH_monthly <- pivot_longer(NH_monthly, January:December, names_to = \"month\", values_to = \"extent_NH\")[, \"extent_NH\"]\n\n# Add the time_series as a date index column to NH_Extent_NSIDC_column\ntime_series <- seq(from = as.Date(\"1978-01-15\"), to = as.Date(\"2023-12-15\"), by = \"1 month\")\nNH_monthly$date <- as.Date(time_series)\n\n# We are doing this research in begin October 2023\n# We need to remove the last three rows of NH_Extent_NSIDC_column because there is no measurments yet for all 2023\n# There are also no measurments in the first ten months of 1978\nNH_monthly <- NH_monthly[11:(nrow(NH_monthly)-3), ]\n\n# Add (the year as integer) as a new column in NH_monthly\n# This integer will be used later in the animation plot\nNH_monthly$year <- as.integer(format(NH_monthly$date, \"%Y\"))\n\n# Change the columns order \nNH_monthly <-NH_monthly[,3:1]\n\n# View the updated dataframe\nNH_monthly",
        "outputsMetadata": {
          "0": {
            "height": 315,
            "type": "dataFrame"
          }
        },
        "id": "4a9c0a87-1607-4d76-b3ce-b8dfcfe7d70e",
        "outputId": "d1486220-5ccd-4c40-f4ce-f29fac9e9bc5"
      },
      "id": "4a9c0a87-1607-4d76-b3ce-b8dfcfe7d70e",
      "cell_type": "code",
      "execution_count": null,
      "outputs": [
        {
          "output_type": "display_data",
          "data": {
            "text/html": "<table class=\"dataframe\">\n<caption>A tibble: 539 × 3</caption>\n<thead>\n\t<tr><th scope=col>year</th><th scope=col>date</th><th scope=col>extent_NH</th></tr>\n\t<tr><th scope=col>&lt;int&gt;</th><th scope=col>&lt;date&gt;</th><th scope=col>&lt;dbl&gt;</th></tr>\n</thead>\n<tbody>\n\t<tr><td>1978</td><td>1978-11-15</td><td>11.645</td></tr>\n\t<tr><td>1978</td><td>1978-12-15</td><td>13.667</td></tr>\n\t<tr><td>1979</td><td>1979-01-15</td><td>15.414</td></tr>\n\t<tr><td>1979</td><td>1979-02-15</td><td>16.175</td></tr>\n\t<tr><td>1979</td><td>1979-03-15</td><td>16.342</td></tr>\n\t<tr><td>1979</td><td>1979-04-15</td><td>15.447</td></tr>\n\t<tr><td>1979</td><td>1979-05-15</td><td>13.857</td></tr>\n\t<tr><td>1979</td><td>1979-06-15</td><td>12.530</td></tr>\n\t<tr><td>1979</td><td>1979-07-15</td><td>10.311</td></tr>\n\t<tr><td>1979</td><td>1979-08-15</td><td> 8.041</td></tr>\n\t<tr><td>1979</td><td>1979-09-15</td><td> 7.051</td></tr>\n\t<tr><td>1979</td><td>1979-10-15</td><td> 8.748</td></tr>\n\t<tr><td>1979</td><td>1979-11-15</td><td>10.943</td></tr>\n\t<tr><td>1979</td><td>1979-12-15</td><td>13.336</td></tr>\n\t<tr><td>1980</td><td>1980-01-15</td><td>14.862</td></tr>\n\t<tr><td>1980</td><td>1980-02-15</td><td>15.955</td></tr>\n\t<tr><td>1980</td><td>1980-03-15</td><td>16.041</td></tr>\n\t<tr><td>1980</td><td>1980-04-15</td><td>15.429</td></tr>\n\t<tr><td>1980</td><td>1980-05-15</td><td>13.793</td></tr>\n\t<tr><td>1980</td><td>1980-06-15</td><td>12.205</td></tr>\n\t<tr><td>1980</td><td>1980-07-15</td><td>10.100</td></tr>\n\t<tr><td>1980</td><td>1980-08-15</td><td> 7.984</td></tr>\n\t<tr><td>1980</td><td>1980-09-15</td><td> 7.667</td></tr>\n\t<tr><td>1980</td><td>1980-10-15</td><td> 9.183</td></tr>\n\t<tr><td>1980</td><td>1980-11-15</td><td>11.383</td></tr>\n\t<tr><td>1980</td><td>1980-12-15</td><td>13.593</td></tr>\n\t<tr><td>1981</td><td>1981-01-15</td><td>14.910</td></tr>\n\t<tr><td>1981</td><td>1981-02-15</td><td>15.604</td></tr>\n\t<tr><td>1981</td><td>1981-03-15</td><td>15.632</td></tr>\n\t<tr><td>1981</td><td>1981-04-15</td><td>15.010</td></tr>\n\t<tr><td>⋮</td><td>⋮</td><td>⋮</td></tr>\n\t<tr><td>2021</td><td>2021-04-15</td><td>13.792</td></tr>\n\t<tr><td>2021</td><td>2021-05-15</td><td>12.682</td></tr>\n\t<tr><td>2021</td><td>2021-06-15</td><td>10.765</td></tr>\n\t<tr><td>2021</td><td>2021-07-15</td><td> 7.647</td></tr>\n\t<tr><td>2021</td><td>2021-08-15</td><td> 5.715</td></tr>\n\t<tr><td>2021</td><td>2021-09-15</td><td> 4.952</td></tr>\n\t<tr><td>2021</td><td>2021-10-15</td><td> 6.816</td></tr>\n\t<tr><td>2021</td><td>2021-11-15</td><td> 9.830</td></tr>\n\t<tr><td>2021</td><td>2021-12-15</td><td>12.152</td></tr>\n\t<tr><td>2022</td><td>2022-01-15</td><td>13.872</td></tr>\n\t<tr><td>2022</td><td>2022-02-15</td><td>14.612</td></tr>\n\t<tr><td>2022</td><td>2022-03-15</td><td>14.586</td></tr>\n\t<tr><td>2022</td><td>2022-04-15</td><td>13.986</td></tr>\n\t<tr><td>2022</td><td>2022-05-15</td><td>12.879</td></tr>\n\t<tr><td>2022</td><td>2022-06-15</td><td>10.875</td></tr>\n\t<tr><td>2022</td><td>2022-07-15</td><td> 8.287</td></tr>\n\t<tr><td>2022</td><td>2022-08-15</td><td> 5.950</td></tr>\n\t<tr><td>2022</td><td>2022-09-15</td><td> 4.897</td></tr>\n\t<tr><td>2022</td><td>2022-10-15</td><td> 6.657</td></tr>\n\t<tr><td>2022</td><td>2022-11-15</td><td> 9.725</td></tr>\n\t<tr><td>2022</td><td>2022-12-15</td><td>11.892</td></tr>\n\t<tr><td>2023</td><td>2023-01-15</td><td>13.346</td></tr>\n\t<tr><td>2023</td><td>2023-02-15</td><td>14.176</td></tr>\n\t<tr><td>2023</td><td>2023-03-15</td><td>14.440</td></tr>\n\t<tr><td>2023</td><td>2023-04-15</td><td>13.992</td></tr>\n\t<tr><td>2023</td><td>2023-05-15</td><td>12.835</td></tr>\n\t<tr><td>2023</td><td>2023-06-15</td><td>10.963</td></tr>\n\t<tr><td>2023</td><td>2023-07-15</td><td> 8.183</td></tr>\n\t<tr><td>2023</td><td>2023-08-15</td><td> 5.566</td></tr>\n\t<tr><td>2023</td><td>2023-09-15</td><td> 4.371</td></tr>\n</tbody>\n</table>\n",
            "text/markdown": "\nA tibble: 539 × 3\n\n| year &lt;int&gt; | date &lt;date&gt; | extent_NH &lt;dbl&gt; |\n|---|---|---|\n| 1978 | 1978-11-15 | 11.645 |\n| 1978 | 1978-12-15 | 13.667 |\n| 1979 | 1979-01-15 | 15.414 |\n| 1979 | 1979-02-15 | 16.175 |\n| 1979 | 1979-03-15 | 16.342 |\n| 1979 | 1979-04-15 | 15.447 |\n| 1979 | 1979-05-15 | 13.857 |\n| 1979 | 1979-06-15 | 12.530 |\n| 1979 | 1979-07-15 | 10.311 |\n| 1979 | 1979-08-15 |  8.041 |\n| 1979 | 1979-09-15 |  7.051 |\n| 1979 | 1979-10-15 |  8.748 |\n| 1979 | 1979-11-15 | 10.943 |\n| 1979 | 1979-12-15 | 13.336 |\n| 1980 | 1980-01-15 | 14.862 |\n| 1980 | 1980-02-15 | 15.955 |\n| 1980 | 1980-03-15 | 16.041 |\n| 1980 | 1980-04-15 | 15.429 |\n| 1980 | 1980-05-15 | 13.793 |\n| 1980 | 1980-06-15 | 12.205 |\n| 1980 | 1980-07-15 | 10.100 |\n| 1980 | 1980-08-15 |  7.984 |\n| 1980 | 1980-09-15 |  7.667 |\n| 1980 | 1980-10-15 |  9.183 |\n| 1980 | 1980-11-15 | 11.383 |\n| 1980 | 1980-12-15 | 13.593 |\n| 1981 | 1981-01-15 | 14.910 |\n| 1981 | 1981-02-15 | 15.604 |\n| 1981 | 1981-03-15 | 15.632 |\n| 1981 | 1981-04-15 | 15.010 |\n| ⋮ | ⋮ | ⋮ |\n| 2021 | 2021-04-15 | 13.792 |\n| 2021 | 2021-05-15 | 12.682 |\n| 2021 | 2021-06-15 | 10.765 |\n| 2021 | 2021-07-15 |  7.647 |\n| 2021 | 2021-08-15 |  5.715 |\n| 2021 | 2021-09-15 |  4.952 |\n| 2021 | 2021-10-15 |  6.816 |\n| 2021 | 2021-11-15 |  9.830 |\n| 2021 | 2021-12-15 | 12.152 |\n| 2022 | 2022-01-15 | 13.872 |\n| 2022 | 2022-02-15 | 14.612 |\n| 2022 | 2022-03-15 | 14.586 |\n| 2022 | 2022-04-15 | 13.986 |\n| 2022 | 2022-05-15 | 12.879 |\n| 2022 | 2022-06-15 | 10.875 |\n| 2022 | 2022-07-15 |  8.287 |\n| 2022 | 2022-08-15 |  5.950 |\n| 2022 | 2022-09-15 |  4.897 |\n| 2022 | 2022-10-15 |  6.657 |\n| 2022 | 2022-11-15 |  9.725 |\n| 2022 | 2022-12-15 | 11.892 |\n| 2023 | 2023-01-15 | 13.346 |\n| 2023 | 2023-02-15 | 14.176 |\n| 2023 | 2023-03-15 | 14.440 |\n| 2023 | 2023-04-15 | 13.992 |\n| 2023 | 2023-05-15 | 12.835 |\n| 2023 | 2023-06-15 | 10.963 |\n| 2023 | 2023-07-15 |  8.183 |\n| 2023 | 2023-08-15 |  5.566 |\n| 2023 | 2023-09-15 |  4.371 |\n\n",
            "text/latex": "A tibble: 539 × 3\n\\begin{tabular}{lll}\n year & date & extent\\_NH\\\\\n <int> & <date> & <dbl>\\\\\n\\hline\n\t 1978 & 1978-11-15 & 11.645\\\\\n\t 1978 & 1978-12-15 & 13.667\\\\\n\t 1979 & 1979-01-15 & 15.414\\\\\n\t 1979 & 1979-02-15 & 16.175\\\\\n\t 1979 & 1979-03-15 & 16.342\\\\\n\t 1979 & 1979-04-15 & 15.447\\\\\n\t 1979 & 1979-05-15 & 13.857\\\\\n\t 1979 & 1979-06-15 & 12.530\\\\\n\t 1979 & 1979-07-15 & 10.311\\\\\n\t 1979 & 1979-08-15 &  8.041\\\\\n\t 1979 & 1979-09-15 &  7.051\\\\\n\t 1979 & 1979-10-15 &  8.748\\\\\n\t 1979 & 1979-11-15 & 10.943\\\\\n\t 1979 & 1979-12-15 & 13.336\\\\\n\t 1980 & 1980-01-15 & 14.862\\\\\n\t 1980 & 1980-02-15 & 15.955\\\\\n\t 1980 & 1980-03-15 & 16.041\\\\\n\t 1980 & 1980-04-15 & 15.429\\\\\n\t 1980 & 1980-05-15 & 13.793\\\\\n\t 1980 & 1980-06-15 & 12.205\\\\\n\t 1980 & 1980-07-15 & 10.100\\\\\n\t 1980 & 1980-08-15 &  7.984\\\\\n\t 1980 & 1980-09-15 &  7.667\\\\\n\t 1980 & 1980-10-15 &  9.183\\\\\n\t 1980 & 1980-11-15 & 11.383\\\\\n\t 1980 & 1980-12-15 & 13.593\\\\\n\t 1981 & 1981-01-15 & 14.910\\\\\n\t 1981 & 1981-02-15 & 15.604\\\\\n\t 1981 & 1981-03-15 & 15.632\\\\\n\t 1981 & 1981-04-15 & 15.010\\\\\n\t ⋮ & ⋮ & ⋮\\\\\n\t 2021 & 2021-04-15 & 13.792\\\\\n\t 2021 & 2021-05-15 & 12.682\\\\\n\t 2021 & 2021-06-15 & 10.765\\\\\n\t 2021 & 2021-07-15 &  7.647\\\\\n\t 2021 & 2021-08-15 &  5.715\\\\\n\t 2021 & 2021-09-15 &  4.952\\\\\n\t 2021 & 2021-10-15 &  6.816\\\\\n\t 2021 & 2021-11-15 &  9.830\\\\\n\t 2021 & 2021-12-15 & 12.152\\\\\n\t 2022 & 2022-01-15 & 13.872\\\\\n\t 2022 & 2022-02-15 & 14.612\\\\\n\t 2022 & 2022-03-15 & 14.586\\\\\n\t 2022 & 2022-04-15 & 13.986\\\\\n\t 2022 & 2022-05-15 & 12.879\\\\\n\t 2022 & 2022-06-15 & 10.875\\\\\n\t 2022 & 2022-07-15 &  8.287\\\\\n\t 2022 & 2022-08-15 &  5.950\\\\\n\t 2022 & 2022-09-15 &  4.897\\\\\n\t 2022 & 2022-10-15 &  6.657\\\\\n\t 2022 & 2022-11-15 &  9.725\\\\\n\t 2022 & 2022-12-15 & 11.892\\\\\n\t 2023 & 2023-01-15 & 13.346\\\\\n\t 2023 & 2023-02-15 & 14.176\\\\\n\t 2023 & 2023-03-15 & 14.440\\\\\n\t 2023 & 2023-04-15 & 13.992\\\\\n\t 2023 & 2023-05-15 & 12.835\\\\\n\t 2023 & 2023-06-15 & 10.963\\\\\n\t 2023 & 2023-07-15 &  8.183\\\\\n\t 2023 & 2023-08-15 &  5.566\\\\\n\t 2023 & 2023-09-15 &  4.371\\\\\n\\end{tabular}\n",
            "text/plain": "    year date       extent_NH\n1   1978 1978-11-15 11.645   \n2   1978 1978-12-15 13.667   \n3   1979 1979-01-15 15.414   \n4   1979 1979-02-15 16.175   \n5   1979 1979-03-15 16.342   \n6   1979 1979-04-15 15.447   \n7   1979 1979-05-15 13.857   \n8   1979 1979-06-15 12.530   \n9   1979 1979-07-15 10.311   \n10  1979 1979-08-15  8.041   \n11  1979 1979-09-15  7.051   \n12  1979 1979-10-15  8.748   \n13  1979 1979-11-15 10.943   \n14  1979 1979-12-15 13.336   \n15  1980 1980-01-15 14.862   \n16  1980 1980-02-15 15.955   \n17  1980 1980-03-15 16.041   \n18  1980 1980-04-15 15.429   \n19  1980 1980-05-15 13.793   \n20  1980 1980-06-15 12.205   \n21  1980 1980-07-15 10.100   \n22  1980 1980-08-15  7.984   \n23  1980 1980-09-15  7.667   \n24  1980 1980-10-15  9.183   \n25  1980 1980-11-15 11.383   \n26  1980 1980-12-15 13.593   \n27  1981 1981-01-15 14.910   \n28  1981 1981-02-15 15.604   \n29  1981 1981-03-15 15.632   \n30  1981 1981-04-15 15.010   \n⋮   ⋮    ⋮          ⋮        \n510 2021 2021-04-15 13.792   \n511 2021 2021-05-15 12.682   \n512 2021 2021-06-15 10.765   \n513 2021 2021-07-15  7.647   \n514 2021 2021-08-15  5.715   \n515 2021 2021-09-15  4.952   \n516 2021 2021-10-15  6.816   \n517 2021 2021-11-15  9.830   \n518 2021 2021-12-15 12.152   \n519 2022 2022-01-15 13.872   \n520 2022 2022-02-15 14.612   \n521 2022 2022-03-15 14.586   \n522 2022 2022-04-15 13.986   \n523 2022 2022-05-15 12.879   \n524 2022 2022-06-15 10.875   \n525 2022 2022-07-15  8.287   \n526 2022 2022-08-15  5.950   \n527 2022 2022-09-15  4.897   \n528 2022 2022-10-15  6.657   \n529 2022 2022-11-15  9.725   \n530 2022 2022-12-15 11.892   \n531 2023 2023-01-15 13.346   \n532 2023 2023-02-15 14.176   \n533 2023 2023-03-15 14.440   \n534 2023 2023-04-15 13.992   \n535 2023 2023-05-15 12.835   \n536 2023 2023-06-15 10.963   \n537 2023 2023-07-15  8.183   \n538 2023 2023-08-15  5.566   \n539 2023 2023-09-15  4.371   ",
            "application/com.datacamp.data-table.v1+json": {
              "table": {
                "data": [
                  {
                    "index": "1",
                    "year": 1978,
                    "date": "1978-11-15",
                    "extent_NH": 11.645
                  },
                  {
                    "index": "2",
                    "year": 1978,
                    "date": "1978-12-15",
                    "extent_NH": 13.667
                  },
                  {
                    "index": "3",
                    "year": 1979,
                    "date": "1979-01-15",
                    "extent_NH": 15.414
                  },
                  {
                    "index": "4",
                    "year": 1979,
                    "date": "1979-02-15",
                    "extent_NH": 16.175
                  },
                  {
                    "index": "5",
                    "year": 1979,
                    "date": "1979-03-15",
                    "extent_NH": 16.342
                  },
                  {
                    "index": "6",
                    "year": 1979,
                    "date": "1979-04-15",
                    "extent_NH": 15.447
                  },
                  {
                    "index": "7",
                    "year": 1979,
                    "date": "1979-05-15",
                    "extent_NH": 13.857
                  },
                  {
                    "index": "8",
                    "year": 1979,
                    "date": "1979-06-15",
                    "extent_NH": 12.53
                  },
                  {
                    "index": "9",
                    "year": 1979,
                    "date": "1979-07-15",
                    "extent_NH": 10.311
                  },
                  {
                    "index": "10",
                    "year": 1979,
                    "date": "1979-08-15",
                    "extent_NH": 8.041
                  },
                  {
                    "index": "11",
                    "year": 1979,
                    "date": "1979-09-15",
                    "extent_NH": 7.051
                  },
                  {
                    "index": "12",
                    "year": 1979,
                    "date": "1979-10-15",
                    "extent_NH": 8.748
                  },
                  {
                    "index": "13",
                    "year": 1979,
                    "date": "1979-11-15",
                    "extent_NH": 10.943
                  },
                  {
                    "index": "14",
                    "year": 1979,
                    "date": "1979-12-15",
                    "extent_NH": 13.336
                  },
                  {
                    "index": "15",
                    "year": 1980,
                    "date": "1980-01-15",
                    "extent_NH": 14.862
                  },
                  {
                    "index": "16",
                    "year": 1980,
                    "date": "1980-02-15",
                    "extent_NH": 15.955
                  },
                  {
                    "index": "17",
                    "year": 1980,
                    "date": "1980-03-15",
                    "extent_NH": 16.041
                  },
                  {
                    "index": "18",
                    "year": 1980,
                    "date": "1980-04-15",
                    "extent_NH": 15.429
                  },
                  {
                    "index": "19",
                    "year": 1980,
                    "date": "1980-05-15",
                    "extent_NH": 13.793
                  },
                  {
                    "index": "20",
                    "year": 1980,
                    "date": "1980-06-15",
                    "extent_NH": 12.205
                  },
                  {
                    "index": "21",
                    "year": 1980,
                    "date": "1980-07-15",
                    "extent_NH": 10.1
                  },
                  {
                    "index": "22",
                    "year": 1980,
                    "date": "1980-08-15",
                    "extent_NH": 7.984
                  },
                  {
                    "index": "23",
                    "year": 1980,
                    "date": "1980-09-15",
                    "extent_NH": 7.667
                  },
                  {
                    "index": "24",
                    "year": 1980,
                    "date": "1980-10-15",
                    "extent_NH": 9.183
                  },
                  {
                    "index": "25",
                    "year": 1980,
                    "date": "1980-11-15",
                    "extent_NH": 11.383
                  },
                  {
                    "index": "26",
                    "year": 1980,
                    "date": "1980-12-15",
                    "extent_NH": 13.593
                  },
                  {
                    "index": "27",
                    "year": 1981,
                    "date": "1981-01-15",
                    "extent_NH": 14.91
                  },
                  {
                    "index": "28",
                    "year": 1981,
                    "date": "1981-02-15",
                    "extent_NH": 15.604
                  },
                  {
                    "index": "29",
                    "year": 1981,
                    "date": "1981-03-15",
                    "extent_NH": 15.632
                  },
                  {
                    "index": "30",
                    "year": 1981,
                    "date": "1981-04-15",
                    "extent_NH": 15.01
                  },
                  {
                    "index": "31",
                    "year": 1981,
                    "date": "1981-05-15",
                    "extent_NH": 13.802
                  },
                  {
                    "index": "32",
                    "year": 1981,
                    "date": "1981-06-15",
                    "extent_NH": 12.43
                  },
                  {
                    "index": "33",
                    "year": 1981,
                    "date": "1981-07-15",
                    "extent_NH": 10.271
                  },
                  {
                    "index": "34",
                    "year": 1981,
                    "date": "1981-08-15",
                    "extent_NH": 7.844
                  },
                  {
                    "index": "35",
                    "year": 1981,
                    "date": "1981-09-15",
                    "extent_NH": 7.138
                  },
                  {
                    "index": "36",
                    "year": 1981,
                    "date": "1981-10-15",
                    "extent_NH": 8.856
                  },
                  {
                    "index": "37",
                    "year": 1981,
                    "date": "1981-11-15",
                    "extent_NH": 10.929
                  },
                  {
                    "index": "38",
                    "year": 1981,
                    "date": "1981-12-15",
                    "extent_NH": 13.341
                  },
                  {
                    "index": "39",
                    "year": 1982,
                    "date": "1982-01-15",
                    "extent_NH": 15.177
                  },
                  {
                    "index": "40",
                    "year": 1982,
                    "date": "1982-02-15",
                    "extent_NH": 15.974
                  },
                  {
                    "index": "41",
                    "year": 1982,
                    "date": "1982-03-15",
                    "extent_NH": 16.044
                  },
                  {
                    "index": "42",
                    "year": 1982,
                    "date": "1982-04-15",
                    "extent_NH": 15.466
                  },
                  {
                    "index": "43",
                    "year": 1982,
                    "date": "1982-05-15",
                    "extent_NH": 13.973
                  },
                  {
                    "index": "44",
                    "year": 1982,
                    "date": "1982-06-15",
                    "extent_NH": 12.476
                  },
                  {
                    "index": "45",
                    "year": 1982,
                    "date": "1982-07-15",
                    "extent_NH": 10.367
                  },
                  {
                    "index": "46",
                    "year": 1982,
                    "date": "1982-08-15",
                    "extent_NH": 8.139
                  },
                  {
                    "index": "47",
                    "year": 1982,
                    "date": "1982-09-15",
                    "extent_NH": 7.302
                  },
                  {
                    "index": "48",
                    "year": 1982,
                    "date": "1982-10-15",
                    "extent_NH": 9.421
                  },
                  {
                    "index": "49",
                    "year": 1982,
                    "date": "1982-11-15",
                    "extent_NH": 11.627
                  },
                  {
                    "index": "50",
                    "year": 1982,
                    "date": "1982-12-15",
                    "extent_NH": 13.642
                  },
                  {
                    "index": "51",
                    "year": 1983,
                    "date": "1983-01-15",
                    "extent_NH": 14.942
                  },
                  {
                    "index": "52",
                    "year": 1983,
                    "date": "1983-02-15",
                    "extent_NH": 16.006
                  },
                  {
                    "index": "53",
                    "year": 1983,
                    "date": "1983-03-15",
                    "extent_NH": 16.085
                  },
                  {
                    "index": "54",
                    "year": 1983,
                    "date": "1983-04-15",
                    "extent_NH": 15.172
                  },
                  {
                    "index": "55",
                    "year": 1983,
                    "date": "1983-05-15",
                    "extent_NH": 13.491
                  },
                  {
                    "index": "56",
                    "year": 1983,
                    "date": "1983-06-15",
                    "extent_NH": 12.296
                  },
                  {
                    "index": "57",
                    "year": 1983,
                    "date": "1983-07-15",
                    "extent_NH": 10.57
                  },
                  {
                    "index": "58",
                    "year": 1983,
                    "date": "1983-08-15",
                    "extent_NH": 8.186
                  },
                  {
                    "index": "59",
                    "year": 1983,
                    "date": "1983-09-15",
                    "extent_NH": 7.395
                  },
                  {
                    "index": "60",
                    "year": 1983,
                    "date": "1983-10-15",
                    "extent_NH": 9.334
                  },
                  {
                    "index": "61",
                    "year": 1983,
                    "date": "1983-11-15",
                    "extent_NH": 11.461
                  },
                  {
                    "index": "62",
                    "year": 1983,
                    "date": "1983-12-15",
                    "extent_NH": 13.299
                  },
                  {
                    "index": "63",
                    "year": 1984,
                    "date": "1984-01-15",
                    "extent_NH": 14.473
                  },
                  {
                    "index": "64",
                    "year": 1984,
                    "date": "1984-02-15",
                    "extent_NH": 15.299
                  },
                  {
                    "index": "65",
                    "year": 1984,
                    "date": "1984-03-15",
                    "extent_NH": 15.584
                  },
                  {
                    "index": "66",
                    "year": 1984,
                    "date": "1984-04-15",
                    "extent_NH": 15.015
                  },
                  {
                    "index": "67",
                    "year": 1984,
                    "date": "1984-05-15",
                    "extent_NH": 13.577
                  },
                  {
                    "index": "68",
                    "year": 1984,
                    "date": "1984-06-15",
                    "extent_NH": 12.152
                  },
                  {
                    "index": "69",
                    "year": 1984,
                    "date": "1984-07-15",
                    "extent_NH": 9.977
                  },
                  {
                    "index": "70",
                    "year": 1984,
                    "date": "1984-08-15",
                    "extent_NH": 7.771
                  },
                  {
                    "index": "71",
                    "year": 1984,
                    "date": "1984-09-15",
                    "extent_NH": 6.805
                  },
                  {
                    "index": "72",
                    "year": 1984,
                    "date": "1984-10-15",
                    "extent_NH": 8.561
                  },
                  {
                    "index": "73",
                    "year": 1984,
                    "date": "1984-11-15",
                    "extent_NH": 10.842
                  },
                  {
                    "index": "74",
                    "year": 1984,
                    "date": "1984-12-15",
                    "extent_NH": 12.989
                  },
                  {
                    "index": "75",
                    "year": 1985,
                    "date": "1985-01-15",
                    "extent_NH": 14.725
                  },
                  {
                    "index": "76",
                    "year": 1985,
                    "date": "1985-02-15",
                    "extent_NH": 15.466
                  },
                  {
                    "index": "77",
                    "year": 1985,
                    "date": "1985-03-15",
                    "extent_NH": 15.886
                  },
                  {
                    "index": "78",
                    "year": 1985,
                    "date": "1985-04-15",
                    "extent_NH": 15.357
                  },
                  {
                    "index": "79",
                    "year": 1985,
                    "date": "1985-05-15",
                    "extent_NH": 14.073
                  },
                  {
                    "index": "80",
                    "year": 1985,
                    "date": "1985-06-15",
                    "extent_NH": 12.219
                  },
                  {
                    "index": "81",
                    "year": 1985,
                    "date": "1985-07-15",
                    "extent_NH": 9.744
                  },
                  {
                    "index": "82",
                    "year": 1985,
                    "date": "1985-08-15",
                    "extent_NH": 7.402
                  },
                  {
                    "index": "83",
                    "year": 1985,
                    "date": "1985-09-15",
                    "extent_NH": 6.698
                  },
                  {
                    "index": "84",
                    "year": 1985,
                    "date": "1985-10-15",
                    "extent_NH": 8.546
                  },
                  {
                    "index": "85",
                    "year": 1985,
                    "date": "1985-11-15",
                    "extent_NH": 11.025
                  },
                  {
                    "index": "86",
                    "year": 1985,
                    "date": "1985-12-15",
                    "extent_NH": 13.05
                  },
                  {
                    "index": "87",
                    "year": 1986,
                    "date": "1986-01-15",
                    "extent_NH": 14.89
                  },
                  {
                    "index": "88",
                    "year": 1986,
                    "date": "1986-02-15",
                    "extent_NH": 15.785
                  },
                  {
                    "index": "89",
                    "year": 1986,
                    "date": "1986-03-15",
                    "extent_NH": 15.91
                  },
                  {
                    "index": "90",
                    "year": 1986,
                    "date": "1986-04-15",
                    "extent_NH": 15.059
                  },
                  {
                    "index": "91",
                    "year": 1986,
                    "date": "1986-05-15",
                    "extent_NH": 13.379
                  },
                  {
                    "index": "92",
                    "year": 1986,
                    "date": "1986-06-15",
                    "extent_NH": 11.976
                  },
                  {
                    "index": "93",
                    "year": 1986,
                    "date": "1986-07-15",
                    "extent_NH": 10.146
                  },
                  {
                    "index": "94",
                    "year": 1986,
                    "date": "1986-08-15",
                    "extent_NH": 7.979
                  },
                  {
                    "index": "95",
                    "year": 1986,
                    "date": "1986-09-15",
                    "extent_NH": 7.411
                  },
                  {
                    "index": "96",
                    "year": 1986,
                    "date": "1986-10-15",
                    "extent_NH": 9.484
                  },
                  {
                    "index": "97",
                    "year": 1986,
                    "date": "1986-11-15",
                    "extent_NH": 11.453
                  },
                  {
                    "index": "98",
                    "year": 1986,
                    "date": "1986-12-15",
                    "extent_NH": 13.222
                  },
                  {
                    "index": "99",
                    "year": 1987,
                    "date": "1987-01-15",
                    "extent_NH": 14.97
                  },
                  {
                    "index": "100",
                    "year": 1987,
                    "date": "1987-02-15",
                    "extent_NH": 16.05
                  },
                  {
                    "index": "101",
                    "year": 1987,
                    "date": "1987-03-15",
                    "extent_NH": 15.816
                  },
                  {
                    "index": "102",
                    "year": 1987,
                    "date": "1987-04-15",
                    "extent_NH": 15.211
                  },
                  {
                    "index": "103",
                    "year": 1987,
                    "date": "1987-05-15",
                    "extent_NH": 13.743
                  },
                  {
                    "index": "104",
                    "year": 1987,
                    "date": "1987-06-15",
                    "extent_NH": 12.486
                  },
                  {
                    "index": "105",
                    "year": 1987,
                    "date": "1987-07-15",
                    "extent_NH": 10.333
                  },
                  {
                    "index": "106",
                    "year": 1987,
                    "date": "1987-08-15",
                    "extent_NH": 7.628
                  },
                  {
                    "index": "107",
                    "year": 1987,
                    "date": "1987-09-15",
                    "extent_NH": 7.279
                  },
                  {
                    "index": "108",
                    "year": 1987,
                    "date": "1987-10-15",
                    "extent_NH": 9.049
                  },
                  {
                    "index": "109",
                    "year": 1987,
                    "date": "1987-11-15",
                    "extent_NH": 11.224
                  },
                  {
                    "index": "110",
                    "year": 1987,
                    "date": "1987-12-15",
                    "extent_NH": "NA"
                  },
                  {
                    "index": "111",
                    "year": 1988,
                    "date": "1988-01-15",
                    "extent_NH": "NA"
                  },
                  {
                    "index": "112",
                    "year": 1988,
                    "date": "1988-02-15",
                    "extent_NH": 15.583
                  },
                  {
                    "index": "113",
                    "year": 1988,
                    "date": "1988-03-15",
                    "extent_NH": 15.957
                  },
                  {
                    "index": "114",
                    "year": 1988,
                    "date": "1988-04-15",
                    "extent_NH": 15.123
                  },
                  {
                    "index": "115",
                    "year": 1988,
                    "date": "1988-05-15",
                    "extent_NH": 13.561
                  },
                  {
                    "index": "116",
                    "year": 1988,
                    "date": "1988-06-15",
                    "extent_NH": 11.943
                  },
                  {
                    "index": "117",
                    "year": 1988,
                    "date": "1988-07-15",
                    "extent_NH": 9.809
                  },
                  {
                    "index": "118",
                    "year": 1988,
                    "date": "1988-08-15",
                    "extent_NH": 7.892
                  },
                  {
                    "index": "119",
                    "year": 1988,
                    "date": "1988-09-15",
                    "extent_NH": 7.369
                  },
                  {
                    "index": "120",
                    "year": 1988,
                    "date": "1988-10-15",
                    "extent_NH": 9.135
                  },
                  {
                    "index": "121",
                    "year": 1988,
                    "date": "1988-11-15",
                    "extent_NH": 11.331
                  },
                  {
                    "index": "122",
                    "year": 1988,
                    "date": "1988-12-15",
                    "extent_NH": 13.626
                  },
                  {
                    "index": "123",
                    "year": 1989,
                    "date": "1989-01-15",
                    "extent_NH": 14.955
                  },
                  {
                    "index": "124",
                    "year": 1989,
                    "date": "1989-02-15",
                    "extent_NH": 15.495
                  },
                  {
                    "index": "125",
                    "year": 1989,
                    "date": "1989-03-15",
                    "extent_NH": 15.423
                  },
                  {
                    "index": "126",
                    "year": 1989,
                    "date": "1989-04-15",
                    "extent_NH": 14.328
                  },
                  {
                    "index": "127",
                    "year": 1989,
                    "date": "1989-05-15",
                    "extent_NH": 13.044
                  },
                  {
                    "index": "128",
                    "year": 1989,
                    "date": "1989-06-15",
                    "extent_NH": 12.245
                  },
                  {
                    "index": "129",
                    "year": 1989,
                    "date": "1989-07-15",
                    "extent_NH": 10.13
                  },
                  {
                    "index": "130",
                    "year": 1989,
                    "date": "1989-08-15",
                    "extent_NH": 7.882
                  },
                  {
                    "index": "131",
                    "year": 1989,
                    "date": "1989-09-15",
                    "extent_NH": 7.008
                  },
                  {
                    "index": "132",
                    "year": 1989,
                    "date": "1989-10-15",
                    "extent_NH": 8.829
                  },
                  {
                    "index": "133",
                    "year": 1989,
                    "date": "1989-11-15",
                    "extent_NH": 11.115
                  },
                  {
                    "index": "134",
                    "year": 1989,
                    "date": "1989-12-15",
                    "extent_NH": 13.387
                  },
                  {
                    "index": "135",
                    "year": 1990,
                    "date": "1990-01-15",
                    "extent_NH": 14.783
                  },
                  {
                    "index": "136",
                    "year": 1990,
                    "date": "1990-02-15",
                    "extent_NH": 15.578
                  },
                  {
                    "index": "137",
                    "year": 1990,
                    "date": "1990-03-15",
                    "extent_NH": 15.867
                  },
                  {
                    "index": "138",
                    "year": 1990,
                    "date": "1990-04-15",
                    "extent_NH": 14.65
                  },
                  {
                    "index": "139",
                    "year": 1990,
                    "date": "1990-05-15",
                    "extent_NH": 13.226
                  },
                  {
                    "index": "140",
                    "year": 1990,
                    "date": "1990-06-15",
                    "extent_NH": 11.641
                  },
                  {
                    "index": "141",
                    "year": 1990,
                    "date": "1990-07-15",
                    "extent_NH": 9.247
                  },
                  {
                    "index": "142",
                    "year": 1990,
                    "date": "1990-08-15",
                    "extent_NH": 6.797
                  },
                  {
                    "index": "143",
                    "year": 1990,
                    "date": "1990-09-15",
                    "extent_NH": 6.143
                  },
                  {
                    "index": "144",
                    "year": 1990,
                    "date": "1990-10-15",
                    "extent_NH": 8.485
                  },
                  {
                    "index": "145",
                    "year": 1990,
                    "date": "1990-11-15",
                    "extent_NH": 11.075
                  },
                  {
                    "index": "146",
                    "year": 1990,
                    "date": "1990-12-15",
                    "extent_NH": 13.106
                  },
                  {
                    "index": "147",
                    "year": 1991,
                    "date": "1991-01-15",
                    "extent_NH": 14.364
                  },
                  {
                    "index": "148",
                    "year": 1991,
                    "date": "1991-02-15",
                    "extent_NH": 15.249
                  },
                  {
                    "index": "149",
                    "year": 1991,
                    "date": "1991-03-15",
                    "extent_NH": 15.416
                  },
                  {
                    "index": "150",
                    "year": 1991,
                    "date": "1991-04-15",
                    "extent_NH": 14.86
                  },
                  {
                    "index": "151",
                    "year": 1991,
                    "date": "1991-05-15",
                    "extent_NH": 13.473
                  },
                  {
                    "index": "152",
                    "year": 1991,
                    "date": "1991-06-15",
                    "extent_NH": 12.108
                  },
                  {
                    "index": "153",
                    "year": 1991,
                    "date": "1991-07-15",
                    "extent_NH": 9.514
                  },
                  {
                    "index": "154",
                    "year": 1991,
                    "date": "1991-08-15",
                    "extent_NH": 7.415
                  },
                  {
                    "index": "155",
                    "year": 1991,
                    "date": "1991-09-15",
                    "extent_NH": 6.473
                  },
                  {
                    "index": "156",
                    "year": 1991,
                    "date": "1991-10-15",
                    "extent_NH": 8.541
                  },
                  {
                    "index": "157",
                    "year": 1991,
                    "date": "1991-11-15",
                    "extent_NH": 10.885
                  },
                  {
                    "index": "158",
                    "year": 1991,
                    "date": "1991-12-15",
                    "extent_NH": 12.945
                  },
                  {
                    "index": "159",
                    "year": 1992,
                    "date": "1992-01-15",
                    "extent_NH": 14.643
                  },
                  {
                    "index": "160",
                    "year": 1992,
                    "date": "1992-02-15",
                    "extent_NH": 15.462
                  },
                  {
                    "index": "161",
                    "year": 1992,
                    "date": "1992-03-15",
                    "extent_NH": 15.481
                  },
                  {
                    "index": "162",
                    "year": 1992,
                    "date": "1992-04-15",
                    "extent_NH": 14.677
                  },
                  {
                    "index": "163",
                    "year": 1992,
                    "date": "1992-05-15",
                    "extent_NH": 13.216
                  },
                  {
                    "index": "164",
                    "year": 1992,
                    "date": "1992-06-15",
                    "extent_NH": 12.147
                  },
                  {
                    "index": "165",
                    "year": 1992,
                    "date": "1992-07-15",
                    "extent_NH": 10.323
                  },
                  {
                    "index": "166",
                    "year": 1992,
                    "date": "1992-08-15",
                    "extent_NH": 7.925
                  },
                  {
                    "index": "167",
                    "year": 1992,
                    "date": "1992-09-15",
                    "extent_NH": 7.474
                  },
                  {
                    "index": "168",
                    "year": 1992,
                    "date": "1992-10-15",
                    "extent_NH": 9.319
                  },
                  {
                    "index": "169",
                    "year": 1992,
                    "date": "1992-11-15",
                    "extent_NH": 11.379
                  },
                  {
                    "index": "170",
                    "year": 1992,
                    "date": "1992-12-15",
                    "extent_NH": 13.407
                  },
                  {
                    "index": "171",
                    "year": 1993,
                    "date": "1993-01-15",
                    "extent_NH": 14.896
                  },
                  {
                    "index": "172",
                    "year": 1993,
                    "date": "1993-02-15",
                    "extent_NH": 15.686
                  },
                  {
                    "index": "173",
                    "year": 1993,
                    "date": "1993-03-15",
                    "extent_NH": 15.813
                  },
                  {
                    "index": "174",
                    "year": 1993,
                    "date": "1993-04-15",
                    "extent_NH": 15.077
                  },
                  {
                    "index": "175",
                    "year": 1993,
                    "date": "1993-05-15",
                    "extent_NH": 13.368
                  },
                  {
                    "index": "176",
                    "year": 1993,
                    "date": "1993-06-15",
                    "extent_NH": 11.871
                  },
                  {
                    "index": "177",
                    "year": 1993,
                    "date": "1993-07-15",
                    "extent_NH": 9.476
                  },
                  {
                    "index": "178",
                    "year": 1993,
                    "date": "1993-08-15",
                    "extent_NH": 7.335
                  },
                  {
                    "index": "179",
                    "year": 1993,
                    "date": "1993-09-15",
                    "extent_NH": 6.397
                  },
                  {
                    "index": "180",
                    "year": 1993,
                    "date": "1993-10-15",
                    "extent_NH": 8.786
                  },
                  {
                    "index": "181",
                    "year": 1993,
                    "date": "1993-11-15",
                    "extent_NH": 11.319
                  },
                  {
                    "index": "182",
                    "year": 1993,
                    "date": "1993-12-15",
                    "extent_NH": 13.319
                  },
                  {
                    "index": "183",
                    "year": 1994,
                    "date": "1994-01-15",
                    "extent_NH": 14.73
                  },
                  {
                    "index": "184",
                    "year": 1994,
                    "date": "1994-02-15",
                    "extent_NH": 15.562
                  },
                  {
                    "index": "185",
                    "year": 1994,
                    "date": "1994-03-15",
                    "extent_NH": 15.554
                  },
                  {
                    "index": "186",
                    "year": 1994,
                    "date": "1994-04-15",
                    "extent_NH": 14.888
                  },
                  {
                    "index": "187",
                    "year": 1994,
                    "date": "1994-05-15",
                    "extent_NH": 13.624
                  },
                  {
                    "index": "188",
                    "year": 1994,
                    "date": "1994-06-15",
                    "extent_NH": 12.016
                  },
                  {
                    "index": "189",
                    "year": 1994,
                    "date": "1994-07-15",
                    "extent_NH": 9.925
                  },
                  {
                    "index": "190",
                    "year": 1994,
                    "date": "1994-08-15",
                    "extent_NH": 7.639
                  },
                  {
                    "index": "191",
                    "year": 1994,
                    "date": "1994-09-15",
                    "extent_NH": 7.138
                  },
                  {
                    "index": "192",
                    "year": 1994,
                    "date": "1994-10-15",
                    "extent_NH": 8.915
                  },
                  {
                    "index": "193",
                    "year": 1994,
                    "date": "1994-11-15",
                    "extent_NH": 11.123
                  },
                  {
                    "index": "194",
                    "year": 1994,
                    "date": "1994-12-15",
                    "extent_NH": 13.272
                  },
                  {
                    "index": "195",
                    "year": 1995,
                    "date": "1995-01-15",
                    "extent_NH": 14.586
                  },
                  {
                    "index": "196",
                    "year": 1995,
                    "date": "1995-02-15",
                    "extent_NH": 15.226
                  },
                  {
                    "index": "197",
                    "year": 1995,
                    "date": "1995-03-15",
                    "extent_NH": 15.26
                  },
                  {
                    "index": "198",
                    "year": 1995,
                    "date": "1995-04-15",
                    "extent_NH": 14.449
                  },
                  {
                    "index": "199",
                    "year": 1995,
                    "date": "1995-05-15",
                    "extent_NH": 12.972
                  },
                  {
                    "index": "200",
                    "year": 1995,
                    "date": "1995-06-15",
                    "extent_NH": 11.44
                  },
                  {
                    "index": "201",
                    "year": 1995,
                    "date": "1995-07-15",
                    "extent_NH": 8.987
                  },
                  {
                    "index": "202",
                    "year": 1995,
                    "date": "1995-08-15",
                    "extent_NH": 6.744
                  },
                  {
                    "index": "203",
                    "year": 1995,
                    "date": "1995-09-15",
                    "extent_NH": 6.08
                  },
                  {
                    "index": "204",
                    "year": 1995,
                    "date": "1995-10-15",
                    "extent_NH": 7.829
                  },
                  {
                    "index": "205",
                    "year": 1995,
                    "date": "1995-11-15",
                    "extent_NH": 10.761
                  },
                  {
                    "index": "206",
                    "year": 1995,
                    "date": "1995-12-15",
                    "extent_NH": 12.921
                  },
                  {
                    "index": "207",
                    "year": 1996,
                    "date": "1996-01-15",
                    "extent_NH": 14.181
                  },
                  {
                    "index": "208",
                    "year": 1996,
                    "date": "1996-02-15",
                    "extent_NH": 15.155
                  },
                  {
                    "index": "209",
                    "year": 1996,
                    "date": "1996-03-15",
                    "extent_NH": 15.123
                  },
                  {
                    "index": "210",
                    "year": 1996,
                    "date": "1996-04-15",
                    "extent_NH": 14.216
                  },
                  {
                    "index": "211",
                    "year": 1996,
                    "date": "1996-05-15",
                    "extent_NH": 13.094
                  },
                  {
                    "index": "212",
                    "year": 1996,
                    "date": "1996-06-15",
                    "extent_NH": 12.084
                  },
                  {
                    "index": "213",
                    "year": 1996,
                    "date": "1996-07-15",
                    "extent_NH": 10.164
                  },
                  {
                    "index": "214",
                    "year": 1996,
                    "date": "1996-08-15",
                    "extent_NH": 8.18
                  },
                  {
                    "index": "215",
                    "year": 1996,
                    "date": "1996-09-15",
                    "extent_NH": 7.583
                  },
                  {
                    "index": "216",
                    "year": 1996,
                    "date": "1996-10-15",
                    "extent_NH": 9.161
                  },
                  {
                    "index": "217",
                    "year": 1996,
                    "date": "1996-11-15",
                    "extent_NH": 10.402
                  },
                  {
                    "index": "218",
                    "year": 1996,
                    "date": "1996-12-15",
                    "extent_NH": 12.861
                  },
                  {
                    "index": "219",
                    "year": 1997,
                    "date": "1997-01-15",
                    "extent_NH": 14.417
                  },
                  {
                    "index": "220",
                    "year": 1997,
                    "date": "1997-02-15",
                    "extent_NH": 15.437
                  },
                  {
                    "index": "221",
                    "year": 1997,
                    "date": "1997-03-15",
                    "extent_NH": 15.467
                  },
                  {
                    "index": "222",
                    "year": 1997,
                    "date": "1997-04-15",
                    "extent_NH": 14.563
                  },
                  {
                    "index": "223",
                    "year": 1997,
                    "date": "1997-05-15",
                    "extent_NH": 13.177
                  },
                  {
                    "index": "224",
                    "year": 1997,
                    "date": "1997-06-15",
                    "extent_NH": 11.738
                  },
                  {
                    "index": "225",
                    "year": 1997,
                    "date": "1997-07-15",
                    "extent_NH": 9.411
                  },
                  {
                    "index": "226",
                    "year": 1997,
                    "date": "1997-08-15",
                    "extent_NH": 7.285
                  },
                  {
                    "index": "227",
                    "year": 1997,
                    "date": "1997-09-15",
                    "extent_NH": 6.686
                  },
                  {
                    "index": "228",
                    "year": 1997,
                    "date": "1997-10-15",
                    "extent_NH": 8.337
                  },
                  {
                    "index": "229",
                    "year": 1997,
                    "date": "1997-11-15",
                    "extent_NH": 10.684
                  },
                  {
                    "index": "230",
                    "year": 1997,
                    "date": "1997-12-15",
                    "extent_NH": 13.076
                  },
                  {
                    "index": "231",
                    "year": 1998,
                    "date": "1998-01-15",
                    "extent_NH": 14.721
                  },
                  {
                    "index": "232",
                    "year": 1998,
                    "date": "1998-02-15",
                    "extent_NH": 15.746
                  },
                  {
                    "index": "233",
                    "year": 1998,
                    "date": "1998-03-15",
                    "extent_NH": 15.598
                  },
                  {
                    "index": "234",
                    "year": 1998,
                    "date": "1998-04-15",
                    "extent_NH": 14.892
                  },
                  {
                    "index": "235",
                    "year": 1998,
                    "date": "1998-05-15",
                    "extent_NH": 13.59
                  },
                  {
                    "index": "236",
                    "year": 1998,
                    "date": "1998-06-15",
                    "extent_NH": 11.706
                  },
                  {
                    "index": "237",
                    "year": 1998,
                    "date": "1998-07-15",
                    "extent_NH": 9.415
                  },
                  {
                    "index": "238",
                    "year": 1998,
                    "date": "1998-08-15",
                    "extent_NH": 7.509
                  },
                  {
                    "index": "239",
                    "year": 1998,
                    "date": "1998-09-15",
                    "extent_NH": 6.536
                  },
                  {
                    "index": "240",
                    "year": 1998,
                    "date": "1998-10-15",
                    "extent_NH": 8.452
                  },
                  {
                    "index": "241",
                    "year": 1998,
                    "date": "1998-11-15",
                    "extent_NH": 10.441
                  },
                  {
                    "index": "242",
                    "year": 1998,
                    "date": "1998-12-15",
                    "extent_NH": 12.759
                  },
                  {
                    "index": "243",
                    "year": 1999,
                    "date": "1999-01-15",
                    "extent_NH": 14.359
                  },
                  {
                    "index": "244",
                    "year": 1999,
                    "date": "1999-02-15",
                    "extent_NH": 15.309
                  },
                  {
                    "index": "245",
                    "year": 1999,
                    "date": "1999-03-15",
                    "extent_NH": 15.398
                  },
                  {
                    "index": "246",
                    "year": 1999,
                    "date": "1999-04-15",
                    "extent_NH": 15.084
                  },
                  {
                    "index": "247",
                    "year": 1999,
                    "date": "1999-05-15",
                    "extent_NH": 13.751
                  },
                  {
                    "index": "248",
                    "year": 1999,
                    "date": "1999-06-15",
                    "extent_NH": 11.779
                  },
                  {
                    "index": "249",
                    "year": 1999,
                    "date": "1999-07-15",
                    "extent_NH": 9.488
                  },
                  {
                    "index": "250",
                    "year": 1999,
                    "date": "1999-08-15",
                    "extent_NH": 7.226
                  },
                  {
                    "index": "251",
                    "year": 1999,
                    "date": "1999-09-15",
                    "extent_NH": 6.117
                  },
                  {
                    "index": "252",
                    "year": 1999,
                    "date": "1999-10-15",
                    "extent_NH": 8.603
                  },
                  {
                    "index": "253",
                    "year": 1999,
                    "date": "1999-11-15",
                    "extent_NH": 10.796
                  },
                  {
                    "index": "254",
                    "year": 1999,
                    "date": "1999-12-15",
                    "extent_NH": 12.641
                  },
                  {
                    "index": "255",
                    "year": 2000,
                    "date": "2000-01-15",
                    "extent_NH": 14.22
                  },
                  {
                    "index": "256",
                    "year": 2000,
                    "date": "2000-02-15",
                    "extent_NH": 15.141
                  },
                  {
                    "index": "257",
                    "year": 2000,
                    "date": "2000-03-15",
                    "extent_NH": 15.225
                  },
                  {
                    "index": "258",
                    "year": 2000,
                    "date": "2000-04-15",
                    "extent_NH": 14.558
                  },
                  {
                    "index": "259",
                    "year": 2000,
                    "date": "2000-05-15",
                    "extent_NH": 13.153
                  },
                  {
                    "index": "260",
                    "year": 2000,
                    "date": "2000-06-15",
                    "extent_NH": 11.665
                  },
                  {
                    "index": "261",
                    "year": 2000,
                    "date": "2000-07-15",
                    "extent_NH": 9.513
                  },
                  {
                    "index": "262",
                    "year": 2000,
                    "date": "2000-08-15",
                    "extent_NH": 7.168
                  },
                  {
                    "index": "263",
                    "year": 2000,
                    "date": "2000-09-15",
                    "extent_NH": 6.246
                  },
                  {
                    "index": "264",
                    "year": 2000,
                    "date": "2000-10-15",
                    "extent_NH": 8.379
                  },
                  {
                    "index": "265",
                    "year": 2000,
                    "date": "2000-11-15",
                    "extent_NH": 10.321
                  },
                  {
                    "index": "266",
                    "year": 2000,
                    "date": "2000-12-15",
                    "extent_NH": 12.637
                  },
                  {
                    "index": "267",
                    "year": 2001,
                    "date": "2001-01-15",
                    "extent_NH": 14.203
                  },
                  {
                    "index": "268",
                    "year": 2001,
                    "date": "2001-02-15",
                    "extent_NH": 15.211
                  },
                  {
                    "index": "269",
                    "year": 2001,
                    "date": "2001-03-15",
                    "extent_NH": 15.516
                  },
                  {
                    "index": "270",
                    "year": 2001,
                    "date": "2001-04-15",
                    "extent_NH": 14.857
                  },
                  {
                    "index": "271",
                    "year": 2001,
                    "date": "2001-05-15",
                    "extent_NH": 13.51
                  },
                  {
                    "index": "272",
                    "year": 2001,
                    "date": "2001-06-15",
                    "extent_NH": 11.456
                  },
                  {
                    "index": "273",
                    "year": 2001,
                    "date": "2001-07-15",
                    "extent_NH": 9.07
                  },
                  {
                    "index": "274",
                    "year": 2001,
                    "date": "2001-08-15",
                    "extent_NH": 7.461
                  },
                  {
                    "index": "275",
                    "year": 2001,
                    "date": "2001-09-15",
                    "extent_NH": 6.732
                  },
                  {
                    "index": "276",
                    "year": 2001,
                    "date": "2001-10-15",
                    "extent_NH": 8.298
                  },
                  {
                    "index": "277",
                    "year": 2001,
                    "date": "2001-11-15",
                    "extent_NH": 10.658
                  },
                  {
                    "index": "278",
                    "year": 2001,
                    "date": "2001-12-15",
                    "extent_NH": 12.491
                  },
                  {
                    "index": "279",
                    "year": 2002,
                    "date": "2002-01-15",
                    "extent_NH": 14.273
                  },
                  {
                    "index": "280",
                    "year": 2002,
                    "date": "2002-02-15",
                    "extent_NH": 15.342
                  },
                  {
                    "index": "281",
                    "year": 2002,
                    "date": "2002-03-15",
                    "extent_NH": 15.349
                  },
                  {
                    "index": "282",
                    "year": 2002,
                    "date": "2002-04-15",
                    "extent_NH": 14.299
                  },
                  {
                    "index": "283",
                    "year": 2002,
                    "date": "2002-05-15",
                    "extent_NH": 12.971
                  },
                  {
                    "index": "284",
                    "year": 2002,
                    "date": "2002-06-15",
                    "extent_NH": 11.583
                  },
                  {
                    "index": "285",
                    "year": 2002,
                    "date": "2002-07-15",
                    "extent_NH": 9.274
                  },
                  {
                    "index": "286",
                    "year": 2002,
                    "date": "2002-08-15",
                    "extent_NH": 6.599
                  },
                  {
                    "index": "287",
                    "year": 2002,
                    "date": "2002-09-15",
                    "extent_NH": 5.827
                  },
                  {
                    "index": "288",
                    "year": 2002,
                    "date": "2002-10-15",
                    "extent_NH": 8.162
                  },
                  {
                    "index": "289",
                    "year": 2002,
                    "date": "2002-11-15",
                    "extent_NH": 10.342
                  },
                  {
                    "index": "290",
                    "year": 2002,
                    "date": "2002-12-15",
                    "extent_NH": 12.608
                  },
                  {
                    "index": "291",
                    "year": 2003,
                    "date": "2003-01-15",
                    "extent_NH": 14.391
                  },
                  {
                    "index": "292",
                    "year": 2003,
                    "date": "2003-02-15",
                    "extent_NH": 15.193
                  },
                  {
                    "index": "293",
                    "year": 2003,
                    "date": "2003-03-15",
                    "extent_NH": 15.485
                  },
                  {
                    "index": "294",
                    "year": 2003,
                    "date": "2003-04-15",
                    "extent_NH": 14.512
                  },
                  {
                    "index": "295",
                    "year": 2003,
                    "date": "2003-05-15",
                    "extent_NH": 13.016
                  },
                  {
                    "index": "296",
                    "year": 2003,
                    "date": "2003-06-15",
                    "extent_NH": 11.604
                  },
                  {
                    "index": "297",
                    "year": 2003,
                    "date": "2003-07-15",
                    "extent_NH": 9.215
                  },
                  {
                    "index": "298",
                    "year": 2003,
                    "date": "2003-08-15",
                    "extent_NH": 6.936
                  },
                  {
                    "index": "299",
                    "year": 2003,
                    "date": "2003-09-15",
                    "extent_NH": 6.116
                  },
                  {
                    "index": "300",
                    "year": 2003,
                    "date": "2003-10-15",
                    "extent_NH": 7.848
                  },
                  {
                    "index": "301",
                    "year": 2003,
                    "date": "2003-11-15",
                    "extent_NH": 10.125
                  },
                  {
                    "index": "302",
                    "year": 2003,
                    "date": "2003-12-15",
                    "extent_NH": 12.588
                  },
                  {
                    "index": "303",
                    "year": 2004,
                    "date": "2004-01-15",
                    "extent_NH": 14.026
                  },
                  {
                    "index": "304",
                    "year": 2004,
                    "date": "2004-02-15",
                    "extent_NH": 14.914
                  },
                  {
                    "index": "305",
                    "year": 2004,
                    "date": "2004-03-15",
                    "extent_NH": 14.993
                  },
                  {
                    "index": "306",
                    "year": 2004,
                    "date": "2004-04-15",
                    "extent_NH": 13.987
                  },
                  {
                    "index": "307",
                    "year": 2004,
                    "date": "2004-05-15",
                    "extent_NH": 12.558
                  },
                  {
                    "index": "308",
                    "year": 2004,
                    "date": "2004-06-15",
                    "extent_NH": 11.447
                  },
                  {
                    "index": "309",
                    "year": 2004,
                    "date": "2004-07-15",
                    "extent_NH": 9.431
                  },
                  {
                    "index": "310",
                    "year": 2004,
                    "date": "2004-08-15",
                    "extent_NH": 6.855
                  },
                  {
                    "index": "311",
                    "year": 2004,
                    "date": "2004-09-15",
                    "extent_NH": 5.984
                  },
                  {
                    "index": "312",
                    "year": 2004,
                    "date": "2004-10-15",
                    "extent_NH": 7.925
                  },
                  {
                    "index": "313",
                    "year": 2004,
                    "date": "2004-11-15",
                    "extent_NH": 10.343
                  },
                  {
                    "index": "314",
                    "year": 2004,
                    "date": "2004-12-15",
                    "extent_NH": 12.554
                  },
                  {
                    "index": "315",
                    "year": 2005,
                    "date": "2005-01-15",
                    "extent_NH": 13.661
                  },
                  {
                    "index": "316",
                    "year": 2005,
                    "date": "2005-02-15",
                    "extent_NH": 14.373
                  },
                  {
                    "index": "317",
                    "year": 2005,
                    "date": "2005-03-15",
                    "extent_NH": 14.687
                  },
                  {
                    "index": "318",
                    "year": 2005,
                    "date": "2005-04-15",
                    "extent_NH": 14.09
                  },
                  {
                    "index": "319",
                    "year": 2005,
                    "date": "2005-05-15",
                    "extent_NH": 12.911
                  },
                  {
                    "index": "320",
                    "year": 2005,
                    "date": "2005-06-15",
                    "extent_NH": 11.162
                  },
                  {
                    "index": "321",
                    "year": 2005,
                    "date": "2005-07-15",
                    "extent_NH": 8.649
                  },
                  {
                    "index": "322",
                    "year": 2005,
                    "date": "2005-08-15",
                    "extent_NH": 6.301
                  },
                  {
                    "index": "323",
                    "year": 2005,
                    "date": "2005-09-15",
                    "extent_NH": 5.504
                  },
                  {
                    "index": "324",
                    "year": 2005,
                    "date": "2005-10-15",
                    "extent_NH": 7.352
                  },
                  {
                    "index": "325",
                    "year": 2005,
                    "date": "2005-11-15",
                    "extent_NH": 10.216
                  },
                  {
                    "index": "326",
                    "year": 2005,
                    "date": "2005-12-15",
                    "extent_NH": 12.228
                  },
                  {
                    "index": "327",
                    "year": 2006,
                    "date": "2006-01-15",
                    "extent_NH": 13.466
                  },
                  {
                    "index": "328",
                    "year": 2006,
                    "date": "2006-02-15",
                    "extent_NH": 14.325
                  },
                  {
                    "index": "329",
                    "year": 2006,
                    "date": "2006-03-15",
                    "extent_NH": 14.421
                  },
                  {
                    "index": "330",
                    "year": 2006,
                    "date": "2006-04-15",
                    "extent_NH": 13.906
                  },
                  {
                    "index": "331",
                    "year": 2006,
                    "date": "2006-05-15",
                    "extent_NH": 12.517
                  },
                  {
                    "index": "332",
                    "year": 2006,
                    "date": "2006-06-15",
                    "extent_NH": 10.92
                  },
                  {
                    "index": "333",
                    "year": 2006,
                    "date": "2006-07-15",
                    "extent_NH": 8.46
                  },
                  {
                    "index": "334",
                    "year": 2006,
                    "date": "2006-08-15",
                    "extent_NH": 6.496
                  },
                  {
                    "index": "335",
                    "year": 2006,
                    "date": "2006-09-15",
                    "extent_NH": 5.862
                  },
                  {
                    "index": "336",
                    "year": 2006,
                    "date": "2006-10-15",
                    "extent_NH": 7.541
                  },
                  {
                    "index": "337",
                    "year": 2006,
                    "date": "2006-11-15",
                    "extent_NH": 9.659
                  },
                  {
                    "index": "338",
                    "year": 2006,
                    "date": "2006-12-15",
                    "extent_NH": 11.955
                  },
                  {
                    "index": "339",
                    "year": 2007,
                    "date": "2007-01-15",
                    "extent_NH": 13.703
                  },
                  {
                    "index": "340",
                    "year": 2007,
                    "date": "2007-02-15",
                    "extent_NH": 14.513
                  },
                  {
                    "index": "341",
                    "year": 2007,
                    "date": "2007-03-15",
                    "extent_NH": 14.542
                  },
                  {
                    "index": "342",
                    "year": 2007,
                    "date": "2007-04-15",
                    "extent_NH": 13.845
                  },
                  {
                    "index": "343",
                    "year": 2007,
                    "date": "2007-05-15",
                    "extent_NH": 12.78
                  },
                  {
                    "index": "344",
                    "year": 2007,
                    "date": "2007-06-15",
                    "extent_NH": 11.22
                  },
                  {
                    "index": "345",
                    "year": 2007,
                    "date": "2007-07-15",
                    "extent_NH": 7.943
                  },
                  {
                    "index": "346",
                    "year": 2007,
                    "date": "2007-08-15",
                    "extent_NH": 5.342
                  },
                  {
                    "index": "347",
                    "year": 2007,
                    "date": "2007-09-15",
                    "extent_NH": 4.267
                  },
                  {
                    "index": "348",
                    "year": 2007,
                    "date": "2007-10-15",
                    "extent_NH": 6.04
                  },
                  {
                    "index": "349",
                    "year": 2007,
                    "date": "2007-11-15",
                    "extent_NH": 9.76
                  },
                  {
                    "index": "350",
                    "year": 2007,
                    "date": "2007-12-15",
                    "extent_NH": 12.034
                  },
                  {
                    "index": "351",
                    "year": 2008,
                    "date": "2008-01-15",
                    "extent_NH": 13.887
                  },
                  {
                    "index": "352",
                    "year": 2008,
                    "date": "2008-02-15",
                    "extent_NH": 14.953
                  },
                  {
                    "index": "353",
                    "year": 2008,
                    "date": "2008-03-15",
                    "extent_NH": 15.179
                  },
                  {
                    "index": "354",
                    "year": 2008,
                    "date": "2008-04-15",
                    "extent_NH": 14.352
                  },
                  {
                    "index": "355",
                    "year": 2008,
                    "date": "2008-05-15",
                    "extent_NH": 12.974
                  },
                  {
                    "index": "356",
                    "year": 2008,
                    "date": "2008-06-15",
                    "extent_NH": 11.208
                  },
                  {
                    "index": "357",
                    "year": 2008,
                    "date": "2008-07-15",
                    "extent_NH": 8.678
                  },
                  {
                    "index": "358",
                    "year": 2008,
                    "date": "2008-08-15",
                    "extent_NH": 5.913
                  },
                  {
                    "index": "359",
                    "year": 2008,
                    "date": "2008-09-15",
                    "extent_NH": 4.687
                  },
                  {
                    "index": "360",
                    "year": 2008,
                    "date": "2008-10-15",
                    "extent_NH": 7.35
                  },
                  {
                    "index": "361",
                    "year": 2008,
                    "date": "2008-11-15",
                    "extent_NH": 10.343
                  },
                  {
                    "index": "362",
                    "year": 2008,
                    "date": "2008-12-15",
                    "extent_NH": 12.359
                  },
                  {
                    "index": "363",
                    "year": 2009,
                    "date": "2009-01-15",
                    "extent_NH": 13.914
                  },
                  {
                    "index": "364",
                    "year": 2009,
                    "date": "2009-02-15",
                    "extent_NH": 14.812
                  },
                  {
                    "index": "365",
                    "year": 2009,
                    "date": "2009-03-15",
                    "extent_NH": 14.984
                  },
                  {
                    "index": "366",
                    "year": 2009,
                    "date": "2009-04-15",
                    "extent_NH": 14.496
                  },
                  {
                    "index": "367",
                    "year": 2009,
                    "date": "2009-05-15",
                    "extent_NH": 13.187
                  },
                  {
                    "index": "368",
                    "year": 2009,
                    "date": "2009-06-15",
                    "extent_NH": 11.32
                  },
                  {
                    "index": "369",
                    "year": 2009,
                    "date": "2009-07-15",
                    "extent_NH": 8.465
                  },
                  {
                    "index": "370",
                    "year": 2009,
                    "date": "2009-08-15",
                    "extent_NH": 6.136
                  },
                  {
                    "index": "371",
                    "year": 2009,
                    "date": "2009-09-15",
                    "extent_NH": 5.262
                  },
                  {
                    "index": "372",
                    "year": 2009,
                    "date": "2009-10-15",
                    "extent_NH": 6.92
                  },
                  {
                    "index": "373",
                    "year": 2009,
                    "date": "2009-11-15",
                    "extent_NH": 9.772
                  },
                  {
                    "index": "374",
                    "year": 2009,
                    "date": "2009-12-15",
                    "extent_NH": 12.2
                  },
                  {
                    "index": "375",
                    "year": 2010,
                    "date": "2010-01-15",
                    "extent_NH": 13.739
                  },
                  {
                    "index": "376",
                    "year": 2010,
                    "date": "2010-02-15",
                    "extent_NH": 14.581
                  },
                  {
                    "index": "377",
                    "year": 2010,
                    "date": "2010-03-15",
                    "extent_NH": 15.137
                  },
                  {
                    "index": "378",
                    "year": 2010,
                    "date": "2010-04-15",
                    "extent_NH": 14.659
                  },
                  {
                    "index": "379",
                    "year": 2010,
                    "date": "2010-05-15",
                    "extent_NH": 12.866
                  },
                  {
                    "index": "380",
                    "year": 2010,
                    "date": "2010-06-15",
                    "extent_NH": 10.585
                  },
                  {
                    "index": "381",
                    "year": 2010,
                    "date": "2010-07-15",
                    "extent_NH": 8.075
                  },
                  {
                    "index": "382",
                    "year": 2010,
                    "date": "2010-08-15",
                    "extent_NH": 5.875
                  },
                  {
                    "index": "383",
                    "year": 2010,
                    "date": "2010-09-15",
                    "extent_NH": 4.865
                  },
                  {
                    "index": "384",
                    "year": 2010,
                    "date": "2010-10-15",
                    "extent_NH": 6.984
                  },
                  {
                    "index": "385",
                    "year": 2010,
                    "date": "2010-11-15",
                    "extent_NH": 9.614
                  },
                  {
                    "index": "386",
                    "year": 2010,
                    "date": "2010-12-15",
                    "extent_NH": 11.831
                  },
                  {
                    "index": "387",
                    "year": 2011,
                    "date": "2011-01-15",
                    "extent_NH": 13.464
                  },
                  {
                    "index": "388",
                    "year": 2011,
                    "date": "2011-02-15",
                    "extent_NH": 14.363
                  },
                  {
                    "index": "389",
                    "year": 2011,
                    "date": "2011-03-15",
                    "extent_NH": 14.546
                  },
                  {
                    "index": "390",
                    "year": 2011,
                    "date": "2011-04-15",
                    "extent_NH": 14.108
                  },
                  {
                    "index": "391",
                    "year": 2011,
                    "date": "2011-05-15",
                    "extent_NH": 12.681
                  },
                  {
                    "index": "392",
                    "year": 2011,
                    "date": "2011-06-15",
                    "extent_NH": 10.749
                  },
                  {
                    "index": "393",
                    "year": 2011,
                    "date": "2011-07-15",
                    "extent_NH": 7.724
                  },
                  {
                    "index": "394",
                    "year": 2011,
                    "date": "2011-08-15",
                    "extent_NH": 5.503
                  },
                  {
                    "index": "395",
                    "year": 2011,
                    "date": "2011-09-15",
                    "extent_NH": 4.561
                  },
                  {
                    "index": "396",
                    "year": 2011,
                    "date": "2011-10-15",
                    "extent_NH": 6.465
                  },
                  {
                    "index": "397",
                    "year": 2011,
                    "date": "2011-11-15",
                    "extent_NH": 9.772
                  },
                  {
                    "index": "398",
                    "year": 2011,
                    "date": "2011-12-15",
                    "extent_NH": 12.154
                  },
                  {
                    "index": "399",
                    "year": 2012,
                    "date": "2012-01-15",
                    "extent_NH": 13.729
                  },
                  {
                    "index": "400",
                    "year": 2012,
                    "date": "2012-02-15",
                    "extent_NH": 14.553
                  },
                  {
                    "index": "401",
                    "year": 2012,
                    "date": "2012-03-15",
                    "extent_NH": 15.196
                  },
                  {
                    "index": "402",
                    "year": 2012,
                    "date": "2012-04-15",
                    "extent_NH": 14.626
                  },
                  {
                    "index": "403",
                    "year": 2012,
                    "date": "2012-05-15",
                    "extent_NH": 13.012
                  },
                  {
                    "index": "404",
                    "year": 2012,
                    "date": "2012-06-15",
                    "extent_NH": 10.674
                  },
                  {
                    "index": "405",
                    "year": 2012,
                    "date": "2012-07-15",
                    "extent_NH": 7.672
                  },
                  {
                    "index": "406",
                    "year": 2012,
                    "date": "2012-08-15",
                    "extent_NH": 4.723
                  },
                  {
                    "index": "407",
                    "year": 2012,
                    "date": "2012-09-15",
                    "extent_NH": 3.566
                  },
                  {
                    "index": "408",
                    "year": 2012,
                    "date": "2012-10-15",
                    "extent_NH": 5.886
                  },
                  {
                    "index": "409",
                    "year": 2012,
                    "date": "2012-11-15",
                    "extent_NH": 9.388
                  },
                  {
                    "index": "410",
                    "year": 2012,
                    "date": "2012-12-15",
                    "extent_NH": 12.006
                  },
                  {
                    "index": "411",
                    "year": 2013,
                    "date": "2013-01-15",
                    "extent_NH": 13.703
                  },
                  {
                    "index": "412",
                    "year": 2013,
                    "date": "2013-02-15",
                    "extent_NH": 14.723
                  },
                  {
                    "index": "413",
                    "year": 2013,
                    "date": "2013-03-15",
                    "extent_NH": 15.032
                  },
                  {
                    "index": "414",
                    "year": 2013,
                    "date": "2013-04-15",
                    "extent_NH": 14.299
                  },
                  {
                    "index": "415",
                    "year": 2013,
                    "date": "2013-05-15",
                    "extent_NH": 12.997
                  },
                  {
                    "index": "416",
                    "year": 2013,
                    "date": "2013-06-15",
                    "extent_NH": 11.36
                  },
                  {
                    "index": "417",
                    "year": 2013,
                    "date": "2013-07-15",
                    "extent_NH": 8.132
                  },
                  {
                    "index": "418",
                    "year": 2013,
                    "date": "2013-08-15",
                    "extent_NH": 6.014
                  },
                  {
                    "index": "419",
                    "year": 2013,
                    "date": "2013-09-15",
                    "extent_NH": 5.208
                  },
                  {
                    "index": "420",
                    "year": 2013,
                    "date": "2013-10-15",
                    "extent_NH": 7.455
                  },
                  {
                    "index": "421",
                    "year": 2013,
                    "date": "2013-11-15",
                    "extent_NH": 9.939
                  },
                  {
                    "index": "422",
                    "year": 2013,
                    "date": "2013-12-15",
                    "extent_NH": 12.184
                  },
                  {
                    "index": "423",
                    "year": 2014,
                    "date": "2014-01-15",
                    "extent_NH": 13.648
                  },
                  {
                    "index": "424",
                    "year": 2014,
                    "date": "2014-02-15",
                    "extent_NH": 14.418
                  },
                  {
                    "index": "425",
                    "year": 2014,
                    "date": "2014-03-15",
                    "extent_NH": 14.758
                  },
                  {
                    "index": "426",
                    "year": 2014,
                    "date": "2014-04-15",
                    "extent_NH": 14.088
                  },
                  {
                    "index": "427",
                    "year": 2014,
                    "date": "2014-05-15",
                    "extent_NH": 12.701
                  },
                  {
                    "index": "428",
                    "year": 2014,
                    "date": "2014-06-15",
                    "extent_NH": 11.033
                  },
                  {
                    "index": "429",
                    "year": 2014,
                    "date": "2014-07-15",
                    "extent_NH": 8.108
                  },
                  {
                    "index": "430",
                    "year": 2014,
                    "date": "2014-08-15",
                    "extent_NH": 6.078
                  },
                  {
                    "index": "431",
                    "year": 2014,
                    "date": "2014-09-15",
                    "extent_NH": 5.22
                  },
                  {
                    "index": "432",
                    "year": 2014,
                    "date": "2014-10-15",
                    "extent_NH": 7.232
                  },
                  {
                    "index": "433",
                    "year": 2014,
                    "date": "2014-11-15",
                    "extent_NH": 10.115
                  },
                  {
                    "index": "434",
                    "year": 2014,
                    "date": "2014-12-15",
                    "extent_NH": 12.353
                  },
                  {
                    "index": "435",
                    "year": 2015,
                    "date": "2015-01-15",
                    "extent_NH": 13.602
                  },
                  {
                    "index": "436",
                    "year": 2015,
                    "date": "2015-02-15",
                    "extent_NH": 14.401
                  },
                  {
                    "index": "437",
                    "year": 2015,
                    "date": "2015-03-15",
                    "extent_NH": 14.37
                  },
                  {
                    "index": "438",
                    "year": 2015,
                    "date": "2015-04-15",
                    "extent_NH": 13.893
                  },
                  {
                    "index": "439",
                    "year": 2015,
                    "date": "2015-05-15",
                    "extent_NH": 12.468
                  },
                  {
                    "index": "440",
                    "year": 2015,
                    "date": "2015-06-15",
                    "extent_NH": 10.879
                  },
                  {
                    "index": "441",
                    "year": 2015,
                    "date": "2015-07-15",
                    "extent_NH": 8.378
                  },
                  {
                    "index": "442",
                    "year": 2015,
                    "date": "2015-08-15",
                    "extent_NH": 5.599
                  },
                  {
                    "index": "443",
                    "year": 2015,
                    "date": "2015-09-15",
                    "extent_NH": 4.616
                  },
                  {
                    "index": "444",
                    "year": 2015,
                    "date": "2015-10-15",
                    "extent_NH": 6.966
                  },
                  {
                    "index": "445",
                    "year": 2015,
                    "date": "2015-11-15",
                    "extent_NH": 9.846
                  },
                  {
                    "index": "446",
                    "year": 2015,
                    "date": "2015-12-15",
                    "extent_NH": 12.045
                  },
                  {
                    "index": "447",
                    "year": 2016,
                    "date": "2016-01-15",
                    "extent_NH": 13.457
                  },
                  {
                    "index": "448",
                    "year": 2016,
                    "date": "2016-02-15",
                    "extent_NH": 14.203
                  },
                  {
                    "index": "449",
                    "year": 2016,
                    "date": "2016-03-15",
                    "extent_NH": 14.4
                  },
                  {
                    "index": "450",
                    "year": 2016,
                    "date": "2016-04-15",
                    "extent_NH": 13.681
                  },
                  {
                    "index": "451",
                    "year": 2016,
                    "date": "2016-05-15",
                    "extent_NH": 11.924
                  },
                  {
                    "index": "452",
                    "year": 2016,
                    "date": "2016-06-15",
                    "extent_NH": 10.413
                  },
                  {
                    "index": "453",
                    "year": 2016,
                    "date": "2016-07-15",
                    "extent_NH": 7.938
                  },
                  {
                    "index": "454",
                    "year": 2016,
                    "date": "2016-08-15",
                    "extent_NH": 5.371
                  },
                  {
                    "index": "455",
                    "year": 2016,
                    "date": "2016-09-15",
                    "extent_NH": 4.528
                  },
                  {
                    "index": "456",
                    "year": 2016,
                    "date": "2016-10-15",
                    "extent_NH": 6.082
                  },
                  {
                    "index": "457",
                    "year": 2016,
                    "date": "2016-11-15",
                    "extent_NH": 8.658
                  },
                  {
                    "index": "458",
                    "year": 2016,
                    "date": "2016-12-15",
                    "extent_NH": 11.459
                  },
                  {
                    "index": "459",
                    "year": 2017,
                    "date": "2017-01-15",
                    "extent_NH": 13.19
                  },
                  {
                    "index": "460",
                    "year": 2017,
                    "date": "2017-02-15",
                    "extent_NH": 14.12
                  },
                  {
                    "index": "461",
                    "year": 2017,
                    "date": "2017-03-15",
                    "extent_NH": 14.29
                  },
                  {
                    "index": "462",
                    "year": 2017,
                    "date": "2017-04-15",
                    "extent_NH": 13.753
                  },
                  {
                    "index": "463",
                    "year": 2017,
                    "date": "2017-05-15",
                    "extent_NH": 12.631
                  },
                  {
                    "index": "464",
                    "year": 2017,
                    "date": "2017-06-15",
                    "extent_NH": 10.756
                  },
                  {
                    "index": "465",
                    "year": 2017,
                    "date": "2017-07-15",
                    "extent_NH": 7.939
                  },
                  {
                    "index": "466",
                    "year": 2017,
                    "date": "2017-08-15",
                    "extent_NH": 5.481
                  },
                  {
                    "index": "467",
                    "year": 2017,
                    "date": "2017-09-15",
                    "extent_NH": 4.822
                  },
                  {
                    "index": "468",
                    "year": 2017,
                    "date": "2017-10-15",
                    "extent_NH": 6.767
                  },
                  {
                    "index": "469",
                    "year": 2017,
                    "date": "2017-11-15",
                    "extent_NH": 9.493
                  },
                  {
                    "index": "470",
                    "year": 2017,
                    "date": "2017-12-15",
                    "extent_NH": 11.743
                  },
                  {
                    "index": "471",
                    "year": 2018,
                    "date": "2018-01-15",
                    "extent_NH": 13.077
                  },
                  {
                    "index": "472",
                    "year": 2018,
                    "date": "2018-02-15",
                    "extent_NH": 13.967
                  },
                  {
                    "index": "473",
                    "year": 2018,
                    "date": "2018-03-15",
                    "extent_NH": 14.298
                  },
                  {
                    "index": "474",
                    "year": 2018,
                    "date": "2018-04-15",
                    "extent_NH": 13.696
                  },
                  {
                    "index": "475",
                    "year": 2018,
                    "date": "2018-05-15",
                    "extent_NH": 12.232
                  },
                  {
                    "index": "476",
                    "year": 2018,
                    "date": "2018-06-15",
                    "extent_NH": 10.778
                  },
                  {
                    "index": "477",
                    "year": 2018,
                    "date": "2018-07-15",
                    "extent_NH": 8.268
                  },
                  {
                    "index": "478",
                    "year": 2018,
                    "date": "2018-08-15",
                    "extent_NH": 5.615
                  },
                  {
                    "index": "479",
                    "year": 2018,
                    "date": "2018-09-15",
                    "extent_NH": 4.785
                  },
                  {
                    "index": "480",
                    "year": 2018,
                    "date": "2018-10-15",
                    "extent_NH": 6.134
                  },
                  {
                    "index": "481",
                    "year": 2018,
                    "date": "2018-11-15",
                    "extent_NH": 9.823
                  },
                  {
                    "index": "482",
                    "year": 2018,
                    "date": "2018-12-15",
                    "extent_NH": 11.862
                  },
                  {
                    "index": "483",
                    "year": 2019,
                    "date": "2019-01-15",
                    "extent_NH": 13.567
                  },
                  {
                    "index": "484",
                    "year": 2019,
                    "date": "2019-02-15",
                    "extent_NH": 14.394
                  },
                  {
                    "index": "485",
                    "year": 2019,
                    "date": "2019-03-15",
                    "extent_NH": 14.574
                  },
                  {
                    "index": "486",
                    "year": 2019,
                    "date": "2019-04-15",
                    "extent_NH": 13.434
                  },
                  {
                    "index": "487",
                    "year": 2019,
                    "date": "2019-05-15",
                    "extent_NH": 12.186
                  },
                  {
                    "index": "488",
                    "year": 2019,
                    "date": "2019-06-15",
                    "extent_NH": 10.594
                  },
                  {
                    "index": "489",
                    "year": 2019,
                    "date": "2019-07-15",
                    "extent_NH": 7.589
                  },
                  {
                    "index": "490",
                    "year": 2019,
                    "date": "2019-08-15",
                    "extent_NH": 5.026
                  },
                  {
                    "index": "491",
                    "year": 2019,
                    "date": "2019-09-15",
                    "extent_NH": 4.364
                  },
                  {
                    "index": "492",
                    "year": 2019,
                    "date": "2019-10-15",
                    "extent_NH": 5.735
                  },
                  {
                    "index": "493",
                    "year": 2019,
                    "date": "2019-11-15",
                    "extent_NH": 9.353
                  },
                  {
                    "index": "494",
                    "year": 2019,
                    "date": "2019-12-15",
                    "extent_NH": 11.903
                  },
                  {
                    "index": "495",
                    "year": 2020,
                    "date": "2020-01-15",
                    "extent_NH": 13.636
                  },
                  {
                    "index": "496",
                    "year": 2020,
                    "date": "2020-02-15",
                    "extent_NH": 14.642
                  },
                  {
                    "index": "497",
                    "year": 2020,
                    "date": "2020-03-15",
                    "extent_NH": 14.73
                  },
                  {
                    "index": "498",
                    "year": 2020,
                    "date": "2020-04-15",
                    "extent_NH": 13.621
                  },
                  {
                    "index": "499",
                    "year": 2020,
                    "date": "2020-05-15",
                    "extent_NH": 12.343
                  },
                  {
                    "index": "500",
                    "year": 2020,
                    "date": "2020-06-15",
                    "extent_NH": 10.593
                  },
                  {
                    "index": "501",
                    "year": 2020,
                    "date": "2020-07-15",
                    "extent_NH": 7.294
                  },
                  {
                    "index": "502",
                    "year": 2020,
                    "date": "2020-08-15",
                    "extent_NH": 5.07
                  },
                  {
                    "index": "503",
                    "year": 2020,
                    "date": "2020-09-15",
                    "extent_NH": 4.001
                  },
                  {
                    "index": "504",
                    "year": 2020,
                    "date": "2020-10-15",
                    "extent_NH": 5.334
                  },
                  {
                    "index": "505",
                    "year": 2020,
                    "date": "2020-11-15",
                    "extent_NH": 8.985
                  },
                  {
                    "index": "506",
                    "year": 2020,
                    "date": "2020-12-15",
                    "extent_NH": 11.729
                  },
                  {
                    "index": "507",
                    "year": 2021,
                    "date": "2021-01-15",
                    "extent_NH": 13.501
                  },
                  {
                    "index": "508",
                    "year": 2021,
                    "date": "2021-02-15",
                    "extent_NH": 14.39
                  },
                  {
                    "index": "509",
                    "year": 2021,
                    "date": "2021-03-15",
                    "extent_NH": 14.658
                  },
                  {
                    "index": "510",
                    "year": 2021,
                    "date": "2021-04-15",
                    "extent_NH": 13.792
                  },
                  {
                    "index": "511",
                    "year": 2021,
                    "date": "2021-05-15",
                    "extent_NH": 12.682
                  },
                  {
                    "index": "512",
                    "year": 2021,
                    "date": "2021-06-15",
                    "extent_NH": 10.765
                  },
                  {
                    "index": "513",
                    "year": 2021,
                    "date": "2021-07-15",
                    "extent_NH": 7.647
                  },
                  {
                    "index": "514",
                    "year": 2021,
                    "date": "2021-08-15",
                    "extent_NH": 5.715
                  },
                  {
                    "index": "515",
                    "year": 2021,
                    "date": "2021-09-15",
                    "extent_NH": 4.952
                  },
                  {
                    "index": "516",
                    "year": 2021,
                    "date": "2021-10-15",
                    "extent_NH": 6.816
                  },
                  {
                    "index": "517",
                    "year": 2021,
                    "date": "2021-11-15",
                    "extent_NH": 9.83
                  },
                  {
                    "index": "518",
                    "year": 2021,
                    "date": "2021-12-15",
                    "extent_NH": 12.152
                  },
                  {
                    "index": "519",
                    "year": 2022,
                    "date": "2022-01-15",
                    "extent_NH": 13.872
                  },
                  {
                    "index": "520",
                    "year": 2022,
                    "date": "2022-02-15",
                    "extent_NH": 14.612
                  },
                  {
                    "index": "521",
                    "year": 2022,
                    "date": "2022-03-15",
                    "extent_NH": 14.586
                  },
                  {
                    "index": "522",
                    "year": 2022,
                    "date": "2022-04-15",
                    "extent_NH": 13.986
                  },
                  {
                    "index": "523",
                    "year": 2022,
                    "date": "2022-05-15",
                    "extent_NH": 12.879
                  },
                  {
                    "index": "524",
                    "year": 2022,
                    "date": "2022-06-15",
                    "extent_NH": 10.875
                  },
                  {
                    "index": "525",
                    "year": 2022,
                    "date": "2022-07-15",
                    "extent_NH": 8.287
                  },
                  {
                    "index": "526",
                    "year": 2022,
                    "date": "2022-08-15",
                    "extent_NH": 5.95
                  },
                  {
                    "index": "527",
                    "year": 2022,
                    "date": "2022-09-15",
                    "extent_NH": 4.897
                  },
                  {
                    "index": "528",
                    "year": 2022,
                    "date": "2022-10-15",
                    "extent_NH": 6.657
                  },
                  {
                    "index": "529",
                    "year": 2022,
                    "date": "2022-11-15",
                    "extent_NH": 9.725
                  },
                  {
                    "index": "530",
                    "year": 2022,
                    "date": "2022-12-15",
                    "extent_NH": 11.892
                  },
                  {
                    "index": "531",
                    "year": 2023,
                    "date": "2023-01-15",
                    "extent_NH": 13.346
                  },
                  {
                    "index": "532",
                    "year": 2023,
                    "date": "2023-02-15",
                    "extent_NH": 14.176
                  },
                  {
                    "index": "533",
                    "year": 2023,
                    "date": "2023-03-15",
                    "extent_NH": 14.44
                  },
                  {
                    "index": "534",
                    "year": 2023,
                    "date": "2023-04-15",
                    "extent_NH": 13.992
                  },
                  {
                    "index": "535",
                    "year": 2023,
                    "date": "2023-05-15",
                    "extent_NH": 12.835
                  },
                  {
                    "index": "536",
                    "year": 2023,
                    "date": "2023-06-15",
                    "extent_NH": 10.963
                  },
                  {
                    "index": "537",
                    "year": 2023,
                    "date": "2023-07-15",
                    "extent_NH": 8.183
                  },
                  {
                    "index": "538",
                    "year": 2023,
                    "date": "2023-08-15",
                    "extent_NH": 5.566
                  },
                  {
                    "index": "539",
                    "year": 2023,
                    "date": "2023-09-15",
                    "extent_NH": 4.371
                  }
                ],
                "schema": {
                  "fields": [
                    {
                      "name": "index",
                      "type": "string"
                    },
                    {
                      "name": "year",
                      "type": "integer"
                    },
                    {
                      "name": "date",
                      "type": "datetime"
                    },
                    {
                      "name": "extent_NH",
                      "type": "float"
                    }
                  ],
                  "pandas_version": "0.20.0",
                  "primaryKey": [
                    "index"
                  ]
                }
              },
              "total_rows": 539,
              "truncation_type": null
            }
          },
          "metadata": {}
        }
      ]
    },
    {
      "source": [
        "# Here we will print out which measurment is missing in our NH data\n",
        "missing_indices <- which(is.na(NH_monthly[['extent_NH']]))\n",
        "NH_monthly$date[missing_indices]\n"
      ],
      "metadata": {
        "executionCancelledAt": null,
        "executionTime": 48,
        "lastExecutedAt": 1698056472352,
        "lastScheduledRunId": null,
        "lastSuccessfullyExecutedCode": "# Here we will print out which measurment is missing in our NH data\nmissing_indices <- which(is.na(NH_monthly[['extent_NH']]))\nNH_monthly$date[missing_indices]\n",
        "id": "721ec5c7-e184-4812-912f-da2bd5c4960f",
        "outputId": "3372a330-0e8a-4707-a705-cfb4f2d4500d"
      },
      "cell_type": "code",
      "id": "721ec5c7-e184-4812-912f-da2bd5c4960f",
      "execution_count": null,
      "outputs": [
        {
          "output_type": "display_data",
          "data": {
            "text/html": "<style>\n.list-inline {list-style: none; margin:0; padding: 0}\n.list-inline>li {display: inline-block}\n.list-inline>li:not(:last-child)::after {content: \"\\00b7\"; padding: 0 .5ex}\n</style>\n<ol class=list-inline><li><time datetime=\"1987-12-15\">1987-12-15</time></li><li><time datetime=\"1988-01-15\">1988-01-15</time></li></ol>\n",
            "text/markdown": "1. 1987-12-15\n2. 1988-01-15\n\n\n",
            "text/latex": "\\begin{enumerate*}\n\\item 1987-12-15\n\\item 1988-01-15\n\\end{enumerate*}\n",
            "text/plain": "[1] \"1987-12-15\" \"1988-01-15\""
          },
          "metadata": {}
        }
      ]
    },
    {
      "source": [
        "# Interpolate the missing values in NH_Extent_NSIDC_column\n",
        "NH_monthly$extent_NH <- approx(x = seq_along(NH_monthly$extent_NH),\n",
        "                                          y = NH_monthly$extent_NH,\n",
        "                                          xout = seq_along(NH_monthly$extent_NH))$y\n",
        "\n",
        "NH_monthly"
      ],
      "metadata": {
        "executionCancelledAt": null,
        "executionTime": 414,
        "lastExecutedAt": 1698056472766,
        "lastScheduledRunId": null,
        "lastSuccessfullyExecutedCode": "# Interpolate the missing values in NH_Extent_NSIDC_column\nNH_monthly$extent_NH <- approx(x = seq_along(NH_monthly$extent_NH),\n                                          y = NH_monthly$extent_NH,\n                                          xout = seq_along(NH_monthly$extent_NH))$y\n\nNH_monthly",
        "outputsMetadata": {
          "0": {
            "height": 315,
            "type": "dataFrame"
          }
        },
        "id": "6a7706c8-1a80-459d-a7d0-be255a2bdca4",
        "outputId": "db13ed9b-f0ae-481d-ee6e-ec24b2bd0d17"
      },
      "id": "6a7706c8-1a80-459d-a7d0-be255a2bdca4",
      "cell_type": "code",
      "execution_count": null,
      "outputs": [
        {
          "output_type": "display_data",
          "data": {
            "text/html": "<table class=\"dataframe\">\n<caption>A tibble: 539 × 3</caption>\n<thead>\n\t<tr><th scope=col>year</th><th scope=col>date</th><th scope=col>extent_NH</th></tr>\n\t<tr><th scope=col>&lt;int&gt;</th><th scope=col>&lt;date&gt;</th><th scope=col>&lt;dbl&gt;</th></tr>\n</thead>\n<tbody>\n\t<tr><td>1978</td><td>1978-11-15</td><td>11.645</td></tr>\n\t<tr><td>1978</td><td>1978-12-15</td><td>13.667</td></tr>\n\t<tr><td>1979</td><td>1979-01-15</td><td>15.414</td></tr>\n\t<tr><td>1979</td><td>1979-02-15</td><td>16.175</td></tr>\n\t<tr><td>1979</td><td>1979-03-15</td><td>16.342</td></tr>\n\t<tr><td>1979</td><td>1979-04-15</td><td>15.447</td></tr>\n\t<tr><td>1979</td><td>1979-05-15</td><td>13.857</td></tr>\n\t<tr><td>1979</td><td>1979-06-15</td><td>12.530</td></tr>\n\t<tr><td>1979</td><td>1979-07-15</td><td>10.311</td></tr>\n\t<tr><td>1979</td><td>1979-08-15</td><td> 8.041</td></tr>\n\t<tr><td>1979</td><td>1979-09-15</td><td> 7.051</td></tr>\n\t<tr><td>1979</td><td>1979-10-15</td><td> 8.748</td></tr>\n\t<tr><td>1979</td><td>1979-11-15</td><td>10.943</td></tr>\n\t<tr><td>1979</td><td>1979-12-15</td><td>13.336</td></tr>\n\t<tr><td>1980</td><td>1980-01-15</td><td>14.862</td></tr>\n\t<tr><td>1980</td><td>1980-02-15</td><td>15.955</td></tr>\n\t<tr><td>1980</td><td>1980-03-15</td><td>16.041</td></tr>\n\t<tr><td>1980</td><td>1980-04-15</td><td>15.429</td></tr>\n\t<tr><td>1980</td><td>1980-05-15</td><td>13.793</td></tr>\n\t<tr><td>1980</td><td>1980-06-15</td><td>12.205</td></tr>\n\t<tr><td>1980</td><td>1980-07-15</td><td>10.100</td></tr>\n\t<tr><td>1980</td><td>1980-08-15</td><td> 7.984</td></tr>\n\t<tr><td>1980</td><td>1980-09-15</td><td> 7.667</td></tr>\n\t<tr><td>1980</td><td>1980-10-15</td><td> 9.183</td></tr>\n\t<tr><td>1980</td><td>1980-11-15</td><td>11.383</td></tr>\n\t<tr><td>1980</td><td>1980-12-15</td><td>13.593</td></tr>\n\t<tr><td>1981</td><td>1981-01-15</td><td>14.910</td></tr>\n\t<tr><td>1981</td><td>1981-02-15</td><td>15.604</td></tr>\n\t<tr><td>1981</td><td>1981-03-15</td><td>15.632</td></tr>\n\t<tr><td>1981</td><td>1981-04-15</td><td>15.010</td></tr>\n\t<tr><td>⋮</td><td>⋮</td><td>⋮</td></tr>\n\t<tr><td>2021</td><td>2021-04-15</td><td>13.792</td></tr>\n\t<tr><td>2021</td><td>2021-05-15</td><td>12.682</td></tr>\n\t<tr><td>2021</td><td>2021-06-15</td><td>10.765</td></tr>\n\t<tr><td>2021</td><td>2021-07-15</td><td> 7.647</td></tr>\n\t<tr><td>2021</td><td>2021-08-15</td><td> 5.715</td></tr>\n\t<tr><td>2021</td><td>2021-09-15</td><td> 4.952</td></tr>\n\t<tr><td>2021</td><td>2021-10-15</td><td> 6.816</td></tr>\n\t<tr><td>2021</td><td>2021-11-15</td><td> 9.830</td></tr>\n\t<tr><td>2021</td><td>2021-12-15</td><td>12.152</td></tr>\n\t<tr><td>2022</td><td>2022-01-15</td><td>13.872</td></tr>\n\t<tr><td>2022</td><td>2022-02-15</td><td>14.612</td></tr>\n\t<tr><td>2022</td><td>2022-03-15</td><td>14.586</td></tr>\n\t<tr><td>2022</td><td>2022-04-15</td><td>13.986</td></tr>\n\t<tr><td>2022</td><td>2022-05-15</td><td>12.879</td></tr>\n\t<tr><td>2022</td><td>2022-06-15</td><td>10.875</td></tr>\n\t<tr><td>2022</td><td>2022-07-15</td><td> 8.287</td></tr>\n\t<tr><td>2022</td><td>2022-08-15</td><td> 5.950</td></tr>\n\t<tr><td>2022</td><td>2022-09-15</td><td> 4.897</td></tr>\n\t<tr><td>2022</td><td>2022-10-15</td><td> 6.657</td></tr>\n\t<tr><td>2022</td><td>2022-11-15</td><td> 9.725</td></tr>\n\t<tr><td>2022</td><td>2022-12-15</td><td>11.892</td></tr>\n\t<tr><td>2023</td><td>2023-01-15</td><td>13.346</td></tr>\n\t<tr><td>2023</td><td>2023-02-15</td><td>14.176</td></tr>\n\t<tr><td>2023</td><td>2023-03-15</td><td>14.440</td></tr>\n\t<tr><td>2023</td><td>2023-04-15</td><td>13.992</td></tr>\n\t<tr><td>2023</td><td>2023-05-15</td><td>12.835</td></tr>\n\t<tr><td>2023</td><td>2023-06-15</td><td>10.963</td></tr>\n\t<tr><td>2023</td><td>2023-07-15</td><td> 8.183</td></tr>\n\t<tr><td>2023</td><td>2023-08-15</td><td> 5.566</td></tr>\n\t<tr><td>2023</td><td>2023-09-15</td><td> 4.371</td></tr>\n</tbody>\n</table>\n",
            "text/markdown": "\nA tibble: 539 × 3\n\n| year &lt;int&gt; | date &lt;date&gt; | extent_NH &lt;dbl&gt; |\n|---|---|---|\n| 1978 | 1978-11-15 | 11.645 |\n| 1978 | 1978-12-15 | 13.667 |\n| 1979 | 1979-01-15 | 15.414 |\n| 1979 | 1979-02-15 | 16.175 |\n| 1979 | 1979-03-15 | 16.342 |\n| 1979 | 1979-04-15 | 15.447 |\n| 1979 | 1979-05-15 | 13.857 |\n| 1979 | 1979-06-15 | 12.530 |\n| 1979 | 1979-07-15 | 10.311 |\n| 1979 | 1979-08-15 |  8.041 |\n| 1979 | 1979-09-15 |  7.051 |\n| 1979 | 1979-10-15 |  8.748 |\n| 1979 | 1979-11-15 | 10.943 |\n| 1979 | 1979-12-15 | 13.336 |\n| 1980 | 1980-01-15 | 14.862 |\n| 1980 | 1980-02-15 | 15.955 |\n| 1980 | 1980-03-15 | 16.041 |\n| 1980 | 1980-04-15 | 15.429 |\n| 1980 | 1980-05-15 | 13.793 |\n| 1980 | 1980-06-15 | 12.205 |\n| 1980 | 1980-07-15 | 10.100 |\n| 1980 | 1980-08-15 |  7.984 |\n| 1980 | 1980-09-15 |  7.667 |\n| 1980 | 1980-10-15 |  9.183 |\n| 1980 | 1980-11-15 | 11.383 |\n| 1980 | 1980-12-15 | 13.593 |\n| 1981 | 1981-01-15 | 14.910 |\n| 1981 | 1981-02-15 | 15.604 |\n| 1981 | 1981-03-15 | 15.632 |\n| 1981 | 1981-04-15 | 15.010 |\n| ⋮ | ⋮ | ⋮ |\n| 2021 | 2021-04-15 | 13.792 |\n| 2021 | 2021-05-15 | 12.682 |\n| 2021 | 2021-06-15 | 10.765 |\n| 2021 | 2021-07-15 |  7.647 |\n| 2021 | 2021-08-15 |  5.715 |\n| 2021 | 2021-09-15 |  4.952 |\n| 2021 | 2021-10-15 |  6.816 |\n| 2021 | 2021-11-15 |  9.830 |\n| 2021 | 2021-12-15 | 12.152 |\n| 2022 | 2022-01-15 | 13.872 |\n| 2022 | 2022-02-15 | 14.612 |\n| 2022 | 2022-03-15 | 14.586 |\n| 2022 | 2022-04-15 | 13.986 |\n| 2022 | 2022-05-15 | 12.879 |\n| 2022 | 2022-06-15 | 10.875 |\n| 2022 | 2022-07-15 |  8.287 |\n| 2022 | 2022-08-15 |  5.950 |\n| 2022 | 2022-09-15 |  4.897 |\n| 2022 | 2022-10-15 |  6.657 |\n| 2022 | 2022-11-15 |  9.725 |\n| 2022 | 2022-12-15 | 11.892 |\n| 2023 | 2023-01-15 | 13.346 |\n| 2023 | 2023-02-15 | 14.176 |\n| 2023 | 2023-03-15 | 14.440 |\n| 2023 | 2023-04-15 | 13.992 |\n| 2023 | 2023-05-15 | 12.835 |\n| 2023 | 2023-06-15 | 10.963 |\n| 2023 | 2023-07-15 |  8.183 |\n| 2023 | 2023-08-15 |  5.566 |\n| 2023 | 2023-09-15 |  4.371 |\n\n",
            "text/latex": "A tibble: 539 × 3\n\\begin{tabular}{lll}\n year & date & extent\\_NH\\\\\n <int> & <date> & <dbl>\\\\\n\\hline\n\t 1978 & 1978-11-15 & 11.645\\\\\n\t 1978 & 1978-12-15 & 13.667\\\\\n\t 1979 & 1979-01-15 & 15.414\\\\\n\t 1979 & 1979-02-15 & 16.175\\\\\n\t 1979 & 1979-03-15 & 16.342\\\\\n\t 1979 & 1979-04-15 & 15.447\\\\\n\t 1979 & 1979-05-15 & 13.857\\\\\n\t 1979 & 1979-06-15 & 12.530\\\\\n\t 1979 & 1979-07-15 & 10.311\\\\\n\t 1979 & 1979-08-15 &  8.041\\\\\n\t 1979 & 1979-09-15 &  7.051\\\\\n\t 1979 & 1979-10-15 &  8.748\\\\\n\t 1979 & 1979-11-15 & 10.943\\\\\n\t 1979 & 1979-12-15 & 13.336\\\\\n\t 1980 & 1980-01-15 & 14.862\\\\\n\t 1980 & 1980-02-15 & 15.955\\\\\n\t 1980 & 1980-03-15 & 16.041\\\\\n\t 1980 & 1980-04-15 & 15.429\\\\\n\t 1980 & 1980-05-15 & 13.793\\\\\n\t 1980 & 1980-06-15 & 12.205\\\\\n\t 1980 & 1980-07-15 & 10.100\\\\\n\t 1980 & 1980-08-15 &  7.984\\\\\n\t 1980 & 1980-09-15 &  7.667\\\\\n\t 1980 & 1980-10-15 &  9.183\\\\\n\t 1980 & 1980-11-15 & 11.383\\\\\n\t 1980 & 1980-12-15 & 13.593\\\\\n\t 1981 & 1981-01-15 & 14.910\\\\\n\t 1981 & 1981-02-15 & 15.604\\\\\n\t 1981 & 1981-03-15 & 15.632\\\\\n\t 1981 & 1981-04-15 & 15.010\\\\\n\t ⋮ & ⋮ & ⋮\\\\\n\t 2021 & 2021-04-15 & 13.792\\\\\n\t 2021 & 2021-05-15 & 12.682\\\\\n\t 2021 & 2021-06-15 & 10.765\\\\\n\t 2021 & 2021-07-15 &  7.647\\\\\n\t 2021 & 2021-08-15 &  5.715\\\\\n\t 2021 & 2021-09-15 &  4.952\\\\\n\t 2021 & 2021-10-15 &  6.816\\\\\n\t 2021 & 2021-11-15 &  9.830\\\\\n\t 2021 & 2021-12-15 & 12.152\\\\\n\t 2022 & 2022-01-15 & 13.872\\\\\n\t 2022 & 2022-02-15 & 14.612\\\\\n\t 2022 & 2022-03-15 & 14.586\\\\\n\t 2022 & 2022-04-15 & 13.986\\\\\n\t 2022 & 2022-05-15 & 12.879\\\\\n\t 2022 & 2022-06-15 & 10.875\\\\\n\t 2022 & 2022-07-15 &  8.287\\\\\n\t 2022 & 2022-08-15 &  5.950\\\\\n\t 2022 & 2022-09-15 &  4.897\\\\\n\t 2022 & 2022-10-15 &  6.657\\\\\n\t 2022 & 2022-11-15 &  9.725\\\\\n\t 2022 & 2022-12-15 & 11.892\\\\\n\t 2023 & 2023-01-15 & 13.346\\\\\n\t 2023 & 2023-02-15 & 14.176\\\\\n\t 2023 & 2023-03-15 & 14.440\\\\\n\t 2023 & 2023-04-15 & 13.992\\\\\n\t 2023 & 2023-05-15 & 12.835\\\\\n\t 2023 & 2023-06-15 & 10.963\\\\\n\t 2023 & 2023-07-15 &  8.183\\\\\n\t 2023 & 2023-08-15 &  5.566\\\\\n\t 2023 & 2023-09-15 &  4.371\\\\\n\\end{tabular}\n",
            "text/plain": "    year date       extent_NH\n1   1978 1978-11-15 11.645   \n2   1978 1978-12-15 13.667   \n3   1979 1979-01-15 15.414   \n4   1979 1979-02-15 16.175   \n5   1979 1979-03-15 16.342   \n6   1979 1979-04-15 15.447   \n7   1979 1979-05-15 13.857   \n8   1979 1979-06-15 12.530   \n9   1979 1979-07-15 10.311   \n10  1979 1979-08-15  8.041   \n11  1979 1979-09-15  7.051   \n12  1979 1979-10-15  8.748   \n13  1979 1979-11-15 10.943   \n14  1979 1979-12-15 13.336   \n15  1980 1980-01-15 14.862   \n16  1980 1980-02-15 15.955   \n17  1980 1980-03-15 16.041   \n18  1980 1980-04-15 15.429   \n19  1980 1980-05-15 13.793   \n20  1980 1980-06-15 12.205   \n21  1980 1980-07-15 10.100   \n22  1980 1980-08-15  7.984   \n23  1980 1980-09-15  7.667   \n24  1980 1980-10-15  9.183   \n25  1980 1980-11-15 11.383   \n26  1980 1980-12-15 13.593   \n27  1981 1981-01-15 14.910   \n28  1981 1981-02-15 15.604   \n29  1981 1981-03-15 15.632   \n30  1981 1981-04-15 15.010   \n⋮   ⋮    ⋮          ⋮        \n510 2021 2021-04-15 13.792   \n511 2021 2021-05-15 12.682   \n512 2021 2021-06-15 10.765   \n513 2021 2021-07-15  7.647   \n514 2021 2021-08-15  5.715   \n515 2021 2021-09-15  4.952   \n516 2021 2021-10-15  6.816   \n517 2021 2021-11-15  9.830   \n518 2021 2021-12-15 12.152   \n519 2022 2022-01-15 13.872   \n520 2022 2022-02-15 14.612   \n521 2022 2022-03-15 14.586   \n522 2022 2022-04-15 13.986   \n523 2022 2022-05-15 12.879   \n524 2022 2022-06-15 10.875   \n525 2022 2022-07-15  8.287   \n526 2022 2022-08-15  5.950   \n527 2022 2022-09-15  4.897   \n528 2022 2022-10-15  6.657   \n529 2022 2022-11-15  9.725   \n530 2022 2022-12-15 11.892   \n531 2023 2023-01-15 13.346   \n532 2023 2023-02-15 14.176   \n533 2023 2023-03-15 14.440   \n534 2023 2023-04-15 13.992   \n535 2023 2023-05-15 12.835   \n536 2023 2023-06-15 10.963   \n537 2023 2023-07-15  8.183   \n538 2023 2023-08-15  5.566   \n539 2023 2023-09-15  4.371   ",
            "application/com.datacamp.data-table.v1+json": {
              "table": {
                "data": [
                  {
                    "index": "1",
                    "year": 1978,
                    "date": "1978-11-15",
                    "extent_NH": 11.645
                  },
                  {
                    "index": "2",
                    "year": 1978,
                    "date": "1978-12-15",
                    "extent_NH": 13.667
                  },
                  {
                    "index": "3",
                    "year": 1979,
                    "date": "1979-01-15",
                    "extent_NH": 15.414
                  },
                  {
                    "index": "4",
                    "year": 1979,
                    "date": "1979-02-15",
                    "extent_NH": 16.175
                  },
                  {
                    "index": "5",
                    "year": 1979,
                    "date": "1979-03-15",
                    "extent_NH": 16.342
                  },
                  {
                    "index": "6",
                    "year": 1979,
                    "date": "1979-04-15",
                    "extent_NH": 15.447
                  },
                  {
                    "index": "7",
                    "year": 1979,
                    "date": "1979-05-15",
                    "extent_NH": 13.857
                  },
                  {
                    "index": "8",
                    "year": 1979,
                    "date": "1979-06-15",
                    "extent_NH": 12.53
                  },
                  {
                    "index": "9",
                    "year": 1979,
                    "date": "1979-07-15",
                    "extent_NH": 10.311
                  },
                  {
                    "index": "10",
                    "year": 1979,
                    "date": "1979-08-15",
                    "extent_NH": 8.041
                  },
                  {
                    "index": "11",
                    "year": 1979,
                    "date": "1979-09-15",
                    "extent_NH": 7.051
                  },
                  {
                    "index": "12",
                    "year": 1979,
                    "date": "1979-10-15",
                    "extent_NH": 8.748
                  },
                  {
                    "index": "13",
                    "year": 1979,
                    "date": "1979-11-15",
                    "extent_NH": 10.943
                  },
                  {
                    "index": "14",
                    "year": 1979,
                    "date": "1979-12-15",
                    "extent_NH": 13.336
                  },
                  {
                    "index": "15",
                    "year": 1980,
                    "date": "1980-01-15",
                    "extent_NH": 14.862
                  },
                  {
                    "index": "16",
                    "year": 1980,
                    "date": "1980-02-15",
                    "extent_NH": 15.955
                  },
                  {
                    "index": "17",
                    "year": 1980,
                    "date": "1980-03-15",
                    "extent_NH": 16.041
                  },
                  {
                    "index": "18",
                    "year": 1980,
                    "date": "1980-04-15",
                    "extent_NH": 15.429
                  },
                  {
                    "index": "19",
                    "year": 1980,
                    "date": "1980-05-15",
                    "extent_NH": 13.793
                  },
                  {
                    "index": "20",
                    "year": 1980,
                    "date": "1980-06-15",
                    "extent_NH": 12.205
                  },
                  {
                    "index": "21",
                    "year": 1980,
                    "date": "1980-07-15",
                    "extent_NH": 10.1
                  },
                  {
                    "index": "22",
                    "year": 1980,
                    "date": "1980-08-15",
                    "extent_NH": 7.984
                  },
                  {
                    "index": "23",
                    "year": 1980,
                    "date": "1980-09-15",
                    "extent_NH": 7.667
                  },
                  {
                    "index": "24",
                    "year": 1980,
                    "date": "1980-10-15",
                    "extent_NH": 9.183
                  },
                  {
                    "index": "25",
                    "year": 1980,
                    "date": "1980-11-15",
                    "extent_NH": 11.383
                  },
                  {
                    "index": "26",
                    "year": 1980,
                    "date": "1980-12-15",
                    "extent_NH": 13.593
                  },
                  {
                    "index": "27",
                    "year": 1981,
                    "date": "1981-01-15",
                    "extent_NH": 14.91
                  },
                  {
                    "index": "28",
                    "year": 1981,
                    "date": "1981-02-15",
                    "extent_NH": 15.604
                  },
                  {
                    "index": "29",
                    "year": 1981,
                    "date": "1981-03-15",
                    "extent_NH": 15.632
                  },
                  {
                    "index": "30",
                    "year": 1981,
                    "date": "1981-04-15",
                    "extent_NH": 15.01
                  },
                  {
                    "index": "31",
                    "year": 1981,
                    "date": "1981-05-15",
                    "extent_NH": 13.802
                  },
                  {
                    "index": "32",
                    "year": 1981,
                    "date": "1981-06-15",
                    "extent_NH": 12.43
                  },
                  {
                    "index": "33",
                    "year": 1981,
                    "date": "1981-07-15",
                    "extent_NH": 10.271
                  },
                  {
                    "index": "34",
                    "year": 1981,
                    "date": "1981-08-15",
                    "extent_NH": 7.844
                  },
                  {
                    "index": "35",
                    "year": 1981,
                    "date": "1981-09-15",
                    "extent_NH": 7.138
                  },
                  {
                    "index": "36",
                    "year": 1981,
                    "date": "1981-10-15",
                    "extent_NH": 8.856
                  },
                  {
                    "index": "37",
                    "year": 1981,
                    "date": "1981-11-15",
                    "extent_NH": 10.929
                  },
                  {
                    "index": "38",
                    "year": 1981,
                    "date": "1981-12-15",
                    "extent_NH": 13.341
                  },
                  {
                    "index": "39",
                    "year": 1982,
                    "date": "1982-01-15",
                    "extent_NH": 15.177
                  },
                  {
                    "index": "40",
                    "year": 1982,
                    "date": "1982-02-15",
                    "extent_NH": 15.974
                  },
                  {
                    "index": "41",
                    "year": 1982,
                    "date": "1982-03-15",
                    "extent_NH": 16.044
                  },
                  {
                    "index": "42",
                    "year": 1982,
                    "date": "1982-04-15",
                    "extent_NH": 15.466
                  },
                  {
                    "index": "43",
                    "year": 1982,
                    "date": "1982-05-15",
                    "extent_NH": 13.973
                  },
                  {
                    "index": "44",
                    "year": 1982,
                    "date": "1982-06-15",
                    "extent_NH": 12.476
                  },
                  {
                    "index": "45",
                    "year": 1982,
                    "date": "1982-07-15",
                    "extent_NH": 10.367
                  },
                  {
                    "index": "46",
                    "year": 1982,
                    "date": "1982-08-15",
                    "extent_NH": 8.139
                  },
                  {
                    "index": "47",
                    "year": 1982,
                    "date": "1982-09-15",
                    "extent_NH": 7.302
                  },
                  {
                    "index": "48",
                    "year": 1982,
                    "date": "1982-10-15",
                    "extent_NH": 9.421
                  },
                  {
                    "index": "49",
                    "year": 1982,
                    "date": "1982-11-15",
                    "extent_NH": 11.627
                  },
                  {
                    "index": "50",
                    "year": 1982,
                    "date": "1982-12-15",
                    "extent_NH": 13.642
                  },
                  {
                    "index": "51",
                    "year": 1983,
                    "date": "1983-01-15",
                    "extent_NH": 14.942
                  },
                  {
                    "index": "52",
                    "year": 1983,
                    "date": "1983-02-15",
                    "extent_NH": 16.006
                  },
                  {
                    "index": "53",
                    "year": 1983,
                    "date": "1983-03-15",
                    "extent_NH": 16.085
                  },
                  {
                    "index": "54",
                    "year": 1983,
                    "date": "1983-04-15",
                    "extent_NH": 15.172
                  },
                  {
                    "index": "55",
                    "year": 1983,
                    "date": "1983-05-15",
                    "extent_NH": 13.491
                  },
                  {
                    "index": "56",
                    "year": 1983,
                    "date": "1983-06-15",
                    "extent_NH": 12.296
                  },
                  {
                    "index": "57",
                    "year": 1983,
                    "date": "1983-07-15",
                    "extent_NH": 10.57
                  },
                  {
                    "index": "58",
                    "year": 1983,
                    "date": "1983-08-15",
                    "extent_NH": 8.186
                  },
                  {
                    "index": "59",
                    "year": 1983,
                    "date": "1983-09-15",
                    "extent_NH": 7.395
                  },
                  {
                    "index": "60",
                    "year": 1983,
                    "date": "1983-10-15",
                    "extent_NH": 9.334
                  },
                  {
                    "index": "61",
                    "year": 1983,
                    "date": "1983-11-15",
                    "extent_NH": 11.461
                  },
                  {
                    "index": "62",
                    "year": 1983,
                    "date": "1983-12-15",
                    "extent_NH": 13.299
                  },
                  {
                    "index": "63",
                    "year": 1984,
                    "date": "1984-01-15",
                    "extent_NH": 14.473
                  },
                  {
                    "index": "64",
                    "year": 1984,
                    "date": "1984-02-15",
                    "extent_NH": 15.299
                  },
                  {
                    "index": "65",
                    "year": 1984,
                    "date": "1984-03-15",
                    "extent_NH": 15.584
                  },
                  {
                    "index": "66",
                    "year": 1984,
                    "date": "1984-04-15",
                    "extent_NH": 15.015
                  },
                  {
                    "index": "67",
                    "year": 1984,
                    "date": "1984-05-15",
                    "extent_NH": 13.577
                  },
                  {
                    "index": "68",
                    "year": 1984,
                    "date": "1984-06-15",
                    "extent_NH": 12.152
                  },
                  {
                    "index": "69",
                    "year": 1984,
                    "date": "1984-07-15",
                    "extent_NH": 9.977
                  },
                  {
                    "index": "70",
                    "year": 1984,
                    "date": "1984-08-15",
                    "extent_NH": 7.771
                  },
                  {
                    "index": "71",
                    "year": 1984,
                    "date": "1984-09-15",
                    "extent_NH": 6.805
                  },
                  {
                    "index": "72",
                    "year": 1984,
                    "date": "1984-10-15",
                    "extent_NH": 8.561
                  },
                  {
                    "index": "73",
                    "year": 1984,
                    "date": "1984-11-15",
                    "extent_NH": 10.842
                  },
                  {
                    "index": "74",
                    "year": 1984,
                    "date": "1984-12-15",
                    "extent_NH": 12.989
                  },
                  {
                    "index": "75",
                    "year": 1985,
                    "date": "1985-01-15",
                    "extent_NH": 14.725
                  },
                  {
                    "index": "76",
                    "year": 1985,
                    "date": "1985-02-15",
                    "extent_NH": 15.466
                  },
                  {
                    "index": "77",
                    "year": 1985,
                    "date": "1985-03-15",
                    "extent_NH": 15.886
                  },
                  {
                    "index": "78",
                    "year": 1985,
                    "date": "1985-04-15",
                    "extent_NH": 15.357
                  },
                  {
                    "index": "79",
                    "year": 1985,
                    "date": "1985-05-15",
                    "extent_NH": 14.073
                  },
                  {
                    "index": "80",
                    "year": 1985,
                    "date": "1985-06-15",
                    "extent_NH": 12.219
                  },
                  {
                    "index": "81",
                    "year": 1985,
                    "date": "1985-07-15",
                    "extent_NH": 9.744
                  },
                  {
                    "index": "82",
                    "year": 1985,
                    "date": "1985-08-15",
                    "extent_NH": 7.402
                  },
                  {
                    "index": "83",
                    "year": 1985,
                    "date": "1985-09-15",
                    "extent_NH": 6.698
                  },
                  {
                    "index": "84",
                    "year": 1985,
                    "date": "1985-10-15",
                    "extent_NH": 8.546
                  },
                  {
                    "index": "85",
                    "year": 1985,
                    "date": "1985-11-15",
                    "extent_NH": 11.025
                  },
                  {
                    "index": "86",
                    "year": 1985,
                    "date": "1985-12-15",
                    "extent_NH": 13.05
                  },
                  {
                    "index": "87",
                    "year": 1986,
                    "date": "1986-01-15",
                    "extent_NH": 14.89
                  },
                  {
                    "index": "88",
                    "year": 1986,
                    "date": "1986-02-15",
                    "extent_NH": 15.785
                  },
                  {
                    "index": "89",
                    "year": 1986,
                    "date": "1986-03-15",
                    "extent_NH": 15.91
                  },
                  {
                    "index": "90",
                    "year": 1986,
                    "date": "1986-04-15",
                    "extent_NH": 15.059
                  },
                  {
                    "index": "91",
                    "year": 1986,
                    "date": "1986-05-15",
                    "extent_NH": 13.379
                  },
                  {
                    "index": "92",
                    "year": 1986,
                    "date": "1986-06-15",
                    "extent_NH": 11.976
                  },
                  {
                    "index": "93",
                    "year": 1986,
                    "date": "1986-07-15",
                    "extent_NH": 10.146
                  },
                  {
                    "index": "94",
                    "year": 1986,
                    "date": "1986-08-15",
                    "extent_NH": 7.979
                  },
                  {
                    "index": "95",
                    "year": 1986,
                    "date": "1986-09-15",
                    "extent_NH": 7.411
                  },
                  {
                    "index": "96",
                    "year": 1986,
                    "date": "1986-10-15",
                    "extent_NH": 9.484
                  },
                  {
                    "index": "97",
                    "year": 1986,
                    "date": "1986-11-15",
                    "extent_NH": 11.453
                  },
                  {
                    "index": "98",
                    "year": 1986,
                    "date": "1986-12-15",
                    "extent_NH": 13.222
                  },
                  {
                    "index": "99",
                    "year": 1987,
                    "date": "1987-01-15",
                    "extent_NH": 14.97
                  },
                  {
                    "index": "100",
                    "year": 1987,
                    "date": "1987-02-15",
                    "extent_NH": 16.05
                  },
                  {
                    "index": "101",
                    "year": 1987,
                    "date": "1987-03-15",
                    "extent_NH": 15.816
                  },
                  {
                    "index": "102",
                    "year": 1987,
                    "date": "1987-04-15",
                    "extent_NH": 15.211
                  },
                  {
                    "index": "103",
                    "year": 1987,
                    "date": "1987-05-15",
                    "extent_NH": 13.743
                  },
                  {
                    "index": "104",
                    "year": 1987,
                    "date": "1987-06-15",
                    "extent_NH": 12.486
                  },
                  {
                    "index": "105",
                    "year": 1987,
                    "date": "1987-07-15",
                    "extent_NH": 10.333
                  },
                  {
                    "index": "106",
                    "year": 1987,
                    "date": "1987-08-15",
                    "extent_NH": 7.628
                  },
                  {
                    "index": "107",
                    "year": 1987,
                    "date": "1987-09-15",
                    "extent_NH": 7.279
                  },
                  {
                    "index": "108",
                    "year": 1987,
                    "date": "1987-10-15",
                    "extent_NH": 9.049
                  },
                  {
                    "index": "109",
                    "year": 1987,
                    "date": "1987-11-15",
                    "extent_NH": 11.224
                  },
                  {
                    "index": "110",
                    "year": 1987,
                    "date": "1987-12-15",
                    "extent_NH": 12.677
                  },
                  {
                    "index": "111",
                    "year": 1988,
                    "date": "1988-01-15",
                    "extent_NH": 14.13
                  },
                  {
                    "index": "112",
                    "year": 1988,
                    "date": "1988-02-15",
                    "extent_NH": 15.583
                  },
                  {
                    "index": "113",
                    "year": 1988,
                    "date": "1988-03-15",
                    "extent_NH": 15.957
                  },
                  {
                    "index": "114",
                    "year": 1988,
                    "date": "1988-04-15",
                    "extent_NH": 15.123
                  },
                  {
                    "index": "115",
                    "year": 1988,
                    "date": "1988-05-15",
                    "extent_NH": 13.561
                  },
                  {
                    "index": "116",
                    "year": 1988,
                    "date": "1988-06-15",
                    "extent_NH": 11.943
                  },
                  {
                    "index": "117",
                    "year": 1988,
                    "date": "1988-07-15",
                    "extent_NH": 9.809
                  },
                  {
                    "index": "118",
                    "year": 1988,
                    "date": "1988-08-15",
                    "extent_NH": 7.892
                  },
                  {
                    "index": "119",
                    "year": 1988,
                    "date": "1988-09-15",
                    "extent_NH": 7.369
                  },
                  {
                    "index": "120",
                    "year": 1988,
                    "date": "1988-10-15",
                    "extent_NH": 9.135
                  },
                  {
                    "index": "121",
                    "year": 1988,
                    "date": "1988-11-15",
                    "extent_NH": 11.331
                  },
                  {
                    "index": "122",
                    "year": 1988,
                    "date": "1988-12-15",
                    "extent_NH": 13.626
                  },
                  {
                    "index": "123",
                    "year": 1989,
                    "date": "1989-01-15",
                    "extent_NH": 14.955
                  },
                  {
                    "index": "124",
                    "year": 1989,
                    "date": "1989-02-15",
                    "extent_NH": 15.495
                  },
                  {
                    "index": "125",
                    "year": 1989,
                    "date": "1989-03-15",
                    "extent_NH": 15.423
                  },
                  {
                    "index": "126",
                    "year": 1989,
                    "date": "1989-04-15",
                    "extent_NH": 14.328
                  },
                  {
                    "index": "127",
                    "year": 1989,
                    "date": "1989-05-15",
                    "extent_NH": 13.044
                  },
                  {
                    "index": "128",
                    "year": 1989,
                    "date": "1989-06-15",
                    "extent_NH": 12.245
                  },
                  {
                    "index": "129",
                    "year": 1989,
                    "date": "1989-07-15",
                    "extent_NH": 10.13
                  },
                  {
                    "index": "130",
                    "year": 1989,
                    "date": "1989-08-15",
                    "extent_NH": 7.882
                  },
                  {
                    "index": "131",
                    "year": 1989,
                    "date": "1989-09-15",
                    "extent_NH": 7.008
                  },
                  {
                    "index": "132",
                    "year": 1989,
                    "date": "1989-10-15",
                    "extent_NH": 8.829
                  },
                  {
                    "index": "133",
                    "year": 1989,
                    "date": "1989-11-15",
                    "extent_NH": 11.115
                  },
                  {
                    "index": "134",
                    "year": 1989,
                    "date": "1989-12-15",
                    "extent_NH": 13.387
                  },
                  {
                    "index": "135",
                    "year": 1990,
                    "date": "1990-01-15",
                    "extent_NH": 14.783
                  },
                  {
                    "index": "136",
                    "year": 1990,
                    "date": "1990-02-15",
                    "extent_NH": 15.578
                  },
                  {
                    "index": "137",
                    "year": 1990,
                    "date": "1990-03-15",
                    "extent_NH": 15.867
                  },
                  {
                    "index": "138",
                    "year": 1990,
                    "date": "1990-04-15",
                    "extent_NH": 14.65
                  },
                  {
                    "index": "139",
                    "year": 1990,
                    "date": "1990-05-15",
                    "extent_NH": 13.226
                  },
                  {
                    "index": "140",
                    "year": 1990,
                    "date": "1990-06-15",
                    "extent_NH": 11.641
                  },
                  {
                    "index": "141",
                    "year": 1990,
                    "date": "1990-07-15",
                    "extent_NH": 9.247
                  },
                  {
                    "index": "142",
                    "year": 1990,
                    "date": "1990-08-15",
                    "extent_NH": 6.797
                  },
                  {
                    "index": "143",
                    "year": 1990,
                    "date": "1990-09-15",
                    "extent_NH": 6.143
                  },
                  {
                    "index": "144",
                    "year": 1990,
                    "date": "1990-10-15",
                    "extent_NH": 8.485
                  },
                  {
                    "index": "145",
                    "year": 1990,
                    "date": "1990-11-15",
                    "extent_NH": 11.075
                  },
                  {
                    "index": "146",
                    "year": 1990,
                    "date": "1990-12-15",
                    "extent_NH": 13.106
                  },
                  {
                    "index": "147",
                    "year": 1991,
                    "date": "1991-01-15",
                    "extent_NH": 14.364
                  },
                  {
                    "index": "148",
                    "year": 1991,
                    "date": "1991-02-15",
                    "extent_NH": 15.249
                  },
                  {
                    "index": "149",
                    "year": 1991,
                    "date": "1991-03-15",
                    "extent_NH": 15.416
                  },
                  {
                    "index": "150",
                    "year": 1991,
                    "date": "1991-04-15",
                    "extent_NH": 14.86
                  },
                  {
                    "index": "151",
                    "year": 1991,
                    "date": "1991-05-15",
                    "extent_NH": 13.473
                  },
                  {
                    "index": "152",
                    "year": 1991,
                    "date": "1991-06-15",
                    "extent_NH": 12.108
                  },
                  {
                    "index": "153",
                    "year": 1991,
                    "date": "1991-07-15",
                    "extent_NH": 9.514
                  },
                  {
                    "index": "154",
                    "year": 1991,
                    "date": "1991-08-15",
                    "extent_NH": 7.415
                  },
                  {
                    "index": "155",
                    "year": 1991,
                    "date": "1991-09-15",
                    "extent_NH": 6.473
                  },
                  {
                    "index": "156",
                    "year": 1991,
                    "date": "1991-10-15",
                    "extent_NH": 8.541
                  },
                  {
                    "index": "157",
                    "year": 1991,
                    "date": "1991-11-15",
                    "extent_NH": 10.885
                  },
                  {
                    "index": "158",
                    "year": 1991,
                    "date": "1991-12-15",
                    "extent_NH": 12.945
                  },
                  {
                    "index": "159",
                    "year": 1992,
                    "date": "1992-01-15",
                    "extent_NH": 14.643
                  },
                  {
                    "index": "160",
                    "year": 1992,
                    "date": "1992-02-15",
                    "extent_NH": 15.462
                  },
                  {
                    "index": "161",
                    "year": 1992,
                    "date": "1992-03-15",
                    "extent_NH": 15.481
                  },
                  {
                    "index": "162",
                    "year": 1992,
                    "date": "1992-04-15",
                    "extent_NH": 14.677
                  },
                  {
                    "index": "163",
                    "year": 1992,
                    "date": "1992-05-15",
                    "extent_NH": 13.216
                  },
                  {
                    "index": "164",
                    "year": 1992,
                    "date": "1992-06-15",
                    "extent_NH": 12.147
                  },
                  {
                    "index": "165",
                    "year": 1992,
                    "date": "1992-07-15",
                    "extent_NH": 10.323
                  },
                  {
                    "index": "166",
                    "year": 1992,
                    "date": "1992-08-15",
                    "extent_NH": 7.925
                  },
                  {
                    "index": "167",
                    "year": 1992,
                    "date": "1992-09-15",
                    "extent_NH": 7.474
                  },
                  {
                    "index": "168",
                    "year": 1992,
                    "date": "1992-10-15",
                    "extent_NH": 9.319
                  },
                  {
                    "index": "169",
                    "year": 1992,
                    "date": "1992-11-15",
                    "extent_NH": 11.379
                  },
                  {
                    "index": "170",
                    "year": 1992,
                    "date": "1992-12-15",
                    "extent_NH": 13.407
                  },
                  {
                    "index": "171",
                    "year": 1993,
                    "date": "1993-01-15",
                    "extent_NH": 14.896
                  },
                  {
                    "index": "172",
                    "year": 1993,
                    "date": "1993-02-15",
                    "extent_NH": 15.686
                  },
                  {
                    "index": "173",
                    "year": 1993,
                    "date": "1993-03-15",
                    "extent_NH": 15.813
                  },
                  {
                    "index": "174",
                    "year": 1993,
                    "date": "1993-04-15",
                    "extent_NH": 15.077
                  },
                  {
                    "index": "175",
                    "year": 1993,
                    "date": "1993-05-15",
                    "extent_NH": 13.368
                  },
                  {
                    "index": "176",
                    "year": 1993,
                    "date": "1993-06-15",
                    "extent_NH": 11.871
                  },
                  {
                    "index": "177",
                    "year": 1993,
                    "date": "1993-07-15",
                    "extent_NH": 9.476
                  },
                  {
                    "index": "178",
                    "year": 1993,
                    "date": "1993-08-15",
                    "extent_NH": 7.335
                  },
                  {
                    "index": "179",
                    "year": 1993,
                    "date": "1993-09-15",
                    "extent_NH": 6.397
                  },
                  {
                    "index": "180",
                    "year": 1993,
                    "date": "1993-10-15",
                    "extent_NH": 8.786
                  },
                  {
                    "index": "181",
                    "year": 1993,
                    "date": "1993-11-15",
                    "extent_NH": 11.319
                  },
                  {
                    "index": "182",
                    "year": 1993,
                    "date": "1993-12-15",
                    "extent_NH": 13.319
                  },
                  {
                    "index": "183",
                    "year": 1994,
                    "date": "1994-01-15",
                    "extent_NH": 14.73
                  },
                  {
                    "index": "184",
                    "year": 1994,
                    "date": "1994-02-15",
                    "extent_NH": 15.562
                  },
                  {
                    "index": "185",
                    "year": 1994,
                    "date": "1994-03-15",
                    "extent_NH": 15.554
                  },
                  {
                    "index": "186",
                    "year": 1994,
                    "date": "1994-04-15",
                    "extent_NH": 14.888
                  },
                  {
                    "index": "187",
                    "year": 1994,
                    "date": "1994-05-15",
                    "extent_NH": 13.624
                  },
                  {
                    "index": "188",
                    "year": 1994,
                    "date": "1994-06-15",
                    "extent_NH": 12.016
                  },
                  {
                    "index": "189",
                    "year": 1994,
                    "date": "1994-07-15",
                    "extent_NH": 9.925
                  },
                  {
                    "index": "190",
                    "year": 1994,
                    "date": "1994-08-15",
                    "extent_NH": 7.639
                  },
                  {
                    "index": "191",
                    "year": 1994,
                    "date": "1994-09-15",
                    "extent_NH": 7.138
                  },
                  {
                    "index": "192",
                    "year": 1994,
                    "date": "1994-10-15",
                    "extent_NH": 8.915
                  },
                  {
                    "index": "193",
                    "year": 1994,
                    "date": "1994-11-15",
                    "extent_NH": 11.123
                  },
                  {
                    "index": "194",
                    "year": 1994,
                    "date": "1994-12-15",
                    "extent_NH": 13.272
                  },
                  {
                    "index": "195",
                    "year": 1995,
                    "date": "1995-01-15",
                    "extent_NH": 14.586
                  },
                  {
                    "index": "196",
                    "year": 1995,
                    "date": "1995-02-15",
                    "extent_NH": 15.226
                  },
                  {
                    "index": "197",
                    "year": 1995,
                    "date": "1995-03-15",
                    "extent_NH": 15.26
                  },
                  {
                    "index": "198",
                    "year": 1995,
                    "date": "1995-04-15",
                    "extent_NH": 14.449
                  },
                  {
                    "index": "199",
                    "year": 1995,
                    "date": "1995-05-15",
                    "extent_NH": 12.972
                  },
                  {
                    "index": "200",
                    "year": 1995,
                    "date": "1995-06-15",
                    "extent_NH": 11.44
                  },
                  {
                    "index": "201",
                    "year": 1995,
                    "date": "1995-07-15",
                    "extent_NH": 8.987
                  },
                  {
                    "index": "202",
                    "year": 1995,
                    "date": "1995-08-15",
                    "extent_NH": 6.744
                  },
                  {
                    "index": "203",
                    "year": 1995,
                    "date": "1995-09-15",
                    "extent_NH": 6.08
                  },
                  {
                    "index": "204",
                    "year": 1995,
                    "date": "1995-10-15",
                    "extent_NH": 7.829
                  },
                  {
                    "index": "205",
                    "year": 1995,
                    "date": "1995-11-15",
                    "extent_NH": 10.761
                  },
                  {
                    "index": "206",
                    "year": 1995,
                    "date": "1995-12-15",
                    "extent_NH": 12.921
                  },
                  {
                    "index": "207",
                    "year": 1996,
                    "date": "1996-01-15",
                    "extent_NH": 14.181
                  },
                  {
                    "index": "208",
                    "year": 1996,
                    "date": "1996-02-15",
                    "extent_NH": 15.155
                  },
                  {
                    "index": "209",
                    "year": 1996,
                    "date": "1996-03-15",
                    "extent_NH": 15.123
                  },
                  {
                    "index": "210",
                    "year": 1996,
                    "date": "1996-04-15",
                    "extent_NH": 14.216
                  },
                  {
                    "index": "211",
                    "year": 1996,
                    "date": "1996-05-15",
                    "extent_NH": 13.094
                  },
                  {
                    "index": "212",
                    "year": 1996,
                    "date": "1996-06-15",
                    "extent_NH": 12.084
                  },
                  {
                    "index": "213",
                    "year": 1996,
                    "date": "1996-07-15",
                    "extent_NH": 10.164
                  },
                  {
                    "index": "214",
                    "year": 1996,
                    "date": "1996-08-15",
                    "extent_NH": 8.18
                  },
                  {
                    "index": "215",
                    "year": 1996,
                    "date": "1996-09-15",
                    "extent_NH": 7.583
                  },
                  {
                    "index": "216",
                    "year": 1996,
                    "date": "1996-10-15",
                    "extent_NH": 9.161
                  },
                  {
                    "index": "217",
                    "year": 1996,
                    "date": "1996-11-15",
                    "extent_NH": 10.402
                  },
                  {
                    "index": "218",
                    "year": 1996,
                    "date": "1996-12-15",
                    "extent_NH": 12.861
                  },
                  {
                    "index": "219",
                    "year": 1997,
                    "date": "1997-01-15",
                    "extent_NH": 14.417
                  },
                  {
                    "index": "220",
                    "year": 1997,
                    "date": "1997-02-15",
                    "extent_NH": 15.437
                  },
                  {
                    "index": "221",
                    "year": 1997,
                    "date": "1997-03-15",
                    "extent_NH": 15.467
                  },
                  {
                    "index": "222",
                    "year": 1997,
                    "date": "1997-04-15",
                    "extent_NH": 14.563
                  },
                  {
                    "index": "223",
                    "year": 1997,
                    "date": "1997-05-15",
                    "extent_NH": 13.177
                  },
                  {
                    "index": "224",
                    "year": 1997,
                    "date": "1997-06-15",
                    "extent_NH": 11.738
                  },
                  {
                    "index": "225",
                    "year": 1997,
                    "date": "1997-07-15",
                    "extent_NH": 9.411
                  },
                  {
                    "index": "226",
                    "year": 1997,
                    "date": "1997-08-15",
                    "extent_NH": 7.285
                  },
                  {
                    "index": "227",
                    "year": 1997,
                    "date": "1997-09-15",
                    "extent_NH": 6.686
                  },
                  {
                    "index": "228",
                    "year": 1997,
                    "date": "1997-10-15",
                    "extent_NH": 8.337
                  },
                  {
                    "index": "229",
                    "year": 1997,
                    "date": "1997-11-15",
                    "extent_NH": 10.684
                  },
                  {
                    "index": "230",
                    "year": 1997,
                    "date": "1997-12-15",
                    "extent_NH": 13.076
                  },
                  {
                    "index": "231",
                    "year": 1998,
                    "date": "1998-01-15",
                    "extent_NH": 14.721
                  },
                  {
                    "index": "232",
                    "year": 1998,
                    "date": "1998-02-15",
                    "extent_NH": 15.746
                  },
                  {
                    "index": "233",
                    "year": 1998,
                    "date": "1998-03-15",
                    "extent_NH": 15.598
                  },
                  {
                    "index": "234",
                    "year": 1998,
                    "date": "1998-04-15",
                    "extent_NH": 14.892
                  },
                  {
                    "index": "235",
                    "year": 1998,
                    "date": "1998-05-15",
                    "extent_NH": 13.59
                  },
                  {
                    "index": "236",
                    "year": 1998,
                    "date": "1998-06-15",
                    "extent_NH": 11.706
                  },
                  {
                    "index": "237",
                    "year": 1998,
                    "date": "1998-07-15",
                    "extent_NH": 9.415
                  },
                  {
                    "index": "238",
                    "year": 1998,
                    "date": "1998-08-15",
                    "extent_NH": 7.509
                  },
                  {
                    "index": "239",
                    "year": 1998,
                    "date": "1998-09-15",
                    "extent_NH": 6.536
                  },
                  {
                    "index": "240",
                    "year": 1998,
                    "date": "1998-10-15",
                    "extent_NH": 8.452
                  },
                  {
                    "index": "241",
                    "year": 1998,
                    "date": "1998-11-15",
                    "extent_NH": 10.441
                  },
                  {
                    "index": "242",
                    "year": 1998,
                    "date": "1998-12-15",
                    "extent_NH": 12.759
                  },
                  {
                    "index": "243",
                    "year": 1999,
                    "date": "1999-01-15",
                    "extent_NH": 14.359
                  },
                  {
                    "index": "244",
                    "year": 1999,
                    "date": "1999-02-15",
                    "extent_NH": 15.309
                  },
                  {
                    "index": "245",
                    "year": 1999,
                    "date": "1999-03-15",
                    "extent_NH": 15.398
                  },
                  {
                    "index": "246",
                    "year": 1999,
                    "date": "1999-04-15",
                    "extent_NH": 15.084
                  },
                  {
                    "index": "247",
                    "year": 1999,
                    "date": "1999-05-15",
                    "extent_NH": 13.751
                  },
                  {
                    "index": "248",
                    "year": 1999,
                    "date": "1999-06-15",
                    "extent_NH": 11.779
                  },
                  {
                    "index": "249",
                    "year": 1999,
                    "date": "1999-07-15",
                    "extent_NH": 9.488
                  },
                  {
                    "index": "250",
                    "year": 1999,
                    "date": "1999-08-15",
                    "extent_NH": 7.226
                  },
                  {
                    "index": "251",
                    "year": 1999,
                    "date": "1999-09-15",
                    "extent_NH": 6.117
                  },
                  {
                    "index": "252",
                    "year": 1999,
                    "date": "1999-10-15",
                    "extent_NH": 8.603
                  },
                  {
                    "index": "253",
                    "year": 1999,
                    "date": "1999-11-15",
                    "extent_NH": 10.796
                  },
                  {
                    "index": "254",
                    "year": 1999,
                    "date": "1999-12-15",
                    "extent_NH": 12.641
                  },
                  {
                    "index": "255",
                    "year": 2000,
                    "date": "2000-01-15",
                    "extent_NH": 14.22
                  },
                  {
                    "index": "256",
                    "year": 2000,
                    "date": "2000-02-15",
                    "extent_NH": 15.141
                  },
                  {
                    "index": "257",
                    "year": 2000,
                    "date": "2000-03-15",
                    "extent_NH": 15.225
                  },
                  {
                    "index": "258",
                    "year": 2000,
                    "date": "2000-04-15",
                    "extent_NH": 14.558
                  },
                  {
                    "index": "259",
                    "year": 2000,
                    "date": "2000-05-15",
                    "extent_NH": 13.153
                  },
                  {
                    "index": "260",
                    "year": 2000,
                    "date": "2000-06-15",
                    "extent_NH": 11.665
                  },
                  {
                    "index": "261",
                    "year": 2000,
                    "date": "2000-07-15",
                    "extent_NH": 9.513
                  },
                  {
                    "index": "262",
                    "year": 2000,
                    "date": "2000-08-15",
                    "extent_NH": 7.168
                  },
                  {
                    "index": "263",
                    "year": 2000,
                    "date": "2000-09-15",
                    "extent_NH": 6.246
                  },
                  {
                    "index": "264",
                    "year": 2000,
                    "date": "2000-10-15",
                    "extent_NH": 8.379
                  },
                  {
                    "index": "265",
                    "year": 2000,
                    "date": "2000-11-15",
                    "extent_NH": 10.321
                  },
                  {
                    "index": "266",
                    "year": 2000,
                    "date": "2000-12-15",
                    "extent_NH": 12.637
                  },
                  {
                    "index": "267",
                    "year": 2001,
                    "date": "2001-01-15",
                    "extent_NH": 14.203
                  },
                  {
                    "index": "268",
                    "year": 2001,
                    "date": "2001-02-15",
                    "extent_NH": 15.211
                  },
                  {
                    "index": "269",
                    "year": 2001,
                    "date": "2001-03-15",
                    "extent_NH": 15.516
                  },
                  {
                    "index": "270",
                    "year": 2001,
                    "date": "2001-04-15",
                    "extent_NH": 14.857
                  },
                  {
                    "index": "271",
                    "year": 2001,
                    "date": "2001-05-15",
                    "extent_NH": 13.51
                  },
                  {
                    "index": "272",
                    "year": 2001,
                    "date": "2001-06-15",
                    "extent_NH": 11.456
                  },
                  {
                    "index": "273",
                    "year": 2001,
                    "date": "2001-07-15",
                    "extent_NH": 9.07
                  },
                  {
                    "index": "274",
                    "year": 2001,
                    "date": "2001-08-15",
                    "extent_NH": 7.461
                  },
                  {
                    "index": "275",
                    "year": 2001,
                    "date": "2001-09-15",
                    "extent_NH": 6.732
                  },
                  {
                    "index": "276",
                    "year": 2001,
                    "date": "2001-10-15",
                    "extent_NH": 8.298
                  },
                  {
                    "index": "277",
                    "year": 2001,
                    "date": "2001-11-15",
                    "extent_NH": 10.658
                  },
                  {
                    "index": "278",
                    "year": 2001,
                    "date": "2001-12-15",
                    "extent_NH": 12.491
                  },
                  {
                    "index": "279",
                    "year": 2002,
                    "date": "2002-01-15",
                    "extent_NH": 14.273
                  },
                  {
                    "index": "280",
                    "year": 2002,
                    "date": "2002-02-15",
                    "extent_NH": 15.342
                  },
                  {
                    "index": "281",
                    "year": 2002,
                    "date": "2002-03-15",
                    "extent_NH": 15.349
                  },
                  {
                    "index": "282",
                    "year": 2002,
                    "date": "2002-04-15",
                    "extent_NH": 14.299
                  },
                  {
                    "index": "283",
                    "year": 2002,
                    "date": "2002-05-15",
                    "extent_NH": 12.971
                  },
                  {
                    "index": "284",
                    "year": 2002,
                    "date": "2002-06-15",
                    "extent_NH": 11.583
                  },
                  {
                    "index": "285",
                    "year": 2002,
                    "date": "2002-07-15",
                    "extent_NH": 9.274
                  },
                  {
                    "index": "286",
                    "year": 2002,
                    "date": "2002-08-15",
                    "extent_NH": 6.599
                  },
                  {
                    "index": "287",
                    "year": 2002,
                    "date": "2002-09-15",
                    "extent_NH": 5.827
                  },
                  {
                    "index": "288",
                    "year": 2002,
                    "date": "2002-10-15",
                    "extent_NH": 8.162
                  },
                  {
                    "index": "289",
                    "year": 2002,
                    "date": "2002-11-15",
                    "extent_NH": 10.342
                  },
                  {
                    "index": "290",
                    "year": 2002,
                    "date": "2002-12-15",
                    "extent_NH": 12.608
                  },
                  {
                    "index": "291",
                    "year": 2003,
                    "date": "2003-01-15",
                    "extent_NH": 14.391
                  },
                  {
                    "index": "292",
                    "year": 2003,
                    "date": "2003-02-15",
                    "extent_NH": 15.193
                  },
                  {
                    "index": "293",
                    "year": 2003,
                    "date": "2003-03-15",
                    "extent_NH": 15.485
                  },
                  {
                    "index": "294",
                    "year": 2003,
                    "date": "2003-04-15",
                    "extent_NH": 14.512
                  },
                  {
                    "index": "295",
                    "year": 2003,
                    "date": "2003-05-15",
                    "extent_NH": 13.016
                  },
                  {
                    "index": "296",
                    "year": 2003,
                    "date": "2003-06-15",
                    "extent_NH": 11.604
                  },
                  {
                    "index": "297",
                    "year": 2003,
                    "date": "2003-07-15",
                    "extent_NH": 9.215
                  },
                  {
                    "index": "298",
                    "year": 2003,
                    "date": "2003-08-15",
                    "extent_NH": 6.936
                  },
                  {
                    "index": "299",
                    "year": 2003,
                    "date": "2003-09-15",
                    "extent_NH": 6.116
                  },
                  {
                    "index": "300",
                    "year": 2003,
                    "date": "2003-10-15",
                    "extent_NH": 7.848
                  },
                  {
                    "index": "301",
                    "year": 2003,
                    "date": "2003-11-15",
                    "extent_NH": 10.125
                  },
                  {
                    "index": "302",
                    "year": 2003,
                    "date": "2003-12-15",
                    "extent_NH": 12.588
                  },
                  {
                    "index": "303",
                    "year": 2004,
                    "date": "2004-01-15",
                    "extent_NH": 14.026
                  },
                  {
                    "index": "304",
                    "year": 2004,
                    "date": "2004-02-15",
                    "extent_NH": 14.914
                  },
                  {
                    "index": "305",
                    "year": 2004,
                    "date": "2004-03-15",
                    "extent_NH": 14.993
                  },
                  {
                    "index": "306",
                    "year": 2004,
                    "date": "2004-04-15",
                    "extent_NH": 13.987
                  },
                  {
                    "index": "307",
                    "year": 2004,
                    "date": "2004-05-15",
                    "extent_NH": 12.558
                  },
                  {
                    "index": "308",
                    "year": 2004,
                    "date": "2004-06-15",
                    "extent_NH": 11.447
                  },
                  {
                    "index": "309",
                    "year": 2004,
                    "date": "2004-07-15",
                    "extent_NH": 9.431
                  },
                  {
                    "index": "310",
                    "year": 2004,
                    "date": "2004-08-15",
                    "extent_NH": 6.855
                  },
                  {
                    "index": "311",
                    "year": 2004,
                    "date": "2004-09-15",
                    "extent_NH": 5.984
                  },
                  {
                    "index": "312",
                    "year": 2004,
                    "date": "2004-10-15",
                    "extent_NH": 7.925
                  },
                  {
                    "index": "313",
                    "year": 2004,
                    "date": "2004-11-15",
                    "extent_NH": 10.343
                  },
                  {
                    "index": "314",
                    "year": 2004,
                    "date": "2004-12-15",
                    "extent_NH": 12.554
                  },
                  {
                    "index": "315",
                    "year": 2005,
                    "date": "2005-01-15",
                    "extent_NH": 13.661
                  },
                  {
                    "index": "316",
                    "year": 2005,
                    "date": "2005-02-15",
                    "extent_NH": 14.373
                  },
                  {
                    "index": "317",
                    "year": 2005,
                    "date": "2005-03-15",
                    "extent_NH": 14.687
                  },
                  {
                    "index": "318",
                    "year": 2005,
                    "date": "2005-04-15",
                    "extent_NH": 14.09
                  },
                  {
                    "index": "319",
                    "year": 2005,
                    "date": "2005-05-15",
                    "extent_NH": 12.911
                  },
                  {
                    "index": "320",
                    "year": 2005,
                    "date": "2005-06-15",
                    "extent_NH": 11.162
                  },
                  {
                    "index": "321",
                    "year": 2005,
                    "date": "2005-07-15",
                    "extent_NH": 8.649
                  },
                  {
                    "index": "322",
                    "year": 2005,
                    "date": "2005-08-15",
                    "extent_NH": 6.301
                  },
                  {
                    "index": "323",
                    "year": 2005,
                    "date": "2005-09-15",
                    "extent_NH": 5.504
                  },
                  {
                    "index": "324",
                    "year": 2005,
                    "date": "2005-10-15",
                    "extent_NH": 7.352
                  },
                  {
                    "index": "325",
                    "year": 2005,
                    "date": "2005-11-15",
                    "extent_NH": 10.216
                  },
                  {
                    "index": "326",
                    "year": 2005,
                    "date": "2005-12-15",
                    "extent_NH": 12.228
                  },
                  {
                    "index": "327",
                    "year": 2006,
                    "date": "2006-01-15",
                    "extent_NH": 13.466
                  },
                  {
                    "index": "328",
                    "year": 2006,
                    "date": "2006-02-15",
                    "extent_NH": 14.325
                  },
                  {
                    "index": "329",
                    "year": 2006,
                    "date": "2006-03-15",
                    "extent_NH": 14.421
                  },
                  {
                    "index": "330",
                    "year": 2006,
                    "date": "2006-04-15",
                    "extent_NH": 13.906
                  },
                  {
                    "index": "331",
                    "year": 2006,
                    "date": "2006-05-15",
                    "extent_NH": 12.517
                  },
                  {
                    "index": "332",
                    "year": 2006,
                    "date": "2006-06-15",
                    "extent_NH": 10.92
                  },
                  {
                    "index": "333",
                    "year": 2006,
                    "date": "2006-07-15",
                    "extent_NH": 8.46
                  },
                  {
                    "index": "334",
                    "year": 2006,
                    "date": "2006-08-15",
                    "extent_NH": 6.496
                  },
                  {
                    "index": "335",
                    "year": 2006,
                    "date": "2006-09-15",
                    "extent_NH": 5.862
                  },
                  {
                    "index": "336",
                    "year": 2006,
                    "date": "2006-10-15",
                    "extent_NH": 7.541
                  },
                  {
                    "index": "337",
                    "year": 2006,
                    "date": "2006-11-15",
                    "extent_NH": 9.659
                  },
                  {
                    "index": "338",
                    "year": 2006,
                    "date": "2006-12-15",
                    "extent_NH": 11.955
                  },
                  {
                    "index": "339",
                    "year": 2007,
                    "date": "2007-01-15",
                    "extent_NH": 13.703
                  },
                  {
                    "index": "340",
                    "year": 2007,
                    "date": "2007-02-15",
                    "extent_NH": 14.513
                  },
                  {
                    "index": "341",
                    "year": 2007,
                    "date": "2007-03-15",
                    "extent_NH": 14.542
                  },
                  {
                    "index": "342",
                    "year": 2007,
                    "date": "2007-04-15",
                    "extent_NH": 13.845
                  },
                  {
                    "index": "343",
                    "year": 2007,
                    "date": "2007-05-15",
                    "extent_NH": 12.78
                  },
                  {
                    "index": "344",
                    "year": 2007,
                    "date": "2007-06-15",
                    "extent_NH": 11.22
                  },
                  {
                    "index": "345",
                    "year": 2007,
                    "date": "2007-07-15",
                    "extent_NH": 7.943
                  },
                  {
                    "index": "346",
                    "year": 2007,
                    "date": "2007-08-15",
                    "extent_NH": 5.342
                  },
                  {
                    "index": "347",
                    "year": 2007,
                    "date": "2007-09-15",
                    "extent_NH": 4.267
                  },
                  {
                    "index": "348",
                    "year": 2007,
                    "date": "2007-10-15",
                    "extent_NH": 6.04
                  },
                  {
                    "index": "349",
                    "year": 2007,
                    "date": "2007-11-15",
                    "extent_NH": 9.76
                  },
                  {
                    "index": "350",
                    "year": 2007,
                    "date": "2007-12-15",
                    "extent_NH": 12.034
                  },
                  {
                    "index": "351",
                    "year": 2008,
                    "date": "2008-01-15",
                    "extent_NH": 13.887
                  },
                  {
                    "index": "352",
                    "year": 2008,
                    "date": "2008-02-15",
                    "extent_NH": 14.953
                  },
                  {
                    "index": "353",
                    "year": 2008,
                    "date": "2008-03-15",
                    "extent_NH": 15.179
                  },
                  {
                    "index": "354",
                    "year": 2008,
                    "date": "2008-04-15",
                    "extent_NH": 14.352
                  },
                  {
                    "index": "355",
                    "year": 2008,
                    "date": "2008-05-15",
                    "extent_NH": 12.974
                  },
                  {
                    "index": "356",
                    "year": 2008,
                    "date": "2008-06-15",
                    "extent_NH": 11.208
                  },
                  {
                    "index": "357",
                    "year": 2008,
                    "date": "2008-07-15",
                    "extent_NH": 8.678
                  },
                  {
                    "index": "358",
                    "year": 2008,
                    "date": "2008-08-15",
                    "extent_NH": 5.913
                  },
                  {
                    "index": "359",
                    "year": 2008,
                    "date": "2008-09-15",
                    "extent_NH": 4.687
                  },
                  {
                    "index": "360",
                    "year": 2008,
                    "date": "2008-10-15",
                    "extent_NH": 7.35
                  },
                  {
                    "index": "361",
                    "year": 2008,
                    "date": "2008-11-15",
                    "extent_NH": 10.343
                  },
                  {
                    "index": "362",
                    "year": 2008,
                    "date": "2008-12-15",
                    "extent_NH": 12.359
                  },
                  {
                    "index": "363",
                    "year": 2009,
                    "date": "2009-01-15",
                    "extent_NH": 13.914
                  },
                  {
                    "index": "364",
                    "year": 2009,
                    "date": "2009-02-15",
                    "extent_NH": 14.812
                  },
                  {
                    "index": "365",
                    "year": 2009,
                    "date": "2009-03-15",
                    "extent_NH": 14.984
                  },
                  {
                    "index": "366",
                    "year": 2009,
                    "date": "2009-04-15",
                    "extent_NH": 14.496
                  },
                  {
                    "index": "367",
                    "year": 2009,
                    "date": "2009-05-15",
                    "extent_NH": 13.187
                  },
                  {
                    "index": "368",
                    "year": 2009,
                    "date": "2009-06-15",
                    "extent_NH": 11.32
                  },
                  {
                    "index": "369",
                    "year": 2009,
                    "date": "2009-07-15",
                    "extent_NH": 8.465
                  },
                  {
                    "index": "370",
                    "year": 2009,
                    "date": "2009-08-15",
                    "extent_NH": 6.136
                  },
                  {
                    "index": "371",
                    "year": 2009,
                    "date": "2009-09-15",
                    "extent_NH": 5.262
                  },
                  {
                    "index": "372",
                    "year": 2009,
                    "date": "2009-10-15",
                    "extent_NH": 6.92
                  },
                  {
                    "index": "373",
                    "year": 2009,
                    "date": "2009-11-15",
                    "extent_NH": 9.772
                  },
                  {
                    "index": "374",
                    "year": 2009,
                    "date": "2009-12-15",
                    "extent_NH": 12.2
                  },
                  {
                    "index": "375",
                    "year": 2010,
                    "date": "2010-01-15",
                    "extent_NH": 13.739
                  },
                  {
                    "index": "376",
                    "year": 2010,
                    "date": "2010-02-15",
                    "extent_NH": 14.581
                  },
                  {
                    "index": "377",
                    "year": 2010,
                    "date": "2010-03-15",
                    "extent_NH": 15.137
                  },
                  {
                    "index": "378",
                    "year": 2010,
                    "date": "2010-04-15",
                    "extent_NH": 14.659
                  },
                  {
                    "index": "379",
                    "year": 2010,
                    "date": "2010-05-15",
                    "extent_NH": 12.866
                  },
                  {
                    "index": "380",
                    "year": 2010,
                    "date": "2010-06-15",
                    "extent_NH": 10.585
                  },
                  {
                    "index": "381",
                    "year": 2010,
                    "date": "2010-07-15",
                    "extent_NH": 8.075
                  },
                  {
                    "index": "382",
                    "year": 2010,
                    "date": "2010-08-15",
                    "extent_NH": 5.875
                  },
                  {
                    "index": "383",
                    "year": 2010,
                    "date": "2010-09-15",
                    "extent_NH": 4.865
                  },
                  {
                    "index": "384",
                    "year": 2010,
                    "date": "2010-10-15",
                    "extent_NH": 6.984
                  },
                  {
                    "index": "385",
                    "year": 2010,
                    "date": "2010-11-15",
                    "extent_NH": 9.614
                  },
                  {
                    "index": "386",
                    "year": 2010,
                    "date": "2010-12-15",
                    "extent_NH": 11.831
                  },
                  {
                    "index": "387",
                    "year": 2011,
                    "date": "2011-01-15",
                    "extent_NH": 13.464
                  },
                  {
                    "index": "388",
                    "year": 2011,
                    "date": "2011-02-15",
                    "extent_NH": 14.363
                  },
                  {
                    "index": "389",
                    "year": 2011,
                    "date": "2011-03-15",
                    "extent_NH": 14.546
                  },
                  {
                    "index": "390",
                    "year": 2011,
                    "date": "2011-04-15",
                    "extent_NH": 14.108
                  },
                  {
                    "index": "391",
                    "year": 2011,
                    "date": "2011-05-15",
                    "extent_NH": 12.681
                  },
                  {
                    "index": "392",
                    "year": 2011,
                    "date": "2011-06-15",
                    "extent_NH": 10.749
                  },
                  {
                    "index": "393",
                    "year": 2011,
                    "date": "2011-07-15",
                    "extent_NH": 7.724
                  },
                  {
                    "index": "394",
                    "year": 2011,
                    "date": "2011-08-15",
                    "extent_NH": 5.503
                  },
                  {
                    "index": "395",
                    "year": 2011,
                    "date": "2011-09-15",
                    "extent_NH": 4.561
                  },
                  {
                    "index": "396",
                    "year": 2011,
                    "date": "2011-10-15",
                    "extent_NH": 6.465
                  },
                  {
                    "index": "397",
                    "year": 2011,
                    "date": "2011-11-15",
                    "extent_NH": 9.772
                  },
                  {
                    "index": "398",
                    "year": 2011,
                    "date": "2011-12-15",
                    "extent_NH": 12.154
                  },
                  {
                    "index": "399",
                    "year": 2012,
                    "date": "2012-01-15",
                    "extent_NH": 13.729
                  },
                  {
                    "index": "400",
                    "year": 2012,
                    "date": "2012-02-15",
                    "extent_NH": 14.553
                  },
                  {
                    "index": "401",
                    "year": 2012,
                    "date": "2012-03-15",
                    "extent_NH": 15.196
                  },
                  {
                    "index": "402",
                    "year": 2012,
                    "date": "2012-04-15",
                    "extent_NH": 14.626
                  },
                  {
                    "index": "403",
                    "year": 2012,
                    "date": "2012-05-15",
                    "extent_NH": 13.012
                  },
                  {
                    "index": "404",
                    "year": 2012,
                    "date": "2012-06-15",
                    "extent_NH": 10.674
                  },
                  {
                    "index": "405",
                    "year": 2012,
                    "date": "2012-07-15",
                    "extent_NH": 7.672
                  },
                  {
                    "index": "406",
                    "year": 2012,
                    "date": "2012-08-15",
                    "extent_NH": 4.723
                  },
                  {
                    "index": "407",
                    "year": 2012,
                    "date": "2012-09-15",
                    "extent_NH": 3.566
                  },
                  {
                    "index": "408",
                    "year": 2012,
                    "date": "2012-10-15",
                    "extent_NH": 5.886
                  },
                  {
                    "index": "409",
                    "year": 2012,
                    "date": "2012-11-15",
                    "extent_NH": 9.388
                  },
                  {
                    "index": "410",
                    "year": 2012,
                    "date": "2012-12-15",
                    "extent_NH": 12.006
                  },
                  {
                    "index": "411",
                    "year": 2013,
                    "date": "2013-01-15",
                    "extent_NH": 13.703
                  },
                  {
                    "index": "412",
                    "year": 2013,
                    "date": "2013-02-15",
                    "extent_NH": 14.723
                  },
                  {
                    "index": "413",
                    "year": 2013,
                    "date": "2013-03-15",
                    "extent_NH": 15.032
                  },
                  {
                    "index": "414",
                    "year": 2013,
                    "date": "2013-04-15",
                    "extent_NH": 14.299
                  },
                  {
                    "index": "415",
                    "year": 2013,
                    "date": "2013-05-15",
                    "extent_NH": 12.997
                  },
                  {
                    "index": "416",
                    "year": 2013,
                    "date": "2013-06-15",
                    "extent_NH": 11.36
                  },
                  {
                    "index": "417",
                    "year": 2013,
                    "date": "2013-07-15",
                    "extent_NH": 8.132
                  },
                  {
                    "index": "418",
                    "year": 2013,
                    "date": "2013-08-15",
                    "extent_NH": 6.014
                  },
                  {
                    "index": "419",
                    "year": 2013,
                    "date": "2013-09-15",
                    "extent_NH": 5.208
                  },
                  {
                    "index": "420",
                    "year": 2013,
                    "date": "2013-10-15",
                    "extent_NH": 7.455
                  },
                  {
                    "index": "421",
                    "year": 2013,
                    "date": "2013-11-15",
                    "extent_NH": 9.939
                  },
                  {
                    "index": "422",
                    "year": 2013,
                    "date": "2013-12-15",
                    "extent_NH": 12.184
                  },
                  {
                    "index": "423",
                    "year": 2014,
                    "date": "2014-01-15",
                    "extent_NH": 13.648
                  },
                  {
                    "index": "424",
                    "year": 2014,
                    "date": "2014-02-15",
                    "extent_NH": 14.418
                  },
                  {
                    "index": "425",
                    "year": 2014,
                    "date": "2014-03-15",
                    "extent_NH": 14.758
                  },
                  {
                    "index": "426",
                    "year": 2014,
                    "date": "2014-04-15",
                    "extent_NH": 14.088
                  },
                  {
                    "index": "427",
                    "year": 2014,
                    "date": "2014-05-15",
                    "extent_NH": 12.701
                  },
                  {
                    "index": "428",
                    "year": 2014,
                    "date": "2014-06-15",
                    "extent_NH": 11.033
                  },
                  {
                    "index": "429",
                    "year": 2014,
                    "date": "2014-07-15",
                    "extent_NH": 8.108
                  },
                  {
                    "index": "430",
                    "year": 2014,
                    "date": "2014-08-15",
                    "extent_NH": 6.078
                  },
                  {
                    "index": "431",
                    "year": 2014,
                    "date": "2014-09-15",
                    "extent_NH": 5.22
                  },
                  {
                    "index": "432",
                    "year": 2014,
                    "date": "2014-10-15",
                    "extent_NH": 7.232
                  },
                  {
                    "index": "433",
                    "year": 2014,
                    "date": "2014-11-15",
                    "extent_NH": 10.115
                  },
                  {
                    "index": "434",
                    "year": 2014,
                    "date": "2014-12-15",
                    "extent_NH": 12.353
                  },
                  {
                    "index": "435",
                    "year": 2015,
                    "date": "2015-01-15",
                    "extent_NH": 13.602
                  },
                  {
                    "index": "436",
                    "year": 2015,
                    "date": "2015-02-15",
                    "extent_NH": 14.401
                  },
                  {
                    "index": "437",
                    "year": 2015,
                    "date": "2015-03-15",
                    "extent_NH": 14.37
                  },
                  {
                    "index": "438",
                    "year": 2015,
                    "date": "2015-04-15",
                    "extent_NH": 13.893
                  },
                  {
                    "index": "439",
                    "year": 2015,
                    "date": "2015-05-15",
                    "extent_NH": 12.468
                  },
                  {
                    "index": "440",
                    "year": 2015,
                    "date": "2015-06-15",
                    "extent_NH": 10.879
                  },
                  {
                    "index": "441",
                    "year": 2015,
                    "date": "2015-07-15",
                    "extent_NH": 8.378
                  },
                  {
                    "index": "442",
                    "year": 2015,
                    "date": "2015-08-15",
                    "extent_NH": 5.599
                  },
                  {
                    "index": "443",
                    "year": 2015,
                    "date": "2015-09-15",
                    "extent_NH": 4.616
                  },
                  {
                    "index": "444",
                    "year": 2015,
                    "date": "2015-10-15",
                    "extent_NH": 6.966
                  },
                  {
                    "index": "445",
                    "year": 2015,
                    "date": "2015-11-15",
                    "extent_NH": 9.846
                  },
                  {
                    "index": "446",
                    "year": 2015,
                    "date": "2015-12-15",
                    "extent_NH": 12.045
                  },
                  {
                    "index": "447",
                    "year": 2016,
                    "date": "2016-01-15",
                    "extent_NH": 13.457
                  },
                  {
                    "index": "448",
                    "year": 2016,
                    "date": "2016-02-15",
                    "extent_NH": 14.203
                  },
                  {
                    "index": "449",
                    "year": 2016,
                    "date": "2016-03-15",
                    "extent_NH": 14.4
                  },
                  {
                    "index": "450",
                    "year": 2016,
                    "date": "2016-04-15",
                    "extent_NH": 13.681
                  },
                  {
                    "index": "451",
                    "year": 2016,
                    "date": "2016-05-15",
                    "extent_NH": 11.924
                  },
                  {
                    "index": "452",
                    "year": 2016,
                    "date": "2016-06-15",
                    "extent_NH": 10.413
                  },
                  {
                    "index": "453",
                    "year": 2016,
                    "date": "2016-07-15",
                    "extent_NH": 7.938
                  },
                  {
                    "index": "454",
                    "year": 2016,
                    "date": "2016-08-15",
                    "extent_NH": 5.371
                  },
                  {
                    "index": "455",
                    "year": 2016,
                    "date": "2016-09-15",
                    "extent_NH": 4.528
                  },
                  {
                    "index": "456",
                    "year": 2016,
                    "date": "2016-10-15",
                    "extent_NH": 6.082
                  },
                  {
                    "index": "457",
                    "year": 2016,
                    "date": "2016-11-15",
                    "extent_NH": 8.658
                  },
                  {
                    "index": "458",
                    "year": 2016,
                    "date": "2016-12-15",
                    "extent_NH": 11.459
                  },
                  {
                    "index": "459",
                    "year": 2017,
                    "date": "2017-01-15",
                    "extent_NH": 13.19
                  },
                  {
                    "index": "460",
                    "year": 2017,
                    "date": "2017-02-15",
                    "extent_NH": 14.12
                  },
                  {
                    "index": "461",
                    "year": 2017,
                    "date": "2017-03-15",
                    "extent_NH": 14.29
                  },
                  {
                    "index": "462",
                    "year": 2017,
                    "date": "2017-04-15",
                    "extent_NH": 13.753
                  },
                  {
                    "index": "463",
                    "year": 2017,
                    "date": "2017-05-15",
                    "extent_NH": 12.631
                  },
                  {
                    "index": "464",
                    "year": 2017,
                    "date": "2017-06-15",
                    "extent_NH": 10.756
                  },
                  {
                    "index": "465",
                    "year": 2017,
                    "date": "2017-07-15",
                    "extent_NH": 7.939
                  },
                  {
                    "index": "466",
                    "year": 2017,
                    "date": "2017-08-15",
                    "extent_NH": 5.481
                  },
                  {
                    "index": "467",
                    "year": 2017,
                    "date": "2017-09-15",
                    "extent_NH": 4.822
                  },
                  {
                    "index": "468",
                    "year": 2017,
                    "date": "2017-10-15",
                    "extent_NH": 6.767
                  },
                  {
                    "index": "469",
                    "year": 2017,
                    "date": "2017-11-15",
                    "extent_NH": 9.493
                  },
                  {
                    "index": "470",
                    "year": 2017,
                    "date": "2017-12-15",
                    "extent_NH": 11.743
                  },
                  {
                    "index": "471",
                    "year": 2018,
                    "date": "2018-01-15",
                    "extent_NH": 13.077
                  },
                  {
                    "index": "472",
                    "year": 2018,
                    "date": "2018-02-15",
                    "extent_NH": 13.967
                  },
                  {
                    "index": "473",
                    "year": 2018,
                    "date": "2018-03-15",
                    "extent_NH": 14.298
                  },
                  {
                    "index": "474",
                    "year": 2018,
                    "date": "2018-04-15",
                    "extent_NH": 13.696
                  },
                  {
                    "index": "475",
                    "year": 2018,
                    "date": "2018-05-15",
                    "extent_NH": 12.232
                  },
                  {
                    "index": "476",
                    "year": 2018,
                    "date": "2018-06-15",
                    "extent_NH": 10.778
                  },
                  {
                    "index": "477",
                    "year": 2018,
                    "date": "2018-07-15",
                    "extent_NH": 8.268
                  },
                  {
                    "index": "478",
                    "year": 2018,
                    "date": "2018-08-15",
                    "extent_NH": 5.615
                  },
                  {
                    "index": "479",
                    "year": 2018,
                    "date": "2018-09-15",
                    "extent_NH": 4.785
                  },
                  {
                    "index": "480",
                    "year": 2018,
                    "date": "2018-10-15",
                    "extent_NH": 6.134
                  },
                  {
                    "index": "481",
                    "year": 2018,
                    "date": "2018-11-15",
                    "extent_NH": 9.823
                  },
                  {
                    "index": "482",
                    "year": 2018,
                    "date": "2018-12-15",
                    "extent_NH": 11.862
                  },
                  {
                    "index": "483",
                    "year": 2019,
                    "date": "2019-01-15",
                    "extent_NH": 13.567
                  },
                  {
                    "index": "484",
                    "year": 2019,
                    "date": "2019-02-15",
                    "extent_NH": 14.394
                  },
                  {
                    "index": "485",
                    "year": 2019,
                    "date": "2019-03-15",
                    "extent_NH": 14.574
                  },
                  {
                    "index": "486",
                    "year": 2019,
                    "date": "2019-04-15",
                    "extent_NH": 13.434
                  },
                  {
                    "index": "487",
                    "year": 2019,
                    "date": "2019-05-15",
                    "extent_NH": 12.186
                  },
                  {
                    "index": "488",
                    "year": 2019,
                    "date": "2019-06-15",
                    "extent_NH": 10.594
                  },
                  {
                    "index": "489",
                    "year": 2019,
                    "date": "2019-07-15",
                    "extent_NH": 7.589
                  },
                  {
                    "index": "490",
                    "year": 2019,
                    "date": "2019-08-15",
                    "extent_NH": 5.026
                  },
                  {
                    "index": "491",
                    "year": 2019,
                    "date": "2019-09-15",
                    "extent_NH": 4.364
                  },
                  {
                    "index": "492",
                    "year": 2019,
                    "date": "2019-10-15",
                    "extent_NH": 5.735
                  },
                  {
                    "index": "493",
                    "year": 2019,
                    "date": "2019-11-15",
                    "extent_NH": 9.353
                  },
                  {
                    "index": "494",
                    "year": 2019,
                    "date": "2019-12-15",
                    "extent_NH": 11.903
                  },
                  {
                    "index": "495",
                    "year": 2020,
                    "date": "2020-01-15",
                    "extent_NH": 13.636
                  },
                  {
                    "index": "496",
                    "year": 2020,
                    "date": "2020-02-15",
                    "extent_NH": 14.642
                  },
                  {
                    "index": "497",
                    "year": 2020,
                    "date": "2020-03-15",
                    "extent_NH": 14.73
                  },
                  {
                    "index": "498",
                    "year": 2020,
                    "date": "2020-04-15",
                    "extent_NH": 13.621
                  },
                  {
                    "index": "499",
                    "year": 2020,
                    "date": "2020-05-15",
                    "extent_NH": 12.343
                  },
                  {
                    "index": "500",
                    "year": 2020,
                    "date": "2020-06-15",
                    "extent_NH": 10.593
                  },
                  {
                    "index": "501",
                    "year": 2020,
                    "date": "2020-07-15",
                    "extent_NH": 7.294
                  },
                  {
                    "index": "502",
                    "year": 2020,
                    "date": "2020-08-15",
                    "extent_NH": 5.07
                  },
                  {
                    "index": "503",
                    "year": 2020,
                    "date": "2020-09-15",
                    "extent_NH": 4.001
                  },
                  {
                    "index": "504",
                    "year": 2020,
                    "date": "2020-10-15",
                    "extent_NH": 5.334
                  },
                  {
                    "index": "505",
                    "year": 2020,
                    "date": "2020-11-15",
                    "extent_NH": 8.985
                  },
                  {
                    "index": "506",
                    "year": 2020,
                    "date": "2020-12-15",
                    "extent_NH": 11.729
                  },
                  {
                    "index": "507",
                    "year": 2021,
                    "date": "2021-01-15",
                    "extent_NH": 13.501
                  },
                  {
                    "index": "508",
                    "year": 2021,
                    "date": "2021-02-15",
                    "extent_NH": 14.39
                  },
                  {
                    "index": "509",
                    "year": 2021,
                    "date": "2021-03-15",
                    "extent_NH": 14.658
                  },
                  {
                    "index": "510",
                    "year": 2021,
                    "date": "2021-04-15",
                    "extent_NH": 13.792
                  },
                  {
                    "index": "511",
                    "year": 2021,
                    "date": "2021-05-15",
                    "extent_NH": 12.682
                  },
                  {
                    "index": "512",
                    "year": 2021,
                    "date": "2021-06-15",
                    "extent_NH": 10.765
                  },
                  {
                    "index": "513",
                    "year": 2021,
                    "date": "2021-07-15",
                    "extent_NH": 7.647
                  },
                  {
                    "index": "514",
                    "year": 2021,
                    "date": "2021-08-15",
                    "extent_NH": 5.715
                  },
                  {
                    "index": "515",
                    "year": 2021,
                    "date": "2021-09-15",
                    "extent_NH": 4.952
                  },
                  {
                    "index": "516",
                    "year": 2021,
                    "date": "2021-10-15",
                    "extent_NH": 6.816
                  },
                  {
                    "index": "517",
                    "year": 2021,
                    "date": "2021-11-15",
                    "extent_NH": 9.83
                  },
                  {
                    "index": "518",
                    "year": 2021,
                    "date": "2021-12-15",
                    "extent_NH": 12.152
                  },
                  {
                    "index": "519",
                    "year": 2022,
                    "date": "2022-01-15",
                    "extent_NH": 13.872
                  },
                  {
                    "index": "520",
                    "year": 2022,
                    "date": "2022-02-15",
                    "extent_NH": 14.612
                  },
                  {
                    "index": "521",
                    "year": 2022,
                    "date": "2022-03-15",
                    "extent_NH": 14.586
                  },
                  {
                    "index": "522",
                    "year": 2022,
                    "date": "2022-04-15",
                    "extent_NH": 13.986
                  },
                  {
                    "index": "523",
                    "year": 2022,
                    "date": "2022-05-15",
                    "extent_NH": 12.879
                  },
                  {
                    "index": "524",
                    "year": 2022,
                    "date": "2022-06-15",
                    "extent_NH": 10.875
                  },
                  {
                    "index": "525",
                    "year": 2022,
                    "date": "2022-07-15",
                    "extent_NH": 8.287
                  },
                  {
                    "index": "526",
                    "year": 2022,
                    "date": "2022-08-15",
                    "extent_NH": 5.95
                  },
                  {
                    "index": "527",
                    "year": 2022,
                    "date": "2022-09-15",
                    "extent_NH": 4.897
                  },
                  {
                    "index": "528",
                    "year": 2022,
                    "date": "2022-10-15",
                    "extent_NH": 6.657
                  },
                  {
                    "index": "529",
                    "year": 2022,
                    "date": "2022-11-15",
                    "extent_NH": 9.725
                  },
                  {
                    "index": "530",
                    "year": 2022,
                    "date": "2022-12-15",
                    "extent_NH": 11.892
                  },
                  {
                    "index": "531",
                    "year": 2023,
                    "date": "2023-01-15",
                    "extent_NH": 13.346
                  },
                  {
                    "index": "532",
                    "year": 2023,
                    "date": "2023-02-15",
                    "extent_NH": 14.176
                  },
                  {
                    "index": "533",
                    "year": 2023,
                    "date": "2023-03-15",
                    "extent_NH": 14.44
                  },
                  {
                    "index": "534",
                    "year": 2023,
                    "date": "2023-04-15",
                    "extent_NH": 13.992
                  },
                  {
                    "index": "535",
                    "year": 2023,
                    "date": "2023-05-15",
                    "extent_NH": 12.835
                  },
                  {
                    "index": "536",
                    "year": 2023,
                    "date": "2023-06-15",
                    "extent_NH": 10.963
                  },
                  {
                    "index": "537",
                    "year": 2023,
                    "date": "2023-07-15",
                    "extent_NH": 8.183
                  },
                  {
                    "index": "538",
                    "year": 2023,
                    "date": "2023-08-15",
                    "extent_NH": 5.566
                  },
                  {
                    "index": "539",
                    "year": 2023,
                    "date": "2023-09-15",
                    "extent_NH": 4.371
                  }
                ],
                "schema": {
                  "fields": [
                    {
                      "name": "index",
                      "type": "string"
                    },
                    {
                      "name": "year",
                      "type": "integer"
                    },
                    {
                      "name": "date",
                      "type": "datetime"
                    },
                    {
                      "name": "extent_NH",
                      "type": "float"
                    }
                  ],
                  "pandas_version": "0.20.0",
                  "primaryKey": [
                    "index"
                  ]
                }
              },
              "total_rows": 539,
              "truncation_type": null
            }
          },
          "metadata": {}
        }
      ]
    },
    {
      "source": [
        "# Check if there is still any NA values in the NH_monthly\n",
        "sum(is.na(NH_monthly$extent_NH))"
      ],
      "metadata": {
        "executionCancelledAt": null,
        "executionTime": 45,
        "lastExecutedAt": 1698056472812,
        "lastScheduledRunId": null,
        "lastSuccessfullyExecutedCode": "# Check if there is still any NA values in the NH_monthly\nsum(is.na(NH_monthly$extent_NH))",
        "id": "d4ad6bd8-9c49-40a5-8c07-8fe90c1e4a14",
        "outputId": "41afa995-5b22-43ae-fb27-d0b94a5d2d61"
      },
      "id": "d4ad6bd8-9c49-40a5-8c07-8fe90c1e4a14",
      "cell_type": "code",
      "execution_count": null,
      "outputs": [
        {
          "output_type": "display_data",
          "data": {
            "text/html": "0",
            "text/markdown": "0",
            "text/latex": "0",
            "text/plain": "[1] 0"
          },
          "metadata": {}
        }
      ]
    },
    {
      "source": [
        "# Make a histogram of NH_monthly\n",
        "hist(NH_monthly$extent_NH, main = \"Histogram of NH_monthly Ice Extent\", xlab = \"Extent (million square km)\", ylab = \"Frequency\", breaks = 80)"
      ],
      "metadata": {
        "executionCancelledAt": null,
        "executionTime": 48,
        "lastExecutedAt": 1698056472860,
        "lastScheduledRunId": null,
        "lastSuccessfullyExecutedCode": "# Make a histogram of NH_monthly\nhist(NH_monthly$extent_NH, main = \"Histogram of NH_monthly Ice Extent\", xlab = \"Extent (million square km)\", ylab = \"Frequency\", breaks = 80)",
        "id": "2f59adc4-c11f-4d84-b48e-d3857e260ee1",
        "outputId": "631ac188-d827-4130-e5d9-f061eb65c8bc"
      },
      "id": "2f59adc4-c11f-4d84-b48e-d3857e260ee1",
      "cell_type": "code",
      "execution_count": null,
      "outputs": [
        {
          "output_type": "display_data",
          "data": {
            "text/plain": "Plot with title “Histogram of NH_monthly Ice Extent”",
            "image/png": "[encoded data removed]"
          },
          "metadata": {
            "image/png": {
              "width": 420,
              "height": 420
            }
          }
        }
      ]
    },
    {
      "source": [
        "# Filter NH_monthly data before 2000\n",
        "NH_monthly_before_2000 <- NH_monthly[NH_monthly$date < as.Date(\"2000-01-01\"), ]\n",
        "\n",
        "# Filter NH_monthly data after 2000\n",
        "NH_monthly_after_2000 <- NH_monthly[NH_monthly$date >= as.Date(\"2000-01-01\"), ]\n",
        "\n",
        "# Create a new plot with both density plot, I used bandwidth parameter of 0.6\n",
        "density2groups <- ggplot() +\n",
        "  geom_density(data = NH_monthly_before_2000, aes(x = extent_NH, fill = \"Before 2000\"), alpha = 0.4,bw=0.6) +\n",
        "  geom_density(data = NH_monthly_after_2000, aes(x = extent_NH, fill = \"After 2000\"), alpha = 0.4,bw=0.6) +\n",
        "  xlab(\"Sea Ice Extent (million square km)\") +\n",
        "  ylab(\"Density\") +\n",
        "  labs(title = \"Density Plot of NH_monthly Sea Ice\") +\n",
        "  scale_fill_manual(values = c(\"Before 2000\" = \"blue\", \"After 2000\" = \"red\")) +\n",
        "  xlim(1, 19) +\n",
        "  theme_bw() +\n",
        "  theme(plot.margin = margin(l = 0, r = 0))\n",
        "\n",
        "#ggsave(\"density2groups.png\", plot = density2groups, width = 10, height = 4)\n",
        "print(density2groups)\n",
        "\n",
        "# I used the bandwidth of 0.6 in the density plot.\n",
        "# The bandwidth determine the plot smoothness\n",
        "# The bandwidth is same as the parameter of 'bins number' in a histogram so there is no value as 'The correct one'\n",
        "# I tried till I found one that fit the need\n",
        "# The code below provide an interactive interface to choose a bandwidth.\n",
        "\n",
        "# data(NH_monthly, package = \"MASS\")\n",
        "# source(\"http://homepage.divms.uiowa.edu/~luke/classes/STAT7400/examples/shinydens.R\")\n",
        "# shinyDens(NH_monthly$extent_NH)\n",
        "\n",
        "# The code source\n",
        "# https://homepage.divms.uiowa.edu/~luke/classes/STAT4580-2020/dists.html"
      ],
      "metadata": {
        "executionCancelledAt": null,
        "executionTime": 304,
        "lastExecutedAt": 1698056473164,
        "lastScheduledRunId": null,
        "lastSuccessfullyExecutedCode": "# Filter NH_monthly data before 2000\nNH_monthly_before_2000 <- NH_monthly[NH_monthly$date < as.Date(\"2000-01-01\"), ]\n\n# Filter NH_monthly data after 2000\nNH_monthly_after_2000 <- NH_monthly[NH_monthly$date >= as.Date(\"2000-01-01\"), ]\n\n# Create a new plot with both density plot, I used bandwidth parameter of 0.6\ndensity2groups <- ggplot() +\n  geom_density(data = NH_monthly_before_2000, aes(x = extent_NH, fill = \"Before 2000\"), alpha = 0.4,bw=0.6) +\n  geom_density(data = NH_monthly_after_2000, aes(x = extent_NH, fill = \"After 2000\"), alpha = 0.4,bw=0.6) +\n  xlab(\"Sea Ice Extent (million square km)\") +\n  ylab(\"Density\") +\n  labs(title = \"Density Plot of NH_monthly Sea Ice\") +\n  scale_fill_manual(values = c(\"Before 2000\" = \"blue\", \"After 2000\" = \"red\")) +\n  xlim(1, 19) +\n  theme_bw() +\n  theme(plot.margin = margin(l = 0, r = 0))\n\n#ggsave(\"density2groups.png\", plot = density2groups, width = 10, height = 4)\nprint(density2groups)\n\n# I used the bandwidth of 0.6 in the density plot.\n# The bandwidth determine the plot smoothness\n# The bandwidth is same as the parameter of 'bins number' in a histogram so there is no value as 'The correct one' \n# I tried till I found one that fit the need\n# The code below provide an interactive interface to choose a bandwidth.\n\n# data(NH_monthly, package = \"MASS\")\n# source(\"http://homepage.divms.uiowa.edu/~luke/classes/STAT7400/examples/shinydens.R\")\n# shinyDens(NH_monthly$extent_NH)\n\n# The code source\n# https://homepage.divms.uiowa.edu/~luke/classes/STAT4580-2020/dists.html",
        "outputsMetadata": {
          "0": {
            "height": 56,
            "type": "stream"
          }
        },
        "id": "ce9d2c11-bd14-41a2-a835-db3b3c87ef0f",
        "outputId": "3323254a-aaaf-4530-868d-78f8dae7c983"
      },
      "id": "ce9d2c11-bd14-41a2-a835-db3b3c87ef0f",
      "cell_type": "code",
      "execution_count": null,
      "outputs": [
        {
          "output_type": "display_data",
          "data": {
            "text/plain": "plot without title",
            "image/png": "[encoded data removed]"
          },
          "metadata": {
            "image/png": {
              "width": 420,
              "height": 420
            }
          }
        }
      ]
    },
    {
      "source": [
        "# Filter NH_monthly data from 1978 to 2000\n",
        "NH_monthly_1978_2000 <- NH_monthly[NH_monthly$date >= as.Date(\"1978-01-01\") & NH_monthly$date < as.Date(\"2000-01-01\"),]\n",
        "\n",
        "# Filter NH_monthly data from 1990 to 2010\n",
        "NH_monthly_1990_2010 <- NH_monthly[NH_monthly$date >= as.Date(\"1990-01-01\") & NH_monthly$date < as.Date(\"2010-01-01\"),]\n",
        "\n",
        "# Filter NH_monthly data from 2000 to 2023\n",
        "NH_monthly_2000_2023 <- NH_monthly[NH_monthly$date >= as.Date(\"2000-01-01\") & NH_monthly$date < as.Date(\"2023-01-01\"),]\n",
        "\n",
        "# Create a new plot with three density plots\n",
        "ggplot() +\n",
        "  geom_density(data = NH_monthly_1978_2000, aes(x = extent_NH, fill = \"1978 - 2000\"), alpha = 0.4,bw=0.6) +\n",
        "  geom_density(data = NH_monthly_1990_2010, aes(x = extent_NH, fill = \"1990 - 2010\"), alpha = 0.4,bw=0.6) +\n",
        "  geom_density(data = NH_monthly_2000_2023, aes(x = extent_NH, fill = \"2000 - 2023\"), alpha = 0.4,bw=0.6) +\n",
        "  xlab(\"Sea Ice Extent (million square km)\") +\n",
        "  ylab(\"Density\") +\n",
        "  labs(title = \"Density Plot of NH_monthly Sea Ice\") +\n",
        "  scale_fill_manual(values = c(\"1978 - 2000\" = \"blue\", \"1990 - 2010\" = \"yellow\", \"2000 - 2023\" = \"red\")) +\n",
        "  guides(fill = guide_legend(title = \"Year\")) +\n",
        "  xlim(1, 19) +\n",
        "  theme_bw()"
      ],
      "metadata": {
        "executionCancelledAt": null,
        "executionTime": 335,
        "lastExecutedAt": 1698056473499,
        "lastScheduledRunId": null,
        "lastSuccessfullyExecutedCode": "# Filter NH_monthly data from 1978 to 2000\nNH_monthly_1978_2000 <- NH_monthly[NH_monthly$date >= as.Date(\"1978-01-01\") & NH_monthly$date < as.Date(\"2000-01-01\"),]\n\n# Filter NH_monthly data from 1990 to 2010\nNH_monthly_1990_2010 <- NH_monthly[NH_monthly$date >= as.Date(\"1990-01-01\") & NH_monthly$date < as.Date(\"2010-01-01\"),]\n\n# Filter NH_monthly data from 2000 to 2023\nNH_monthly_2000_2023 <- NH_monthly[NH_monthly$date >= as.Date(\"2000-01-01\") & NH_monthly$date < as.Date(\"2023-01-01\"),]\n\n# Create a new plot with three density plots\nggplot() +\n  geom_density(data = NH_monthly_1978_2000, aes(x = extent_NH, fill = \"1978 - 2000\"), alpha = 0.4,bw=0.6) +\n  geom_density(data = NH_monthly_1990_2010, aes(x = extent_NH, fill = \"1990 - 2010\"), alpha = 0.4,bw=0.6) +\n  geom_density(data = NH_monthly_2000_2023, aes(x = extent_NH, fill = \"2000 - 2023\"), alpha = 0.4,bw=0.6) +\n  xlab(\"Sea Ice Extent (million square km)\") +\n  ylab(\"Density\") +\n  labs(title = \"Density Plot of NH_monthly Sea Ice\") +\n  scale_fill_manual(values = c(\"1978 - 2000\" = \"blue\", \"1990 - 2010\" = \"yellow\", \"2000 - 2023\" = \"red\")) +\n  guides(fill = guide_legend(title = \"Year\")) +\n  xlim(1, 19) +\n  theme_bw()",
        "outputsMetadata": {
          "0": {
            "height": 616,
            "type": "stream"
          }
        },
        "id": "d09e4b10-9fa5-4aee-8a73-04654aa07bf6",
        "outputId": "79c674d7-6b38-453a-c849-74e648be3d71"
      },
      "id": "d09e4b10-9fa5-4aee-8a73-04654aa07bf6",
      "cell_type": "code",
      "execution_count": null,
      "outputs": [
        {
          "output_type": "display_data",
          "data": {
            "text/plain": "plot without title",
            "image/png": "[encoded data removed]"
          },
          "metadata": {
            "image/png": {
              "width": 420,
              "height": 420
            }
          }
        }
      ]
    },
    {
      "source": [
        "# # Save the three density plots as png images then combine them in one gif\n",
        "\n",
        "# ggsave(filename = \"1978_to_2000.png\", plot = ggplot() +\n",
        "#   geom_density(data = NH_monthly_1978_2000, aes(x = extent_NH, fill = \"1978 - 2000\"), alpha = 0.4,bw=0.6) +\n",
        "#   xlab(\"Sea Ice Extent (million square km)\") +\n",
        "#   ylab(\"Density\") +\n",
        "#   labs(title = \"Density Plot of NH_monthly Sea Ice\") +\n",
        "#   scale_fill_manual(values = c(\"1978 - 2000\" = \"blue\", \"1990 - 2010\" = \"yellow\", \"2000 - 2023\" = \"red\")) +\n",
        "#   guides(fill = guide_legend(title = \"Year\")) +\n",
        "#   xlim(1, 19) +\n",
        "#   theme_bw())\n",
        "\n",
        "# ggsave(filename = \"1990_to_2010.png\", plot = ggplot() +\n",
        "#   geom_density(data = NH_monthly_1978_2000, aes(x = extent_NH, fill = \"1978 - 2000\"), alpha = 0.4,bw=0.6) +\n",
        "#   geom_density(data = NH_monthly_1990_2010, aes(x = extent_NH, fill = \"1990 - 2010\"), alpha = 0.4,bw=0.6) +\n",
        "#   xlab(\"Sea Ice Extent (million square km)\") +\n",
        "#   ylab(\"Density\") +\n",
        "#   labs(title = \"Density Plot of NH_monthly Sea Ice\") +\n",
        "#   scale_fill_manual(values = c(\"1978 - 2000\" = \"blue\", \"1990 - 2010\" = \"yellow\", \"2000 - 2023\" = \"red\")) +\n",
        "#   guides(fill = guide_legend(title = \"Year\")) +\n",
        "#   xlim(1, 19) +\n",
        "#   theme_bw())\n",
        "\n",
        "# ggsave(filename = \"2000_to_2023.png\", plot = ggplot() +\n",
        "#   geom_density(data = NH_monthly_1978_2000, aes(x = extent_NH, fill = \"1978 - 2000\"), alpha = 0.4,bw=0.6) +\n",
        "#   geom_density(data = NH_monthly_1990_2010, aes(x = extent_NH, fill = \"1990 - 2010\"), alpha = 0.4,bw=0.6) +\n",
        "#   geom_density(data = NH_monthly_2000_2023, aes(x = extent_NH, fill = \"2000 - 2023\"), alpha = 0.4,bw=0.6) +\n",
        "#   xlab(\"Sea Ice Extent (million square km)\") +\n",
        "#   ylab(\"Density\") +\n",
        "#   labs(title = \"Density Plot of NH_monthly Sea Ice\") +\n",
        "#   scale_fill_manual(values = c(\"1978 - 2000\" = \"blue\", \"1990 - 2010\" = \"yellow\", \"2000 - 2023\" = \"red\")) +\n",
        "#   guides(fill = guide_legend(title = \"Year\")) +\n",
        "#   xlim(1, 19) +\n",
        "#   theme_bw())\n",
        "\n",
        "\n",
        "# # Create a list of the three image filenames\n",
        "# image_files <- c(\"1978_to_2000.png\", \"1990_to_2010.png\", \"2000_to_2023.png\")\n",
        "\n",
        "# # Combine the images into an animated gif\n",
        "# gifski::gifski(image_files, gif_file = \"NH_Monthly_gif_3_phases.gif\")"
      ],
      "metadata": {
        "executionCancelledAt": null,
        "executionTime": 59,
        "lastExecutedAt": 1698056473559,
        "lastScheduledRunId": null,
        "lastSuccessfullyExecutedCode": "# # Save the three density plots as png images then combine them in one gif \n\n# ggsave(filename = \"1978_to_2000.png\", plot = ggplot() +\n#   geom_density(data = NH_monthly_1978_2000, aes(x = extent_NH, fill = \"1978 - 2000\"), alpha = 0.4,bw=0.6) +\n#   xlab(\"Sea Ice Extent (million square km)\") +\n#   ylab(\"Density\") +\n#   labs(title = \"Density Plot of NH_monthly Sea Ice\") +\n#   scale_fill_manual(values = c(\"1978 - 2000\" = \"blue\", \"1990 - 2010\" = \"yellow\", \"2000 - 2023\" = \"red\")) +\n#   guides(fill = guide_legend(title = \"Year\")) +\n#   xlim(1, 19) +\n#   theme_bw())\n\n# ggsave(filename = \"1990_to_2010.png\", plot = ggplot() +\n#   geom_density(data = NH_monthly_1978_2000, aes(x = extent_NH, fill = \"1978 - 2000\"), alpha = 0.4,bw=0.6) +\n#   geom_density(data = NH_monthly_1990_2010, aes(x = extent_NH, fill = \"1990 - 2010\"), alpha = 0.4,bw=0.6) +\n#   xlab(\"Sea Ice Extent (million square km)\") +\n#   ylab(\"Density\") +\n#   labs(title = \"Density Plot of NH_monthly Sea Ice\") +\n#   scale_fill_manual(values = c(\"1978 - 2000\" = \"blue\", \"1990 - 2010\" = \"yellow\", \"2000 - 2023\" = \"red\")) +\n#   guides(fill = guide_legend(title = \"Year\")) +\n#   xlim(1, 19) +\n#   theme_bw())\n\n# ggsave(filename = \"2000_to_2023.png\", plot = ggplot() +\n#   geom_density(data = NH_monthly_1978_2000, aes(x = extent_NH, fill = \"1978 - 2000\"), alpha = 0.4,bw=0.6) +\n#   geom_density(data = NH_monthly_1990_2010, aes(x = extent_NH, fill = \"1990 - 2010\"), alpha = 0.4,bw=0.6) +\n#   geom_density(data = NH_monthly_2000_2023, aes(x = extent_NH, fill = \"2000 - 2023\"), alpha = 0.4,bw=0.6) +\n#   xlab(\"Sea Ice Extent (million square km)\") +\n#   ylab(\"Density\") +\n#   labs(title = \"Density Plot of NH_monthly Sea Ice\") +\n#   scale_fill_manual(values = c(\"1978 - 2000\" = \"blue\", \"1990 - 2010\" = \"yellow\", \"2000 - 2023\" = \"red\")) +\n#   guides(fill = guide_legend(title = \"Year\")) +\n#   xlim(1, 19) +\n#   theme_bw())\n\n\n# # Create a list of the three image filenames\n# image_files <- c(\"1978_to_2000.png\", \"1990_to_2010.png\", \"2000_to_2023.png\")\n\n# # Combine the images into an animated gif\n# gifski::gifski(image_files, gif_file = \"NH_Monthly_gif_3_phases.gif\")",
        "outputsMetadata": {
          "0": {
            "height": 76,
            "type": "stream"
          },
          "1": {
            "height": 134,
            "type": "stream"
          },
          "2": {
            "height": 37,
            "type": "stream"
          }
        },
        "id": "c394cb8f-a542-4618-b2ba-ebc35b6090d0"
      },
      "id": "c394cb8f-a542-4618-b2ba-ebc35b6090d0",
      "cell_type": "code",
      "execution_count": null,
      "outputs": []
    },
    {
      "source": [
        "Here is the animated gif for the periods 1978_to_2000, 1990_to_2010, and 2000_to_2023:\n",
        "\n",
        "![animated gif](https://raw.githubusercontent.com/alatieh/Statistics-of-the-Sea-Ice/main/figures/NH_Monthly_gif_3_phases.gif)"
      ],
      "metadata": {
        "id": "a32735ac-67f4-4f15-99ea-6d44838c5c5f"
      },
      "cell_type": "markdown",
      "id": "a32735ac-67f4-4f15-99ea-6d44838c5c5f"
    },
    {
      "source": [
        "plot_to_animate <- ggplot() +\n",
        "  geom_density(data = NH_monthly, aes(x = extent_NH, fill = \"blue\"), alpha = 0.4,bw=0.6) +\n",
        "  xlab(\"NH Sea Ice Extent (million square km)\") +\n",
        "  ylab(\"Density\") +\n",
        "  labs(title = \"Density Plot of NH_monthly Sea Ice\") +\n",
        "  xlim(1, 19) +\n",
        "  theme_bw()+\n",
        "  theme(legend.position = \"none\")\n",
        "\n",
        "print(plot_to_animate)"
      ],
      "metadata": {
        "executionCancelledAt": null,
        "executionTime": 204,
        "lastExecutedAt": 1698056473764,
        "lastScheduledRunId": null,
        "lastSuccessfullyExecutedCode": "plot_to_animate <- ggplot() +\n  geom_density(data = NH_monthly, aes(x = extent_NH, fill = \"blue\"), alpha = 0.4,bw=0.6) +\n  xlab(\"NH Sea Ice Extent (million square km)\") +\n  ylab(\"Density\") +\n  labs(title = \"Density Plot of NH_monthly Sea Ice\") +\n  xlim(1, 19) +\n  theme_bw()+\n  theme(legend.position = \"none\")\n\nprint(plot_to_animate)",
        "id": "305de07a-8871-4569-bf5c-7e1e09152118",
        "outputId": "bc7cff59-0d57-4e80-f049-1282521ca28e"
      },
      "id": "305de07a-8871-4569-bf5c-7e1e09152118",
      "cell_type": "code",
      "execution_count": null,
      "outputs": [
        {
          "output_type": "display_data",
          "data": {
            "text/plain": "plot without title",
            "image/png": "[encoded data removed]"
          },
          "metadata": {
            "image/png": {
              "width": 420,
              "height": 420
            }
          }
        }
      ]
    },
    {
      "source": [
        "# # I learned this animation in R from\n",
        "# # https://www.datanovia.com/en/blog/gganimate-how-to-create-plots-with-beautiful-animation-in-r/\n",
        "\n",
        "# theme_set(theme_bw())\n",
        "\n",
        "# animated_plot <- plot_to_animate + transition_time(year) +\n",
        "#   labs(title = \"Year: {frame_time}\") +\n",
        "#   shadow_wake(wake_length = 0.1, alpha = FALSE)\n",
        "\n",
        "# # Render the animation as a GIF\n",
        "# animation_monthly_NH <- animate(animated_plot, renderer = gifski_renderer(), width = 800, height = 600)\n",
        "\n",
        "# # Save the animated GIF\n",
        "# anim_save(\"animation_monthly_NH.gif\", animation_monthly_NH)"
      ],
      "metadata": {
        "executionCancelledAt": null,
        "executionTime": 47,
        "lastExecutedAt": 1698056473811,
        "lastScheduledRunId": null,
        "lastSuccessfullyExecutedCode": "# # I learned this animation in R from\n# # https://www.datanovia.com/en/blog/gganimate-how-to-create-plots-with-beautiful-animation-in-r/\n\n# theme_set(theme_bw())\n\n# animated_plot <- plot_to_animate + transition_time(year) +\n#   labs(title = \"Year: {frame_time}\") +\n#   shadow_wake(wake_length = 0.1, alpha = FALSE)\n\n# # Render the animation as a GIF\n# animation_monthly_NH <- animate(animated_plot, renderer = gifski_renderer(), width = 800, height = 600)\n\n# # Save the animated GIF\n# anim_save(\"animation_monthly_NH.gif\", animation_monthly_NH)",
        "outputsMetadata": {
          "0": {
            "height": 95,
            "type": "stream"
          }
        },
        "id": "e851002c-ad5f-48ab-a26a-1040e23410c9"
      },
      "id": "e851002c-ad5f-48ab-a26a-1040e23410c9",
      "cell_type": "code",
      "execution_count": null,
      "outputs": []
    },
    {
      "source": [
        "Here is the animated histogram for a year by year\n",
        "\n",
        "![animated_plot.gif](https://raw.githubusercontent.com/alatieh/Statistics-of-the-Sea-Ice/main/figures/animation_monthly_NH.gif)\n",
        "\n",
        "\n"
      ],
      "metadata": {
        "id": "c213a8b2-2445-40bb-b5a1-40f9f28defe9"
      },
      "cell_type": "markdown",
      "id": "c213a8b2-2445-40bb-b5a1-40f9f28defe9"
    },
    {
      "source": [
        "### Annual North Hemisphere sea ice ``NH_annual``"
      ],
      "metadata": {
        "id": "397b54f7-78f0-4f23-8ce8-191c5d8e619c"
      },
      "cell_type": "markdown",
      "id": "397b54f7-78f0-4f23-8ce8-191c5d8e619c"
    },
    {
      "source": [
        "# Calculate the annual average value based on NH_monthly\n",
        "NH_annual <- aggregate(extent_NH ~ year, data = NH_monthly, FUN = mean)\n",
        "\n",
        "# Convert the year column to date format\n",
        "NH_annual$year <- as.Date(paste0(NH_annual$year, \"-06-15\"))\n",
        "\n",
        "# Remove the first and last year from NH_annual because there are no enough measurments in 1978 and 2023 yet\n",
        "NH_annual <- NH_annual[-c(1, nrow(NH_annual)), ]\n",
        "\n",
        "NH_annual"
      ],
      "metadata": {
        "executionCancelledAt": null,
        "executionTime": 111,
        "lastExecutedAt": 1698056473923,
        "lastScheduledRunId": null,
        "lastSuccessfullyExecutedCode": "# Calculate the annual average value based on NH_monthly\nNH_annual <- aggregate(extent_NH ~ year, data = NH_monthly, FUN = mean)\n\n# Convert the year column to date format\nNH_annual$year <- as.Date(paste0(NH_annual$year, \"-06-15\"))\n\n# Remove the first and last year from NH_annual because there are no enough measurments in 1978 and 2023 yet\nNH_annual <- NH_annual[-c(1, nrow(NH_annual)), ]\n\nNH_annual",
        "outputsMetadata": {
          "0": {
            "height": 315,
            "type": "dataFrame"
          }
        },
        "id": "81e74e3e-442d-4490-a54b-fbf47ecc7fdc",
        "outputId": "83dc42ec-f9f2-472b-d786-e2ec8e638344"
      },
      "cell_type": "code",
      "id": "81e74e3e-442d-4490-a54b-fbf47ecc7fdc",
      "execution_count": null,
      "outputs": [
        {
          "output_type": "display_data",
          "data": {
            "text/html": "<table class=\"dataframe\">\n<caption>A data.frame: 44 × 2</caption>\n<thead>\n\t<tr><th></th><th scope=col>year</th><th scope=col>extent_NH</th></tr>\n\t<tr><th></th><th scope=col>&lt;date&gt;</th><th scope=col>&lt;dbl&gt;</th></tr>\n</thead>\n<tbody>\n\t<tr><th scope=row>2</th><td>1979-06-15</td><td>12.34958</td></tr>\n\t<tr><th scope=row>3</th><td>1980-06-15</td><td>12.34958</td></tr>\n\t<tr><th scope=row>4</th><td>1981-06-15</td><td>12.14725</td></tr>\n\t<tr><th scope=row>5</th><td>1982-06-15</td><td>12.46733</td></tr>\n\t<tr><th scope=row>6</th><td>1983-06-15</td><td>12.35308</td></tr>\n\t<tr><th scope=row>7</th><td>1984-06-15</td><td>11.92042</td></tr>\n\t<tr><th scope=row>8</th><td>1985-06-15</td><td>12.01592</td></tr>\n\t<tr><th scope=row>9</th><td>1986-06-15</td><td>12.22450</td></tr>\n\t<tr><th scope=row>10</th><td>1987-06-15</td><td>12.20550</td></tr>\n\t<tr><th scope=row>11</th><td>1988-06-15</td><td>12.12158</td></tr>\n\t<tr><th scope=row>12</th><td>1989-06-15</td><td>11.98675</td></tr>\n\t<tr><th scope=row>13</th><td>1990-06-15</td><td>11.71650</td></tr>\n\t<tr><th scope=row>14</th><td>1991-06-15</td><td>11.77025</td></tr>\n\t<tr><th scope=row>15</th><td>1992-06-15</td><td>12.12108</td></tr>\n\t<tr><th scope=row>16</th><td>1993-06-15</td><td>11.94525</td></tr>\n\t<tr><th scope=row>17</th><td>1994-06-15</td><td>12.03217</td></tr>\n\t<tr><th scope=row>18</th><td>1995-06-15</td><td>11.43792</td></tr>\n\t<tr><th scope=row>19</th><td>1996-06-15</td><td>11.85033</td></tr>\n\t<tr><th scope=row>20</th><td>1997-06-15</td><td>11.68983</td></tr>\n\t<tr><th scope=row>21</th><td>1998-06-15</td><td>11.78042</td></tr>\n\t<tr><th scope=row>22</th><td>1999-06-15</td><td>11.71258</td></tr>\n\t<tr><th scope=row>23</th><td>2000-06-15</td><td>11.51883</td></tr>\n\t<tr><th scope=row>24</th><td>2001-06-15</td><td>11.62192</td></tr>\n\t<tr><th scope=row>25</th><td>2002-06-15</td><td>11.38575</td></tr>\n\t<tr><th scope=row>26</th><td>2003-06-15</td><td>11.41908</td></tr>\n\t<tr><th scope=row>27</th><td>2004-06-15</td><td>11.25142</td></tr>\n\t<tr><th scope=row>28</th><td>2005-06-15</td><td>10.92783</td></tr>\n\t<tr><th scope=row>29</th><td>2006-06-15</td><td>10.79400</td></tr>\n\t<tr><th scope=row>30</th><td>2007-06-15</td><td>10.49908</td></tr>\n\t<tr><th scope=row>31</th><td>2008-06-15</td><td>10.99025</td></tr>\n\t<tr><th scope=row>32</th><td>2009-06-15</td><td>10.95567</td></tr>\n\t<tr><th scope=row>33</th><td>2010-06-15</td><td>10.73425</td></tr>\n\t<tr><th scope=row>34</th><td>2011-06-15</td><td>10.50750</td></tr>\n\t<tr><th scope=row>35</th><td>2012-06-15</td><td>10.41925</td></tr>\n\t<tr><th scope=row>36</th><td>2013-06-15</td><td>10.92050</td></tr>\n\t<tr><th scope=row>37</th><td>2014-06-15</td><td>10.81267</td></tr>\n\t<tr><th scope=row>38</th><td>2015-06-15</td><td>10.58858</td></tr>\n\t<tr><th scope=row>39</th><td>2016-06-15</td><td>10.17617</td></tr>\n\t<tr><th scope=row>40</th><td>2017-06-15</td><td>10.41542</td></tr>\n\t<tr><th scope=row>41</th><td>2018-06-15</td><td>10.37792</td></tr>\n\t<tr><th scope=row>42</th><td>2019-06-15</td><td>10.22658</td></tr>\n\t<tr><th scope=row>43</th><td>2020-06-15</td><td>10.16483</td></tr>\n\t<tr><th scope=row>44</th><td>2021-06-15</td><td>10.57500</td></tr>\n\t<tr><th scope=row>45</th><td>2022-06-15</td><td>10.68483</td></tr>\n</tbody>\n</table>\n",
            "text/markdown": "\nA data.frame: 44 × 2\n\n| <!--/--> | year &lt;date&gt; | extent_NH &lt;dbl&gt; |\n|---|---|---|\n| 2 | 1979-06-15 | 12.34958 |\n| 3 | 1980-06-15 | 12.34958 |\n| 4 | 1981-06-15 | 12.14725 |\n| 5 | 1982-06-15 | 12.46733 |\n| 6 | 1983-06-15 | 12.35308 |\n| 7 | 1984-06-15 | 11.92042 |\n| 8 | 1985-06-15 | 12.01592 |\n| 9 | 1986-06-15 | 12.22450 |\n| 10 | 1987-06-15 | 12.20550 |\n| 11 | 1988-06-15 | 12.12158 |\n| 12 | 1989-06-15 | 11.98675 |\n| 13 | 1990-06-15 | 11.71650 |\n| 14 | 1991-06-15 | 11.77025 |\n| 15 | 1992-06-15 | 12.12108 |\n| 16 | 1993-06-15 | 11.94525 |\n| 17 | 1994-06-15 | 12.03217 |\n| 18 | 1995-06-15 | 11.43792 |\n| 19 | 1996-06-15 | 11.85033 |\n| 20 | 1997-06-15 | 11.68983 |\n| 21 | 1998-06-15 | 11.78042 |\n| 22 | 1999-06-15 | 11.71258 |\n| 23 | 2000-06-15 | 11.51883 |\n| 24 | 2001-06-15 | 11.62192 |\n| 25 | 2002-06-15 | 11.38575 |\n| 26 | 2003-06-15 | 11.41908 |\n| 27 | 2004-06-15 | 11.25142 |\n| 28 | 2005-06-15 | 10.92783 |\n| 29 | 2006-06-15 | 10.79400 |\n| 30 | 2007-06-15 | 10.49908 |\n| 31 | 2008-06-15 | 10.99025 |\n| 32 | 2009-06-15 | 10.95567 |\n| 33 | 2010-06-15 | 10.73425 |\n| 34 | 2011-06-15 | 10.50750 |\n| 35 | 2012-06-15 | 10.41925 |\n| 36 | 2013-06-15 | 10.92050 |\n| 37 | 2014-06-15 | 10.81267 |\n| 38 | 2015-06-15 | 10.58858 |\n| 39 | 2016-06-15 | 10.17617 |\n| 40 | 2017-06-15 | 10.41542 |\n| 41 | 2018-06-15 | 10.37792 |\n| 42 | 2019-06-15 | 10.22658 |\n| 43 | 2020-06-15 | 10.16483 |\n| 44 | 2021-06-15 | 10.57500 |\n| 45 | 2022-06-15 | 10.68483 |\n\n",
            "text/latex": "A data.frame: 44 × 2\n\\begin{tabular}{r|ll}\n  & year & extent\\_NH\\\\\n  & <date> & <dbl>\\\\\n\\hline\n\t2 & 1979-06-15 & 12.34958\\\\\n\t3 & 1980-06-15 & 12.34958\\\\\n\t4 & 1981-06-15 & 12.14725\\\\\n\t5 & 1982-06-15 & 12.46733\\\\\n\t6 & 1983-06-15 & 12.35308\\\\\n\t7 & 1984-06-15 & 11.92042\\\\\n\t8 & 1985-06-15 & 12.01592\\\\\n\t9 & 1986-06-15 & 12.22450\\\\\n\t10 & 1987-06-15 & 12.20550\\\\\n\t11 & 1988-06-15 & 12.12158\\\\\n\t12 & 1989-06-15 & 11.98675\\\\\n\t13 & 1990-06-15 & 11.71650\\\\\n\t14 & 1991-06-15 & 11.77025\\\\\n\t15 & 1992-06-15 & 12.12108\\\\\n\t16 & 1993-06-15 & 11.94525\\\\\n\t17 & 1994-06-15 & 12.03217\\\\\n\t18 & 1995-06-15 & 11.43792\\\\\n\t19 & 1996-06-15 & 11.85033\\\\\n\t20 & 1997-06-15 & 11.68983\\\\\n\t21 & 1998-06-15 & 11.78042\\\\\n\t22 & 1999-06-15 & 11.71258\\\\\n\t23 & 2000-06-15 & 11.51883\\\\\n\t24 & 2001-06-15 & 11.62192\\\\\n\t25 & 2002-06-15 & 11.38575\\\\\n\t26 & 2003-06-15 & 11.41908\\\\\n\t27 & 2004-06-15 & 11.25142\\\\\n\t28 & 2005-06-15 & 10.92783\\\\\n\t29 & 2006-06-15 & 10.79400\\\\\n\t30 & 2007-06-15 & 10.49908\\\\\n\t31 & 2008-06-15 & 10.99025\\\\\n\t32 & 2009-06-15 & 10.95567\\\\\n\t33 & 2010-06-15 & 10.73425\\\\\n\t34 & 2011-06-15 & 10.50750\\\\\n\t35 & 2012-06-15 & 10.41925\\\\\n\t36 & 2013-06-15 & 10.92050\\\\\n\t37 & 2014-06-15 & 10.81267\\\\\n\t38 & 2015-06-15 & 10.58858\\\\\n\t39 & 2016-06-15 & 10.17617\\\\\n\t40 & 2017-06-15 & 10.41542\\\\\n\t41 & 2018-06-15 & 10.37792\\\\\n\t42 & 2019-06-15 & 10.22658\\\\\n\t43 & 2020-06-15 & 10.16483\\\\\n\t44 & 2021-06-15 & 10.57500\\\\\n\t45 & 2022-06-15 & 10.68483\\\\\n\\end{tabular}\n",
            "text/plain": "   year       extent_NH\n2  1979-06-15 12.34958 \n3  1980-06-15 12.34958 \n4  1981-06-15 12.14725 \n5  1982-06-15 12.46733 \n6  1983-06-15 12.35308 \n7  1984-06-15 11.92042 \n8  1985-06-15 12.01592 \n9  1986-06-15 12.22450 \n10 1987-06-15 12.20550 \n11 1988-06-15 12.12158 \n12 1989-06-15 11.98675 \n13 1990-06-15 11.71650 \n14 1991-06-15 11.77025 \n15 1992-06-15 12.12108 \n16 1993-06-15 11.94525 \n17 1994-06-15 12.03217 \n18 1995-06-15 11.43792 \n19 1996-06-15 11.85033 \n20 1997-06-15 11.68983 \n21 1998-06-15 11.78042 \n22 1999-06-15 11.71258 \n23 2000-06-15 11.51883 \n24 2001-06-15 11.62192 \n25 2002-06-15 11.38575 \n26 2003-06-15 11.41908 \n27 2004-06-15 11.25142 \n28 2005-06-15 10.92783 \n29 2006-06-15 10.79400 \n30 2007-06-15 10.49908 \n31 2008-06-15 10.99025 \n32 2009-06-15 10.95567 \n33 2010-06-15 10.73425 \n34 2011-06-15 10.50750 \n35 2012-06-15 10.41925 \n36 2013-06-15 10.92050 \n37 2014-06-15 10.81267 \n38 2015-06-15 10.58858 \n39 2016-06-15 10.17617 \n40 2017-06-15 10.41542 \n41 2018-06-15 10.37792 \n42 2019-06-15 10.22658 \n43 2020-06-15 10.16483 \n44 2021-06-15 10.57500 \n45 2022-06-15 10.68483 ",
            "application/com.datacamp.data-table.v1+json": {
              "table": {
                "data": [
                  {
                    "index": "2",
                    "year": "1979-06-15",
                    "extent_NH": 12.3496
                  },
                  {
                    "index": "3",
                    "year": "1980-06-15",
                    "extent_NH": 12.3496
                  },
                  {
                    "index": "4",
                    "year": "1981-06-15",
                    "extent_NH": 12.1472
                  },
                  {
                    "index": "5",
                    "year": "1982-06-15",
                    "extent_NH": 12.4673
                  },
                  {
                    "index": "6",
                    "year": "1983-06-15",
                    "extent_NH": 12.3531
                  },
                  {
                    "index": "7",
                    "year": "1984-06-15",
                    "extent_NH": 11.9204
                  },
                  {
                    "index": "8",
                    "year": "1985-06-15",
                    "extent_NH": 12.0159
                  },
                  {
                    "index": "9",
                    "year": "1986-06-15",
                    "extent_NH": 12.2245
                  },
                  {
                    "index": "10",
                    "year": "1987-06-15",
                    "extent_NH": 12.2055
                  },
                  {
                    "index": "11",
                    "year": "1988-06-15",
                    "extent_NH": 12.1216
                  },
                  {
                    "index": "12",
                    "year": "1989-06-15",
                    "extent_NH": 11.9868
                  },
                  {
                    "index": "13",
                    "year": "1990-06-15",
                    "extent_NH": 11.7165
                  },
                  {
                    "index": "14",
                    "year": "1991-06-15",
                    "extent_NH": 11.7703
                  },
                  {
                    "index": "15",
                    "year": "1992-06-15",
                    "extent_NH": 12.1211
                  },
                  {
                    "index": "16",
                    "year": "1993-06-15",
                    "extent_NH": 11.9452
                  },
                  {
                    "index": "17",
                    "year": "1994-06-15",
                    "extent_NH": 12.0322
                  },
                  {
                    "index": "18",
                    "year": "1995-06-15",
                    "extent_NH": 11.4379
                  },
                  {
                    "index": "19",
                    "year": "1996-06-15",
                    "extent_NH": 11.8503
                  },
                  {
                    "index": "20",
                    "year": "1997-06-15",
                    "extent_NH": 11.6898
                  },
                  {
                    "index": "21",
                    "year": "1998-06-15",
                    "extent_NH": 11.7804
                  },
                  {
                    "index": "22",
                    "year": "1999-06-15",
                    "extent_NH": 11.7126
                  },
                  {
                    "index": "23",
                    "year": "2000-06-15",
                    "extent_NH": 11.5188
                  },
                  {
                    "index": "24",
                    "year": "2001-06-15",
                    "extent_NH": 11.6219
                  },
                  {
                    "index": "25",
                    "year": "2002-06-15",
                    "extent_NH": 11.3857
                  },
                  {
                    "index": "26",
                    "year": "2003-06-15",
                    "extent_NH": 11.4191
                  },
                  {
                    "index": "27",
                    "year": "2004-06-15",
                    "extent_NH": 11.2514
                  },
                  {
                    "index": "28",
                    "year": "2005-06-15",
                    "extent_NH": 10.9278
                  },
                  {
                    "index": "29",
                    "year": "2006-06-15",
                    "extent_NH": 10.794
                  },
                  {
                    "index": "30",
                    "year": "2007-06-15",
                    "extent_NH": 10.4991
                  },
                  {
                    "index": "31",
                    "year": "2008-06-15",
                    "extent_NH": 10.9902
                  },
                  {
                    "index": "32",
                    "year": "2009-06-15",
                    "extent_NH": 10.9557
                  },
                  {
                    "index": "33",
                    "year": "2010-06-15",
                    "extent_NH": 10.7342
                  },
                  {
                    "index": "34",
                    "year": "2011-06-15",
                    "extent_NH": 10.5075
                  },
                  {
                    "index": "35",
                    "year": "2012-06-15",
                    "extent_NH": 10.4192
                  },
                  {
                    "index": "36",
                    "year": "2013-06-15",
                    "extent_NH": 10.9205
                  },
                  {
                    "index": "37",
                    "year": "2014-06-15",
                    "extent_NH": 10.8127
                  },
                  {
                    "index": "38",
                    "year": "2015-06-15",
                    "extent_NH": 10.5886
                  },
                  {
                    "index": "39",
                    "year": "2016-06-15",
                    "extent_NH": 10.1762
                  },
                  {
                    "index": "40",
                    "year": "2017-06-15",
                    "extent_NH": 10.4154
                  },
                  {
                    "index": "41",
                    "year": "2018-06-15",
                    "extent_NH": 10.3779
                  },
                  {
                    "index": "42",
                    "year": "2019-06-15",
                    "extent_NH": 10.2266
                  },
                  {
                    "index": "43",
                    "year": "2020-06-15",
                    "extent_NH": 10.1648
                  },
                  {
                    "index": "44",
                    "year": "2021-06-15",
                    "extent_NH": 10.575
                  },
                  {
                    "index": "45",
                    "year": "2022-06-15",
                    "extent_NH": 10.6848
                  }
                ],
                "schema": {
                  "fields": [
                    {
                      "name": "index",
                      "type": "string"
                    },
                    {
                      "name": "year",
                      "type": "datetime"
                    },
                    {
                      "name": "extent_NH",
                      "type": "float"
                    }
                  ],
                  "pandas_version": "0.20.0",
                  "primaryKey": [
                    "index"
                  ]
                }
              },
              "total_rows": 44,
              "truncation_type": null
            }
          },
          "metadata": {}
        }
      ]
    },
    {
      "source": [
        "ggplot(NH_annual, aes(x = year, y = extent_NH)) +\n",
        "  geom_line() +\n",
        "  geom_point() +\n",
        "  labs(y = \"NH Sea Ice Extent (square million km)\", title=\"Annual NH Sea Ice Extenet\")"
      ],
      "metadata": {
        "executionCancelledAt": null,
        "executionTime": 243,
        "lastExecutedAt": 1698056474167,
        "lastScheduledRunId": null,
        "lastSuccessfullyExecutedCode": "ggplot(NH_annual, aes(x = year, y = extent_NH)) +\n  geom_line() +\n  geom_point() +\n  labs(y = \"NH Sea Ice Extent (square million km)\", title=\"Annual NH Sea Ice Extenet\")",
        "outputsMetadata": {
          "0": {
            "height": 616,
            "type": "stream"
          }
        },
        "id": "7f534920-b0bc-4f64-8918-9ed02e79d526",
        "outputId": "495eb947-f3c4-472f-a66c-1f387d10db94"
      },
      "cell_type": "code",
      "id": "7f534920-b0bc-4f64-8918-9ed02e79d526",
      "execution_count": null,
      "outputs": [
        {
          "output_type": "display_data",
          "data": {
            "text/plain": "plot without title",
            "image/png": "[encoded data removed]"
          },
          "metadata": {
            "image/png": {
              "width": 420,
              "height": 420
            }
          }
        }
      ]
    },
    {
      "source": [
        "ggplot() +\n",
        "  geom_line(data = NH_monthly, aes(x = date, y = extent_NH), color = \"blue\") +\n",
        "  geom_line(data = NH_annual, aes(x = year, y = extent_NH), color = \"red\") +\n",
        "  xlab(\"Time\") +\n",
        "  ylab(\"million square km\") +\n",
        "  labs(title = \"The Northern Hemisphere Ice Extent over Time\")\n"
      ],
      "metadata": {
        "executionCancelledAt": null,
        "executionTime": 245,
        "lastExecutedAt": 1698056474413,
        "lastScheduledRunId": null,
        "lastSuccessfullyExecutedCode": "ggplot() +\n  geom_line(data = NH_monthly, aes(x = date, y = extent_NH), color = \"blue\") +\n  geom_line(data = NH_annual, aes(x = year, y = extent_NH), color = \"red\") +\n  xlab(\"Time\") +\n  ylab(\"million square km\") +\n  labs(title = \"The Northern Hemisphere Ice Extent over Time\")\n",
        "outputsMetadata": {
          "0": {
            "height": 616,
            "type": "stream"
          }
        },
        "id": "b6e3e880-e1f5-4460-9621-519ad63ab766",
        "outputId": "7451e222-1869-4b1b-e529-6bd1807f7116"
      },
      "cell_type": "code",
      "id": "b6e3e880-e1f5-4460-9621-519ad63ab766",
      "execution_count": null,
      "outputs": [
        {
          "output_type": "display_data",
          "data": {
            "text/plain": "plot without title",
            "image/png": "[encoded data removed]"
          },
          "metadata": {
            "image/png": {
              "width": 420,
              "height": 420
            }
          }
        }
      ]
    },
    {
      "source": [
        "# Make a histogram of the data in NH annual\n",
        "hist(NH_annual$extent_NH, main = \"Annual NH Ice Extent\", xlab = \"Extent (million square km)\", ylab = \"Frequency\", breaks = 20)"
      ],
      "metadata": {
        "executionCancelledAt": null,
        "executionTime": 91,
        "lastExecutedAt": 1698056474504,
        "lastScheduledRunId": null,
        "lastSuccessfullyExecutedCode": "# Make a histogram of the data in NH annual\nhist(NH_annual$extent_NH, main = \"Annual NH Ice Extent\", xlab = \"Extent (million square km)\", ylab = \"Frequency\", breaks = 20)",
        "id": "6b1d74e5-9294-4dba-96d9-14d0cea63cce",
        "outputId": "14e67e43-e265-497e-f545-d890dba50c0b"
      },
      "id": "6b1d74e5-9294-4dba-96d9-14d0cea63cce",
      "cell_type": "code",
      "execution_count": null,
      "outputs": [
        {
          "output_type": "display_data",
          "data": {
            "text/plain": "Plot with title “Annual NH Ice Extent”",
            "image/png": "[encoded data removed]"
          },
          "metadata": {
            "image/png": {
              "width": 420,
              "height": 420
            }
          }
        }
      ]
    },
    {
      "source": [
        "ggplot(data = NH_annual, aes(x = extent_NH)) +\n",
        "  geom_density() +\n",
        "  xlab(\"Sea Ice Extent (million square km)\") +\n",
        "  ylab(\"Density\") +\n",
        "  labs(title = \"Density Plot of NH_monthly Data\")"
      ],
      "metadata": {
        "executionCancelledAt": null,
        "executionTime": 219,
        "lastExecutedAt": 1698056474723,
        "lastScheduledRunId": null,
        "lastSuccessfullyExecutedCode": "ggplot(data = NH_annual, aes(x = extent_NH)) +\n  geom_density() +\n  xlab(\"Sea Ice Extent (million square km)\") +\n  ylab(\"Density\") +\n  labs(title = \"Density Plot of NH_monthly Data\")",
        "outputsMetadata": {
          "0": {
            "height": 616,
            "type": "stream"
          }
        },
        "id": "809d9c69-f7e5-4127-a72d-4aefe54acdb5",
        "outputId": "7abc154d-be7e-4f93-8cf8-92c91542888b"
      },
      "id": "809d9c69-f7e5-4127-a72d-4aefe54acdb5",
      "cell_type": "code",
      "execution_count": null,
      "outputs": [
        {
          "output_type": "display_data",
          "data": {
            "text/plain": "plot without title",
            "image/png": "[encoded data removed]"
          },
          "metadata": {
            "image/png": {
              "width": 420,
              "height": 420
            }
          }
        }
      ]
    },
    {
      "source": [
        "# I learned about density plot from\n",
        "# https://clauswilke.com/dataviz/histograms-density-plots.html\n",
        "# https://homepage.divms.uiowa.edu/~luke/classes/STAT4580/histdens.html\n",
        "plot(density(NH_annual$extent_NH))\n",
        "rug(jitter(NH_annual$extent_NH))"
      ],
      "metadata": {
        "executionCancelledAt": null,
        "executionTime": 53,
        "lastExecutedAt": 1698056474777,
        "lastScheduledRunId": null,
        "lastSuccessfullyExecutedCode": "# I learned about density plot from\n# https://clauswilke.com/dataviz/histograms-density-plots.html\n# https://homepage.divms.uiowa.edu/~luke/classes/STAT4580/histdens.html\nplot(density(NH_annual$extent_NH))\nrug(jitter(NH_annual$extent_NH))",
        "id": "db38c4a1-3abb-47fa-8d06-aa286f5928f3",
        "outputId": "6927092e-3521-4b15-ea66-af1b0d359f1c"
      },
      "id": "db38c4a1-3abb-47fa-8d06-aa286f5928f3",
      "cell_type": "code",
      "execution_count": null,
      "outputs": [
        {
          "output_type": "display_data",
          "data": {
            "text/plain": "Plot with title “density.default(x = NH_annual$extent_NH)”",
            "image/png": "[encoded data removed]"
          },
          "metadata": {
            "image/png": {
              "width": 420,
              "height": 420
            }
          }
        }
      ]
    },
    {
      "source": [
        "library(lattice)\n",
        "densityplot(~ extent_NH, data = NH_annual)"
      ],
      "metadata": {
        "executionCancelledAt": null,
        "executionTime": 150,
        "lastExecutedAt": 1698056474927,
        "lastScheduledRunId": null,
        "lastSuccessfullyExecutedCode": "library(lattice)\ndensityplot(~ extent_NH, data = NH_annual)",
        "id": "02b74619-d5a6-46ac-9b11-a86d5bc28d6e",
        "outputId": "b1c7ebb2-e2b0-44fc-d25d-2b7f7fa8fdb5"
      },
      "id": "02b74619-d5a6-46ac-9b11-a86d5bc28d6e",
      "cell_type": "code",
      "execution_count": null,
      "outputs": [
        {
          "output_type": "display_data",
          "data": {
            "text/plain": "plot without title",
            "image/png": "[encoded data removed]"
          },
          "metadata": {
            "image/png": {
              "width": 420,
              "height": 420
            }
          }
        }
      ]
    }
  ],
  "metadata": {
    "language_info": {
      "name": "R",
      "codemirror_mode": "r",
      "pygments_lexer": "r",
      "mimetype": "text/x-r-source",
      "file_extension": ".r",
      "version": "4.2.1"
    },
    "kernelspec": {
      "display_name": "R",
      "language": "R",
      "name": "ir"
    },
    "editor": "DataCamp Workspace",
    "colab": {
      "provenance": [],
      "toc_visible": true,
      "include_colab_link": true
    }
  },
  "nbformat": 4,
  "nbformat_minor": 5
}